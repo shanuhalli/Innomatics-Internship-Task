{
 "cells": [
  {
   "cell_type": "markdown",
   "id": "3d31c232",
   "metadata": {},
   "source": [
    "# Subdomain : Math"
   ]
  },
  {
   "cell_type": "markdown",
   "id": "a61803ad",
   "metadata": {},
   "source": [
    "## Porblem 1 : Polar Coordinates\n",
    "* **You are given a complex z. Your task is to convert it to polar coordinates.**"
   ]
  },
  {
   "cell_type": "code",
   "execution_count": 1,
   "id": "e262790b",
   "metadata": {},
   "outputs": [
    {
     "name": "stdout",
     "output_type": "stream",
     "text": [
      "1+2j\n",
      "2.23606797749979\n",
      "1.1071487177940904\n"
     ]
    }
   ],
   "source": [
    "import cmath\n",
    "\n",
    "z = complex(input())\n",
    "p = cmath.polar(z)\n",
    "print(p[0])\n",
    "print(p[1])"
   ]
  },
  {
   "cell_type": "markdown",
   "id": "4c6300c3",
   "metadata": {},
   "source": [
    "## Porblem 2 : Find Angle MBC\n",
    "* **ABC is a right triangle, 90° at B.**\n",
    "* **Therefore, angle ABC = 90°.**\n",
    "* **Point M is the midpoint of hypotenuse AC.**\n",
    "\n",
    "**You are given the lengths AB and BC.\n",
    "Your task is to find angle MBC (angle theta, as shown in figure) in degrees**"
   ]
  },
  {
   "cell_type": "code",
   "execution_count": 2,
   "id": "141d9169",
   "metadata": {},
   "outputs": [
    {
     "name": "stdout",
     "output_type": "stream",
     "text": [
      "10\n",
      "10\n",
      "45°\n"
     ]
    }
   ],
   "source": [
    "import math\n",
    "\n",
    "ab = float(input())\n",
    "bc = float(input())\n",
    "\n",
    "h  = math.sqrt(ab**2+bc**2)\n",
    "c  = math.atan(ab/bc)\n",
    "\n",
    "mc = h / 2\n",
    "mb = math.sqrt(bc**2+mc**2-(2*bc*mc*math.cos(c)))\n",
    "mbc = math.asin(mc*(math.sin(c)/mb))\n",
    "output = round(math.degrees(mbc))\n",
    "\n",
    "output = str(output)\n",
    "print(output+u\"\\N{DEGREE SIGN}\")"
   ]
  },
  {
   "cell_type": "markdown",
   "id": "e4d2d69b",
   "metadata": {},
   "source": [
    "## Porblem 3 : Mod Divmod\n",
    "* **Read in two integers, a and b, and print three lines.**\n",
    "* **The first line is the integer division a//b (While using Python2 remember to import division from __future__).**\n",
    "* **The second line is the result of the modulo operator: a%b.**\n",
    "* **The third line prints the divmod of a and b.**"
   ]
  },
  {
   "cell_type": "code",
   "execution_count": 3,
   "id": "3c85ad84",
   "metadata": {},
   "outputs": [
    {
     "name": "stdout",
     "output_type": "stream",
     "text": [
      "177\n",
      "10\n",
      "17\n",
      "7\n",
      "(17, 7)\n"
     ]
    }
   ],
   "source": [
    "a = int(input())\n",
    "b = int(input())\n",
    "\n",
    "print(a//b)\n",
    "print(a%b)\n",
    "print(divmod(a,b))"
   ]
  },
  {
   "cell_type": "markdown",
   "id": "23571f3b",
   "metadata": {},
   "source": [
    "## Porblem 4 : Power - Mod Power\n",
    "* **You are given three integers: a, b, and m. Print two lines.**\n",
    "* **On the first line, print the result of pow(a,b). On the second line, print the result of pow(a,b,m).**"
   ]
  },
  {
   "cell_type": "code",
   "execution_count": 4,
   "id": "1a37a33f",
   "metadata": {},
   "outputs": [
    {
     "name": "stdout",
     "output_type": "stream",
     "text": [
      "3\n",
      "4\n",
      "5\n",
      "81\n",
      "1\n"
     ]
    }
   ],
   "source": [
    "a = int(input())\n",
    "b = int(input())\n",
    "m = int(input())\n",
    "\n",
    "print(pow(a, b))\n",
    "print(pow(a, b, m))"
   ]
  },
  {
   "cell_type": "markdown",
   "id": "d0cf0e69",
   "metadata": {},
   "source": [
    "## Porblem 5 : Integers Come In All\n",
    "* **Read four numbers, a, b, c, and d, and print the result of a^b + c^d.**"
   ]
  },
  {
   "cell_type": "code",
   "execution_count": 5,
   "id": "fc8b7d8b",
   "metadata": {},
   "outputs": [
    {
     "name": "stdout",
     "output_type": "stream",
     "text": [
      "9\n",
      "29\n",
      "7\n",
      "27\n",
      "4710194409608608369201743232\n"
     ]
    }
   ],
   "source": [
    "a = int(input())\n",
    "b = int(input())\n",
    "c = int(input())\n",
    "d = int(input())\n",
    "\n",
    "print(pow(a, b) + pow(c, d))"
   ]
  },
  {
   "cell_type": "markdown",
   "id": "f04c3d67",
   "metadata": {},
   "source": [
    "## Porblem 6 : Triangle Quest\n",
    "* **You are given a positive integer N. Print a numerical triangle of height N-1**"
   ]
  },
  {
   "cell_type": "code",
   "execution_count": 6,
   "id": "925b8919",
   "metadata": {},
   "outputs": [
    {
     "name": "stdout",
     "output_type": "stream",
     "text": [
      "5\n",
      "1\n",
      "22\n",
      "333\n",
      "4444\n"
     ]
    }
   ],
   "source": [
    "for i in range(1,int(input())): # More than 2 lines will result in 0 score. Do not leave a blank line also\n",
    "    print(i * ((10**i - 1) // 9))"
   ]
  },
  {
   "cell_type": "markdown",
   "id": "9c7ebe5e",
   "metadata": {},
   "source": [
    "## Porblem 7 : Triangle Quest 2\n",
    "* **You are given a positive integer N.**\n",
    "* **Your task is to print a palindromic triangle of size N.**"
   ]
  },
  {
   "cell_type": "code",
   "execution_count": 7,
   "id": "1813a273",
   "metadata": {},
   "outputs": [
    {
     "name": "stdout",
     "output_type": "stream",
     "text": [
      "5\n",
      "1\n",
      "121\n",
      "12321\n",
      "1234321\n",
      "123454321\n"
     ]
    }
   ],
   "source": [
    "for i in range(1,int(input())+1): # More than 2 lines will result in 0 score. Do not leave a blank line also\n",
    "    print((10 ** i - 1) ** 2 // 81)"
   ]
  },
  {
   "cell_type": "markdown",
   "id": "6add7c2b",
   "metadata": {},
   "source": [
    "# THE END !!!"
   ]
  }
 ],
 "metadata": {
  "kernelspec": {
   "display_name": "Python 3 (ipykernel)",
   "language": "python",
   "name": "python3"
  },
  "language_info": {
   "codemirror_mode": {
    "name": "ipython",
    "version": 3
   },
   "file_extension": ".py",
   "mimetype": "text/x-python",
   "name": "python",
   "nbconvert_exporter": "python",
   "pygments_lexer": "ipython3",
   "version": "3.9.13"
  }
 },
 "nbformat": 4,
 "nbformat_minor": 5
}
