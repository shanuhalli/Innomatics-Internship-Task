{
 "cells": [
  {
   "cell_type": "markdown",
   "id": "a67848fa",
   "metadata": {},
   "source": [
    "# Subdomain : Strings"
   ]
  },
  {
   "cell_type": "markdown",
   "id": "58da30a1",
   "metadata": {},
   "source": [
    "## Problem 1 : sWAP cASE\n",
    "* **You are given a string and your task is to swap cases. In other words, convert all lowercase letters to uppercase letters and vice versa.**"
   ]
  },
  {
   "cell_type": "code",
   "execution_count": 1,
   "id": "6664f7f2",
   "metadata": {},
   "outputs": [
    {
     "name": "stdout",
     "output_type": "stream",
     "text": [
      "HackerRank.com presents \"Pythonist 2\".\n",
      "hACKERrANK.COM PRESENTS \"pYTHONIST 2\".\n"
     ]
    }
   ],
   "source": [
    "def swap_case(s):\n",
    "    swap = ''\n",
    "    for char in s:\n",
    "        if char.upper() != char:\n",
    "            swap += char.upper()\n",
    "        elif char.lower() != char:\n",
    "            swap += char.lower()\n",
    "        else:\n",
    "            swap += char\n",
    "\n",
    "    return swap\n",
    "\n",
    "if __name__ == '__main__':\n",
    "    s = input()\n",
    "    result = swap_case(s)\n",
    "    print(result)"
   ]
  },
  {
   "cell_type": "markdown",
   "id": "b5cc0f55",
   "metadata": {},
   "source": [
    "## Problem 2 : String Split and Join\n",
    "* **You are given a string. Split the string on a \" \" (space) delimiter and join using a - hyphen.**"
   ]
  },
  {
   "cell_type": "code",
   "execution_count": 2,
   "id": "17a33fd9",
   "metadata": {},
   "outputs": [
    {
     "name": "stdout",
     "output_type": "stream",
     "text": [
      "this is a string\n",
      "this-is-a-string\n"
     ]
    }
   ],
   "source": [
    "def split_and_join(line):\n",
    "    # write your code here\n",
    "    a = line.split(\" \")\n",
    "    a = \"-\".join(a)\n",
    "    return a\n",
    "\n",
    "if __name__ == '__main__':\n",
    "    line = input()\n",
    "    result = split_and_join(line)\n",
    "    print(result)"
   ]
  },
  {
   "cell_type": "markdown",
   "id": "d588f0b9",
   "metadata": {},
   "source": [
    "## Problem 3 : What's Your Name?\n",
    "* **You are given the firstname and lastname of a person on two different lines. Your task is to read them and print the following:**\n",
    "    * Complete the 'print_full_name' function below.\n",
    "    * The function is expected to return a STRING.\n",
    "    * The function accepts following parameters:\n",
    "    * 1. STRING first\n",
    "    * 2. STRING last"
   ]
  },
  {
   "cell_type": "code",
   "execution_count": 3,
   "id": "6f081792",
   "metadata": {},
   "outputs": [
    {
     "name": "stdout",
     "output_type": "stream",
     "text": [
      "Ross\n",
      "Taylor\n",
      "Hello Ross Taylor! You just delved into python.\n"
     ]
    }
   ],
   "source": [
    "def print_full_name(first, last):\n",
    "    \n",
    "    # Write your code here\n",
    "    print(\"Hello {} {}! You just delved into python.\".format(first,last))\n",
    "\n",
    "if __name__ == '__main__':\n",
    "    first_name = input()\n",
    "    last_name = input()\n",
    "    print_full_name(first_name, last_name)"
   ]
  },
  {
   "cell_type": "markdown",
   "id": "c69224e7",
   "metadata": {},
   "source": [
    "## Problem 4 : Mutations\n",
    "* **Read a given string, change the character at a given index and then print the modified string.**"
   ]
  },
  {
   "cell_type": "code",
   "execution_count": 4,
   "id": "67e2b863",
   "metadata": {},
   "outputs": [
    {
     "name": "stdout",
     "output_type": "stream",
     "text": [
      "abracadabra\n",
      "5 k\n",
      "abrackdabra\n"
     ]
    }
   ],
   "source": [
    "def mutate_string(string, position, character):\n",
    "    char = list(string)\n",
    "    char[position] = character\n",
    "    return \"\".join(char)\n",
    "\n",
    "if __name__ == '__main__':\n",
    "    s = input()\n",
    "    i, c = input().split()\n",
    "    s_new = mutate_string(s, int(i), c)\n",
    "    print(s_new)"
   ]
  },
  {
   "cell_type": "markdown",
   "id": "61aee8d6",
   "metadata": {},
   "source": [
    "## Problem 5 : Find a string\n",
    "* **In this challenge, the user enters a string and a substring. You have to print the number of times that the substring occurs in the given string. String traversal will take place from left to right, not from right to left.**\n",
    "\n",
    "    * **NOTE: String letters are case-sensitive.**"
   ]
  },
  {
   "cell_type": "code",
   "execution_count": 5,
   "id": "e4e16f0d",
   "metadata": {},
   "outputs": [
    {
     "name": "stdout",
     "output_type": "stream",
     "text": [
      "ABCDCDC\n",
      "CDC\n",
      "2\n"
     ]
    }
   ],
   "source": [
    "def count_substring(string, sub_string):\n",
    "    count = 0\n",
    "    for i in range(len(string)-len(sub_string)+1):\n",
    "        if (string[i:i+len(sub_string)] == sub_string):\n",
    "            count += 1\n",
    "    return count\n",
    "\n",
    "if __name__ == '__main__':\n",
    "    string = input().strip()\n",
    "    sub_string = input().strip()\n",
    "    \n",
    "    count = count_substring(string, sub_string)\n",
    "    print(count)"
   ]
  },
  {
   "cell_type": "markdown",
   "id": "90a55484",
   "metadata": {},
   "source": [
    "## Problem 6 : String Validators\n",
    "* **You are given a string S.**\n",
    "* **Your task is to find out if the string S contains: alphanumeric characters, alphabetical characters, digits, lowercase and uppercase characters.**"
   ]
  },
  {
   "cell_type": "code",
   "execution_count": 6,
   "id": "2e317558",
   "metadata": {},
   "outputs": [
    {
     "name": "stdout",
     "output_type": "stream",
     "text": [
      "qA2\n",
      "True\n",
      "True\n",
      "True\n",
      "True\n",
      "True\n"
     ]
    }
   ],
   "source": [
    "if __name__ == '__main__':\n",
    "    s = input()\n",
    "\n",
    "print(any([char.isalnum() for char in s]))\n",
    "print(any([char.isalpha() for char in s]))\n",
    "print(any([char.isdigit() for char in s]))\n",
    "print(any([char.islower() for char in s]))\n",
    "print(any([char.isupper() for char in s]))"
   ]
  },
  {
   "cell_type": "markdown",
   "id": "126ca98a",
   "metadata": {},
   "source": [
    "## Problem 7 : Text Alignment\n",
    "* **You are given a partial code that is used for generating the HackerRank Logo of variable thickness.**\n",
    "* **Your task is to replace the blank (___) with rjust, ljust or center.**"
   ]
  },
  {
   "cell_type": "code",
   "execution_count": 7,
   "id": "31dd8aa2",
   "metadata": {},
   "outputs": [
    {
     "name": "stdout",
     "output_type": "stream",
     "text": [
      "5\n",
      "    H    \n",
      "   HHH   \n",
      "  HHHHH  \n",
      " HHHHHHH \n",
      "HHHHHHHHH\n",
      "  HHHHH               HHHHH             \n",
      "  HHHHH               HHHHH             \n",
      "  HHHHH               HHHHH             \n",
      "  HHHHH               HHHHH             \n",
      "  HHHHH               HHHHH             \n",
      "  HHHHH               HHHHH             \n",
      "  HHHHHHHHHHHHHHHHHHHHHHHHH   \n",
      "  HHHHHHHHHHHHHHHHHHHHHHHHH   \n",
      "  HHHHHHHHHHHHHHHHHHHHHHHHH   \n",
      "  HHHHH               HHHHH             \n",
      "  HHHHH               HHHHH             \n",
      "  HHHHH               HHHHH             \n",
      "  HHHHH               HHHHH             \n",
      "  HHHHH               HHHHH             \n",
      "  HHHHH               HHHHH             \n",
      "                    HHHHHHHHH \n",
      "                     HHHHHHH  \n",
      "                      HHHHH   \n",
      "                       HHH    \n",
      "                        H     \n"
     ]
    }
   ],
   "source": [
    "thickness = int(input()) #This must be an odd number\n",
    "c = 'H'\n",
    "\n",
    "#Top Cone\n",
    "for i in range(thickness):\n",
    "    print((c*i).rjust(thickness-1)+c+(c*i).ljust(thickness-1))\n",
    "\n",
    "#Top Pillars\n",
    "for i in range(thickness+1):\n",
    "    print((c*thickness).center(thickness*2)+(c*thickness).center(thickness*6))\n",
    "\n",
    "#Middle Belt\n",
    "for i in range((thickness+1)//2):\n",
    "    print((c*thickness*5).center(thickness*6))    \n",
    "\n",
    "#Bottom Pillars\n",
    "for i in range(thickness+1):\n",
    "    print((c*thickness).center(thickness*2)+(c*thickness).center(thickness*6))    \n",
    "\n",
    "#Bottom Cone\n",
    "for i in range(thickness):\n",
    "    print(((c*(thickness-i-1)).rjust(thickness)+c+(c*(thickness-i-1)).ljust(thickness)).rjust(thickness*6))"
   ]
  },
  {
   "cell_type": "markdown",
   "id": "aa814ac4",
   "metadata": {},
   "source": [
    "## Problem 8 : Text Wrap\n",
    "* **You are given a string S and width w.**\n",
    "* **Your task is to wrap the string into a paragraph of width w.**"
   ]
  },
  {
   "cell_type": "code",
   "execution_count": 8,
   "id": "0154c959",
   "metadata": {},
   "outputs": [
    {
     "name": "stdout",
     "output_type": "stream",
     "text": [
      "ABCDEFGHIJKLIMNOQRSTUVWXYZ\n",
      "4\n",
      "ABCD\n",
      "EFGH\n",
      "IJKL\n",
      "IMNO\n",
      "QRST\n",
      "UVWX\n",
      "YZ\n"
     ]
    }
   ],
   "source": [
    "import textwrap\n",
    "\n",
    "def wrap(string, max_width):\n",
    "    wrapresult = textwrap.fill(string,max_width)\n",
    "    return wrapresult\n",
    "\n",
    "if __name__ == '__main__':\n",
    "    string, max_width = input(), int(input())\n",
    "    result = wrap(string, max_width)\n",
    "    print(result)"
   ]
  },
  {
   "cell_type": "markdown",
   "id": "7811fb8f",
   "metadata": {},
   "source": [
    "## Problem 9 : Designer Door Mat\n",
    "* **Mr. Vincent works in a door mat manufacturing company. One day, he designed a new door mat with the following specifications:**\n",
    "\n",
    "    * **Mat size must be NX.M (N is an odd natural number, and M is 3 times N.)**\n",
    "    * **The design should have 'WELCOME' written in the center.**\n",
    "    * **The design pattern should only use |, . and - characters.**"
   ]
  },
  {
   "cell_type": "code",
   "execution_count": 9,
   "id": "c5656070",
   "metadata": {},
   "outputs": [
    {
     "name": "stdout",
     "output_type": "stream",
     "text": [
      "9 27\n",
      "------------.|.------------\n",
      "---------.|..|..|.---------\n",
      "------.|..|..|..|..|.------\n",
      "---.|..|..|..|..|..|..|.---\n",
      "----------WELCOME----------\n",
      "---.|..|..|..|..|..|..|.---\n",
      "------.|..|..|..|..|.------\n",
      "---------.|..|..|.---------\n",
      "------------.|.------------\n"
     ]
    }
   ],
   "source": [
    "row,col = map(int,input().split(\" \"))\n",
    "ch = \".|.\"\n",
    "wel = \"WELCOME\"\n",
    "def upper(row,col,ch):\n",
    "    for i in range(row//2):\n",
    "        exp = ch*(2*i+1)\n",
    "        print(exp.center(col,\"-\"))\n",
    "        \n",
    "def middle(row,col,wel):\n",
    "    print(wel.center(col,\"-\"))\n",
    "    \n",
    "def bottom(row,col,ch):\n",
    "    for i in range(row//2):\n",
    "        exp = ch*((row-2)-2*i)\n",
    "        print(exp.center(col,\"-\"))\n",
    "\n",
    "if __name__ == \"__main__\":\n",
    "    upper(row,col,ch)\n",
    "    middle(row,col,wel)\n",
    "    bottom(row,col,ch)"
   ]
  },
  {
   "cell_type": "markdown",
   "id": "e7b7cf64",
   "metadata": {},
   "source": [
    "## Problem 10 : String Formatting\n",
    "* **Given an integer, n, print the following values for each integer i from 1 to n:**\n",
    "\n",
    "1. Decimal\n",
    "2. Octal\n",
    "3. Hexadecimal (capitalized)\n",
    "4. Binary"
   ]
  },
  {
   "cell_type": "code",
   "execution_count": 10,
   "id": "5a73f94a",
   "metadata": {},
   "outputs": [
    {
     "name": "stdout",
     "output_type": "stream",
     "text": [
      "17\n",
      "    1     1     1     1\n",
      "    2     2     2    10\n",
      "    3     3     3    11\n",
      "    4     4     4   100\n",
      "    5     5     5   101\n",
      "    6     6     6   110\n",
      "    7     7     7   111\n",
      "    8    10     8  1000\n",
      "    9    11     9  1001\n",
      "   10    12     A  1010\n",
      "   11    13     B  1011\n",
      "   12    14     C  1100\n",
      "   13    15     D  1101\n",
      "   14    16     E  1110\n",
      "   15    17     F  1111\n",
      "   16    20    10 10000\n",
      "   17    21    11 10001\n"
     ]
    }
   ],
   "source": [
    "def print_formatted(number):\n",
    "    width = len(bin(number)[2:])\n",
    "    for i in range(1, number + 1):\n",
    "        o = oct(i)[2:]\n",
    "        h = hex(i)[2:]\n",
    "        h = h.upper()\n",
    "        b = bin(i)[2:]\n",
    "        d = str(i)\n",
    "        print(f\"{d:>{width}} {o:>{width}} {h:>{width}} {b:>{width}}\")\n",
    "\n",
    "if __name__ == '__main__':\n",
    "    n = int(input())\n",
    "    print_formatted(n)"
   ]
  },
  {
   "cell_type": "markdown",
   "id": "a4b75c02",
   "metadata": {},
   "source": [
    "## Problem 11 : Alphabet Rangoli\n",
    "* **You are given an integer, N. Your task is to print an alphabet rangoli of size N.**"
   ]
  },
  {
   "cell_type": "code",
   "execution_count": 11,
   "id": "53cdd8ad",
   "metadata": {},
   "outputs": [
    {
     "name": "stdout",
     "output_type": "stream",
     "text": [
      "5\n",
      "--------e--------\n",
      "------e-d-e------\n",
      "----e-d-c-d-e----\n",
      "--e-d-c-b-c-d-e--\n",
      "e-d-c-b-a-b-c-d-e\n",
      "--e-d-c-b-c-d-e--\n",
      "----e-d-c-d-e----\n",
      "------e-d-e------\n",
      "--------e--------\n"
     ]
    }
   ],
   "source": [
    "def print_rangoli(size):\n",
    "    # your code goes here\n",
    "    alpha = \"abcdefghijklmnopqrstuvwxyz\"\n",
    "    \n",
    "    for i in range(n - 1, 0, -1):\n",
    "        row = [\"-\"] * (n * 2 - 1)\n",
    "        for j in range(0, n - i):\n",
    "            row[n - 1 - j] = alpha[j + i]\n",
    "            row[n - 1 + j] = alpha[j + i]\n",
    "        print(\"-\".join(row))\n",
    "\n",
    "    for i in range(0, n):\n",
    "        row = [\"-\"] * (n * 2 - 1)\n",
    "        for j in range(0, n - i):\n",
    "            row[n - 1 - j] = alpha[j + i]\n",
    "            row[n - 1 + j] = alpha[j + i]\n",
    "        print(\"-\".join(row))\n",
    "        \n",
    "if __name__ == '__main__':\n",
    "    n = int(input())\n",
    "    print_rangoli(n)"
   ]
  },
  {
   "cell_type": "markdown",
   "id": "9bb0c9e8",
   "metadata": {},
   "source": [
    "## Problem 12 : Capitalize!\n",
    "* **You are asked to ensure that the first and last names of people begin with a capital letter in their passports. For example, alison heck should be capitalised correctly as Alison Heck.**"
   ]
  },
  {
   "cell_type": "code",
   "execution_count": 13,
   "id": "81bfb810",
   "metadata": {},
   "outputs": [],
   "source": [
    "import math\n",
    "import os\n",
    "import random\n",
    "import re\n",
    "import sys\n",
    "\n",
    "def solve(s):\n",
    "    s=s.casefold()\n",
    "    for i in range(len(s)):\n",
    "        if s[i].isalpha()==True and (s[i-1]==\" \" or i==0):\n",
    "            s=s[:i]+s[i].upper()+s[i+1:]\n",
    "    k=str(s)\n",
    "    return k\n",
    "\n",
    "if __name__ == '__main__':\n",
    "    fptr = open(os.environ['OUTPUT_PATH'], 'w')\n",
    "    s = input()\n",
    "    result = solve(s)\n",
    "    fptr.write(result + '\\n')\n",
    "    fptr.close()"
   ]
  },
  {
   "cell_type": "markdown",
   "id": "26382202",
   "metadata": {},
   "source": [
    "# THE END !!!"
   ]
  }
 ],
 "metadata": {
  "kernelspec": {
   "display_name": "Python 3 (ipykernel)",
   "language": "python",
   "name": "python3"
  },
  "language_info": {
   "codemirror_mode": {
    "name": "ipython",
    "version": 3
   },
   "file_extension": ".py",
   "mimetype": "text/x-python",
   "name": "python",
   "nbconvert_exporter": "python",
   "pygments_lexer": "ipython3",
   "version": "3.9.13"
  }
 },
 "nbformat": 4,
 "nbformat_minor": 5
}
