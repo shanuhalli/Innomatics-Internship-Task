{
 "cells": [
  {
   "cell_type": "markdown",
   "id": "c487b39c",
   "metadata": {},
   "source": [
    "# Subdomain : Basic Data Types"
   ]
  },
  {
   "cell_type": "markdown",
   "id": "3f26719f",
   "metadata": {},
   "source": [
    "## Problem 1 : List Comprehensions\n",
    "\n",
    "* **Let's learn about list comprehensions! You are given three integers and representing the dimensions of a cuboid along with an integer n. You have to print a list of all possible coordinates given by (i, j, k) on a 3D grid where the sum of i+j+k is not equal to n.**\n",
    "\n",
    "* **Here, 0<=i<=x; 0 <=j<=y; 0<=k<=z**"
   ]
  },
  {
   "cell_type": "code",
   "execution_count": 1,
   "id": "58f5c2b2",
   "metadata": {},
   "outputs": [
    {
     "name": "stdout",
     "output_type": "stream",
     "text": [
      "2\n",
      "2\n",
      "2\n",
      "2\n",
      "[[0, 0, 0], [0, 0, 1], [0, 1, 0], [0, 1, 2], [0, 2, 1], [0, 2, 2], [1, 0, 0], [1, 0, 2], [1, 1, 1], [1, 1, 2], [1, 2, 0], [1, 2, 1], [1, 2, 2], [2, 0, 1], [2, 0, 2], [2, 1, 0], [2, 1, 1], [2, 1, 2], [2, 2, 0], [2, 2, 1], [2, 2, 2]]\n"
     ]
    }
   ],
   "source": [
    "if __name__ == '__main__':\n",
    "    x = int(input())\n",
    "    y = int(input())\n",
    "    z = int(input())\n",
    "    n = int(input())\n",
    "    \n",
    "    ar = []\n",
    "    p = 0\n",
    "\n",
    "    for i in range ( x + 1 ) :\n",
    "         for j in range( y + 1):\n",
    "                for k in range( z + 1):\n",
    "                    if i+j+k != n:\n",
    "                        ar.append([])\n",
    "                        ar[p] = [ i , j, k ]\n",
    "                        p+=1\n",
    "    print(ar)"
   ]
  },
  {
   "cell_type": "markdown",
   "id": "29c79909",
   "metadata": {},
   "source": [
    "## Problem 2 : Find the Runner-Up Score!\n",
    "\n",
    "* **Given the participants' score sheet for your University Sports Day, you are required to find the runner-up score. You are given n scores. Store them in a list and find the score of the runner-up.**"
   ]
  },
  {
   "cell_type": "code",
   "execution_count": 2,
   "id": "3a63b175",
   "metadata": {},
   "outputs": [
    {
     "name": "stdout",
     "output_type": "stream",
     "text": [
      "5\n",
      "2 3 6 6 5\n",
      "5\n"
     ]
    }
   ],
   "source": [
    "if __name__ == '__main__':\n",
    "    n = int(input())\n",
    "    arr = map(int, input().split())\n",
    "    \n",
    "    lst = list(arr)\n",
    "    scores = list()\n",
    "\n",
    "    for score in lst:\n",
    "        if score not in scores:\n",
    "            scores.append(score)\n",
    "        else :\n",
    "            continue\n",
    "    ordr = sorted(scores, reverse=True)\n",
    "    print(ordr[1])"
   ]
  },
  {
   "cell_type": "markdown",
   "id": "7f23eed4",
   "metadata": {},
   "source": [
    "## Problem 3 : Nested Lists\n",
    "\n",
    "* **Given the names and grades for each student in a class of N students, store them in a nested list and print the name(s) of any student(s) having the second lowest grade.**\n",
    "\n",
    "* **Note: If there are multiple students with the second lowest grade, order their names alphabetically and print each name on a new line.**"
   ]
  },
  {
   "cell_type": "code",
   "execution_count": 2,
   "id": "e1a750f9",
   "metadata": {},
   "outputs": [
    {
     "name": "stdout",
     "output_type": "stream",
     "text": [
      "5\n",
      "Harry\n",
      "37.21\n",
      "Berry\n",
      "37.21\n",
      "Tina\n",
      "37.21\n",
      "Akriti\n",
      "41\n",
      "Harsh\n",
      "39\n",
      "Harsh\n"
     ]
    }
   ],
   "source": [
    "if __name__ == '__main__':\n",
    "    std_grade = []\n",
    "    for _ in range(int(input())):\n",
    "        name = input()\n",
    "        score = float(input())\n",
    "        std_grade.append([name, score])\n",
    "\n",
    "    second_lowest = sorted(list(set([grades for name, grades in std_grade])))[1]\n",
    "    print('\\n'.join([a for a, b in sorted(std_grade) if b == second_lowest]))"
   ]
  },
  {
   "cell_type": "markdown",
   "id": "713145b8",
   "metadata": {},
   "source": [
    "## Problem 4 : Finding the percentage\n",
    "* **The provided code stub will read in a dictionary containing key/value pairs of name:[marks] for a list of students. Print the average of the marks array for the student name provided, showing 2 places after the decimal.**\n"
   ]
  },
  {
   "cell_type": "code",
   "execution_count": 3,
   "id": "de6c21a9",
   "metadata": {},
   "outputs": [
    {
     "name": "stdout",
     "output_type": "stream",
     "text": [
      "3\n",
      "Krishna 67 68 69\n",
      "Arjun 70 98 63\n",
      "Malika 52 56 60\n",
      "Malika\n",
      "56.00\n"
     ]
    }
   ],
   "source": [
    "if __name__ == '__main__':\n",
    "    n = int(input())\n",
    "    student_marks = {}\n",
    "    for _ in range(n):\n",
    "        name, *line = input().split()\n",
    "        scores = list(map(float, line))\n",
    "        student_marks[name] = scores\n",
    "    query_name = input()\n",
    "    if query_name in student_marks.keys():\n",
    "        l=student_marks[query_name]\n",
    "        aver=sum(l)/len(l)\n",
    "print(format(aver,\".2f\"))"
   ]
  },
  {
   "cell_type": "markdown",
   "id": "daf74cae",
   "metadata": {},
   "source": [
    "## Problem 5 : Lists\n",
    "**Consider a list (list = []). You can perform the following commands:**\n",
    "\n",
    "* 1. insert i e: Insert integer e at position i.\n",
    "* 2. print: Print the list.\n",
    "* 3. remove e: Delete the first occurrence of integer e.\n",
    "* 4. append e: Insert integer e at the end of the list.\n",
    "* 5. sort: Sort the list.\n",
    "* 6. pop: Pop the last element from the list.\n",
    "* 7. reverse: Reverse the list.\n",
    "\n",
    "**Initialize your list and read in the value of n followed by n lines of commands where each command will be of the 7 types listed above. Iterate through each command in order and perform the corresponding operation on your list.**"
   ]
  },
  {
   "cell_type": "code",
   "execution_count": 4,
   "id": "f67ce9b8",
   "metadata": {},
   "outputs": [
    {
     "name": "stdout",
     "output_type": "stream",
     "text": [
      "12\n",
      "insert 0 5\n",
      "insert 1 10\n",
      "insert 0 6\n",
      "print\n",
      "[6, 5, 10]\n",
      "remove 6\n",
      "append 9\n",
      "append 1\n",
      "sort\n",
      "print\n",
      "[1, 5, 9, 10]\n",
      "pop\n",
      "reverse\n",
      "print\n",
      "[9, 5, 1]\n"
     ]
    }
   ],
   "source": [
    "if __name__ == '__main__':\n",
    "    N = int(input())\n",
    "    L = []\n",
    "    \n",
    "    for i in range(0,N):\n",
    "        cmd=input().split()\n",
    "        if cmd[0] == \"insert\":\n",
    "            L.insert(int(cmd[1]),int(cmd[2]))\n",
    "        elif cmd[0] == \"append\":\n",
    "            L.append(int(cmd[1]))\n",
    "        elif cmd[0] == \"pop\":\n",
    "            L.pop()\n",
    "        elif cmd[0] == \"print\":\n",
    "            print(L)\n",
    "        elif cmd[0] == \"remove\":\n",
    "            L.remove(int(cmd[1]))\n",
    "        elif cmd[0] == \"sort\":\n",
    "            L.sort()\n",
    "        else:\n",
    "            L.reverse()"
   ]
  },
  {
   "cell_type": "markdown",
   "id": "1a080b2e",
   "metadata": {},
   "source": [
    "## Problem 6 : Tuples\n",
    "**Given an integer, n, and n space-separated integers as input, create a tuple, t, of those n integers. Then compute and print the result of hash(t).**\n",
    "\n",
    "**Note: hash() is one of the functions in the __builtins__ module, so it need not be imported.**"
   ]
  },
  {
   "cell_type": "code",
   "execution_count": 5,
   "id": "f7e55503",
   "metadata": {},
   "outputs": [
    {
     "name": "stdout",
     "output_type": "stream",
     "text": [
      "2\n",
      "1 2\n",
      "-3550055125485641917\n"
     ]
    }
   ],
   "source": [
    "if __name__ == \"__main__\":\n",
    "    n = int(input())\n",
    "    integer_list = map(int, input().split())\n",
    "    t = tuple(integer_list)\n",
    "    print(hash(t))"
   ]
  },
  {
   "cell_type": "markdown",
   "id": "d625791c",
   "metadata": {},
   "source": [
    "# Subdomain :  Sets "
   ]
  },
  {
   "cell_type": "markdown",
   "id": "d1b5e1c2",
   "metadata": {},
   "source": [
    "## Problem 7 : Introduction to Sets\n",
    "**Ms. Gabriel Williams is a botany professor at District College. One day, she asked her student Mickey to compute the average of all the plants with distinct heights in her greenhouse.**\n",
    "\n",
    "**Average Formula used:**\n",
    "\n",
    "**Function Description**\n",
    "\n",
    "* Complete the average function in the editor below.\n",
    "\n",
    "**average has the following parameters:**\n",
    "\n",
    "* int arr: an array of integers\n",
    "\n",
    "**Returns**\n",
    "\n",
    "* float: the resulting float value rounded to 3 places after the decimal"
   ]
  },
  {
   "cell_type": "code",
   "execution_count": 6,
   "id": "1809e4c9",
   "metadata": {},
   "outputs": [
    {
     "name": "stdout",
     "output_type": "stream",
     "text": [
      "10\n",
      "161 182 161 154 176 170 167 171 170 174\n",
      "169.375\n"
     ]
    }
   ],
   "source": [
    "def average(array):\n",
    "    # your code goes here\n",
    "    dis_height = set(array)\n",
    "    ave_heght = sum(dis_height)/len(dis_height)\n",
    "    return (ave_heght).__round__(3)\n",
    "\n",
    "if __name__ == '__main__':\n",
    "    n = int(input())\n",
    "    arr = list(map(int, input().split()))\n",
    "    result = average(arr)\n",
    "    print(result)"
   ]
  },
  {
   "cell_type": "markdown",
   "id": "c2c93193",
   "metadata": {},
   "source": [
    "## Problem 8 : No Idea!\n",
    "**There is an array of n integers. There are also 2 disjoint sets, A and B, each containing m integers. You like all the integers in set A and dislike all the integers in set B. Your initial happiness is 0. For each i integer in the array, if i belongs to A, you add 1 to your happiness. If i belongs to B, you add -1 to your happiness. Otherwise, your happiness does not change. Output your final happiness at the end.**\n",
    "\n",
    "**Note: Since A and B are sets, they have no repeated elements. However, the array might contain duplicate elements**"
   ]
  },
  {
   "cell_type": "code",
   "execution_count": 7,
   "id": "0a434962",
   "metadata": {},
   "outputs": [
    {
     "name": "stdout",
     "output_type": "stream",
     "text": [
      "3 2\n",
      "1 5 3\n",
      "3 1\n",
      "5 7\n",
      "1\n"
     ]
    }
   ],
   "source": [
    "n, m = input().split()\n",
    "\n",
    "array = input().split()\n",
    "A = set(input().split())\n",
    "B = set(input().split())\n",
    "\n",
    "print(sum([(i in A) - (i in B) for i in array]))"
   ]
  },
  {
   "cell_type": "markdown",
   "id": "28a2a7c8",
   "metadata": {},
   "source": [
    "## Problem 9 : Symmetric Difference\n",
    "* **Given 2 sets of integers, M and N, print their symmetric difference in ascending order. The term symmetric difference indicates those values that exist in either M or N but do not exist in both.**"
   ]
  },
  {
   "cell_type": "code",
   "execution_count": 8,
   "id": "855b7b6f",
   "metadata": {},
   "outputs": [
    {
     "name": "stdout",
     "output_type": "stream",
     "text": [
      "4\n",
      "2 4 5 9\n",
      "2 \n",
      "2 4 11 12\n",
      "5\n",
      "9\n",
      "11\n",
      "12\n"
     ]
    }
   ],
   "source": [
    "M = set(map(int,input().split()))\n",
    "setM = set(map(int,input().split()))\n",
    "\n",
    "N = set(map(int,input().split()))\n",
    "setN = set(map(int,input().split()))\n",
    "\n",
    "result = setM.symmetric_difference(setN)\n",
    "print(*sorted(result),sep=\"\\n\")"
   ]
  },
  {
   "cell_type": "markdown",
   "id": "ea8d20ce",
   "metadata": {},
   "source": [
    "## Problem 10 : Set .add()\n",
    "* **Apply your knowledge of the .add() operation to help your friend Rupal.**\n",
    "\n",
    "* **Rupal has a huge collection of country stamps. She decided to count the total number of distinct country stamps in her collection. She asked for your help. You pick the stamps one by one from a stack of N country stamps.**\n",
    "\n",
    "* **Find the total number of distinct country stamps.**"
   ]
  },
  {
   "cell_type": "code",
   "execution_count": 9,
   "id": "b7b23cf3",
   "metadata": {},
   "outputs": [
    {
     "name": "stdout",
     "output_type": "stream",
     "text": [
      "7\n",
      "UK\n",
      "China\n",
      "USA\n",
      "France\n",
      "New Zealand\n",
      "UK\n",
      "France\n",
      "5\n"
     ]
    }
   ],
   "source": [
    "n = int(input())\n",
    "stamp = set()\n",
    "\n",
    "for _ in range(n):\n",
    "    country = input()\n",
    "    stamp.add(country)\n",
    "print(len(stamp))"
   ]
  },
  {
   "cell_type": "markdown",
   "id": "419e66aa",
   "metadata": {},
   "source": [
    "## Problem 11 : Set .discard(), .remove() & .pop()\n",
    "* **You have a non-empty set s, and you have to execute N commands given in N lines.**\n",
    "\n",
    "* **The commands will be pop, remove and discard.**"
   ]
  },
  {
   "cell_type": "code",
   "execution_count": 10,
   "id": "ecb3286c",
   "metadata": {},
   "outputs": [
    {
     "name": "stdout",
     "output_type": "stream",
     "text": [
      "9\n",
      "1 2 3 4 5 6 7 8 9\n",
      "10\n",
      "pop\n",
      "remove 9\n",
      "discard 9\n",
      "discard 8\n",
      "remove 7\n",
      "pop\n",
      "discard 6\n",
      "remove 5\n",
      "pop\n",
      "discard 5\n",
      "4\n"
     ]
    }
   ],
   "source": [
    "n = int(input()) # number_of_elements\n",
    "s = set(map(int, input().split())) # elements\n",
    "N = int(input()) # number_of_commands \n",
    "\n",
    "for _ in range(N):\n",
    "    y = list(input().split())\n",
    "    if len(y) == 1:\n",
    "        s.pop()\n",
    "    else:\n",
    "        value = int(y[1])\n",
    "        operation = y[0]\n",
    "        if operation == \"discard\":\n",
    "            s.discard(value)\n",
    "        else:\n",
    "            s.remove(value)\n",
    "print(sum(s))"
   ]
  },
  {
   "cell_type": "markdown",
   "id": "7b953eb0",
   "metadata": {},
   "source": [
    "## Problem 12 : Set .union() Operation\n",
    "* **The students of District College have subscriptions to English and French newspapers. Some students have subscribed only to English, some have subscribed to only French and some have subscribed to both newspapers.**\n",
    "\n",
    "* **You are given two sets of student roll numbers. One set has subscribed to the English newspaper, and the other set is subscribed to the French newspaper. The same student could be in both sets. Your task is to find the total number of students who have subscribed to at least one newspaper.**"
   ]
  },
  {
   "cell_type": "code",
   "execution_count": 11,
   "id": "0b02ff16",
   "metadata": {},
   "outputs": [
    {
     "name": "stdout",
     "output_type": "stream",
     "text": [
      "9\n",
      "1 2 3 4 5 6 7 8 9\n",
      "9\n",
      "10 1 2 3 11 21 55 6 8\n",
      "13\n"
     ]
    }
   ],
   "source": [
    "total_english_sub = input()\n",
    "english_sub = set(map(int, input().split()))\n",
    "\n",
    "total_french_sub = input()\n",
    "french_sub = set(map(int, input().split()))\n",
    "\n",
    "print(len(english_sub.union(french_sub)))"
   ]
  },
  {
   "cell_type": "markdown",
   "id": "b6e4375f",
   "metadata": {},
   "source": [
    "## Problem 13 : Set .intersection() Operation\n",
    "* **The students of District College have subscriptions to English and French newspapers. Some students have subscribed only to English, some have subscribed only to French, and some have subscribed to both newspapers.**\n",
    "\n",
    "* **You are given two sets of student roll numbers. One set has subscribed to the English newspaper, one set has subscribed to the French newspaper. Your task is to find the total number of students who have subscribed to both newspapers.**"
   ]
  },
  {
   "cell_type": "code",
   "execution_count": 12,
   "id": "f04322da",
   "metadata": {},
   "outputs": [
    {
     "name": "stdout",
     "output_type": "stream",
     "text": [
      "9\n",
      "1 2 3 4 5 6 7 8 9\n",
      "9\n",
      "10 1 2 3 11 21 55 6 8\n",
      "5\n"
     ]
    }
   ],
   "source": [
    "total_english_sub = input()\n",
    "english_sub = set(map(int, input().split()))\n",
    "\n",
    "total_french_subscribers = input()\n",
    "french_sub = set(map(int, input().split()))\n",
    "\n",
    "print(len(english_sub & french_sub))"
   ]
  },
  {
   "cell_type": "markdown",
   "id": "2725e1d4",
   "metadata": {},
   "source": [
    "## Problem 14 : Set .difference() Operation\n",
    "* **Students of District College have a subscription to English and French newspapers. Some students have subscribed to only the English newspaper, some have subscribed to only the French newspaper, and some have subscribed to both newspapers.**\n",
    "\n",
    "* **You are given two sets of student roll numbers. One set has subscribed to the English newspaper, and one set has subscribed to the French newspaper. Your task is to find the total number of students who have subscribed to only English newspapers.**"
   ]
  },
  {
   "cell_type": "code",
   "execution_count": 13,
   "id": "aef3bcbb",
   "metadata": {},
   "outputs": [
    {
     "name": "stdout",
     "output_type": "stream",
     "text": [
      "9\n",
      "1 2 3 4 5 6 7 8 9\n",
      "9\n",
      "10 1 2 3 11 21 55 6 8\n",
      "4\n"
     ]
    }
   ],
   "source": [
    "total_english_sub = input()\n",
    "english_sub = set(map(int, input().split()))\n",
    "\n",
    "total_french_sub = input()\n",
    "french_sub = set(map(int, input().split()))\n",
    "\n",
    "print(len(english_sub - french_sub))"
   ]
  },
  {
   "cell_type": "markdown",
   "id": "63c57417",
   "metadata": {},
   "source": [
    "## Problem 15 : Set .symmetric_difference() Operation\n",
    "* **Students of District College have subscriptions to English and French newspapers. Some students have subscribed to English only, some have subscribed to French only, and some have subscribed to both newspapers.**\n",
    "\n",
    "* **You are given two sets of student roll numbers. One set has subscribed to the English newspaper, and one set has subscribed to the French newspaper. Your task is to find the total number of students who have subscribed to either the English or the French newspaper but not both.**"
   ]
  },
  {
   "cell_type": "code",
   "execution_count": 14,
   "id": "90275745",
   "metadata": {},
   "outputs": [
    {
     "name": "stdout",
     "output_type": "stream",
     "text": [
      "9\n",
      "1 2 3 4 5 6 7 8 9\n",
      "9\n",
      "10 1 2 3 11 21 55 6 8\n",
      "8\n"
     ]
    }
   ],
   "source": [
    "total_english_sub = input()\n",
    "english_sub= set(map(int, input().split()))\n",
    "\n",
    "total_french_sub = input()\n",
    "french_sub = set(map(int, input().split()))\n",
    "\n",
    "print(len(english_sub ^ french_sub))"
   ]
  },
  {
   "cell_type": "markdown",
   "id": "338f051a",
   "metadata": {},
   "source": [
    "## Problem 16 : Set Mutations\n",
    "* **You are given a set A and N number of other sets. These N number of sets have to perform some specific mutation operations on set A.**\n",
    "\n",
    "* **Your task is to execute those operations and print the sum of elements from set A.**"
   ]
  },
  {
   "cell_type": "code",
   "execution_count": 15,
   "id": "606d9447",
   "metadata": {},
   "outputs": [
    {
     "name": "stdout",
     "output_type": "stream",
     "text": [
      "16\n",
      "1 2 3 4 5 6 7 8 9 10 11 12 13 14 24 52\n",
      "4\n",
      "intersection_update 10\n",
      "2 3 5 6 8 9 1 4 7 11\n",
      "update 2\n",
      "55 66\n",
      "symmetric_difference_update 5\n",
      "22 7 35 62 58\n",
      "difference_update 7\n",
      "11 22 35 55 58 62 66\n",
      "38\n"
     ]
    }
   ],
   "source": [
    "N = input()\n",
    "A = set(map(int, input().split())) \n",
    "\n",
    "for _ in range(int(input())):\n",
    "    command = input().split()[0]\n",
    "    elements = input().split()\n",
    "    command += '([' + ','.join(elements) + '])'\n",
    "    eval('A.' + command)\n",
    "print(sum(A))"
   ]
  },
  {
   "cell_type": "markdown",
   "id": "5b9fb073",
   "metadata": {},
   "source": [
    "## Problem 17 : The Captain's Room\n",
    "* **Mr. Anant Asankhya is the manager at the INFINITE hotel. The hotel has an infinite amount of rooms.**\n",
    "\n",
    "* **One fine day, a finite number of tourists come to stay at the hotel. The tourists consist of:**\n",
    "\n",
    "* **→ A Captain.**\n",
    "\n",
    "* **→ An unknown group of families consisting of K members per group where K ≠ 1.**\n",
    "\n",
    "* **The Captain was given a separate room, and the rest were given one room per group.**\n",
    "\n",
    "* **Mr. Anant has an unordered list of randomly arranged room entries. The list consists of the room numbers for all of the tourists. The room numbers will appear K times per group except for the Captain's room.**\n",
    "\n",
    "* **Mr. Anant needs you to help him find the Captain's room number.\n",
    "The total number of tourists or the total number of groups of families is not known to you.**\n",
    "\n",
    "* **You only know the value of K and the room number list.**"
   ]
  },
  {
   "cell_type": "code",
   "execution_count": 16,
   "id": "0b4b94bc",
   "metadata": {},
   "outputs": [
    {
     "name": "stdout",
     "output_type": "stream",
     "text": [
      "5\n",
      "1 2 3 6 5 4 4 2 5 3 6 1 6 5 3 2 4 1 2 5 1 4 3 6 8 4 3 1 5 6 2\n",
      "8\n"
     ]
    }
   ],
   "source": [
    "K = int(input())\n",
    "\n",
    "room_lst = list(map(int, input().split()))\n",
    "room_set = set(room_lst)\n",
    "sum_room_lst = sum(room_lst)\n",
    "sum_room_set = sum(room_set)\n",
    "diff = sum_room_set * K - sum_room_lst\n",
    "\n",
    "print(diff // (K - 1))"
   ]
  },
  {
   "cell_type": "markdown",
   "id": "4293aa8c",
   "metadata": {},
   "source": [
    "## Problem 18 : Check Subset\n",
    "* **You are given two sets, A and B.**\n",
    "* **Your job is to find whether set  is a subset of set B.**\n",
    "\n",
    "* **If set A is subset of set B, print True.**\n",
    "* **If set S is not a subset of set B, print False.**"
   ]
  },
  {
   "cell_type": "code",
   "execution_count": 17,
   "id": "239eb5e6",
   "metadata": {},
   "outputs": [
    {
     "name": "stdout",
     "output_type": "stream",
     "text": [
      "3\n",
      "5\n",
      "1 2 3 4 5 6\n",
      "9\n",
      "9 8 5 6 3 2 1 4 7\n",
      "True\n",
      "1\n",
      "2\n",
      "5\n",
      "3 6 5 4 1\n",
      "False\n",
      "7\n",
      "1 2 3 5 6 8 9\n",
      "3\n",
      "9 8 2\n",
      "False\n"
     ]
    }
   ],
   "source": [
    "for _ in range(int(input())):\n",
    "    a = input()\n",
    "    A = set(input().split())\n",
    "    \n",
    "    b = input()\n",
    "    B = set(input().split())\n",
    "\n",
    "    print(A.issubset(B))"
   ]
  },
  {
   "cell_type": "markdown",
   "id": "4b4c8637",
   "metadata": {},
   "source": [
    "## Problem 19 : Check Strict Superset\n",
    "* **You are given a set A and n other sets.**\n",
    "* **Your job is to find whether set A is a strict superset of each of the N sets.**\n",
    "\n",
    "* **Print True, if A is a strict superset of each of the N sets. Otherwise, print False.**\n",
    "\n",
    "* **A strict superset has at least one element that does not exist in its subset.**"
   ]
  },
  {
   "cell_type": "code",
   "execution_count": 18,
   "id": "11fb612f",
   "metadata": {},
   "outputs": [
    {
     "name": "stdout",
     "output_type": "stream",
     "text": [
      "1 2 3 4 5 6 7 8 9 10 11 12 23 45 84 78\n",
      "2\n",
      "1 2 3 4 5\n",
      "100 11 12\n",
      "False\n"
     ]
    }
   ],
   "source": [
    "A = set(input().split())\n",
    "\n",
    "for _ in range(int(input())):\n",
    "    if not A.issuperset(set(input().split())):\n",
    "        print(False)\n",
    "        break\n",
    "else:\n",
    "    print(True)"
   ]
  },
  {
   "cell_type": "markdown",
   "id": "317a8146",
   "metadata": {},
   "source": [
    "# THE END !!!"
   ]
  }
 ],
 "metadata": {
  "kernelspec": {
   "display_name": "Python 3 (ipykernel)",
   "language": "python",
   "name": "python3"
  },
  "language_info": {
   "codemirror_mode": {
    "name": "ipython",
    "version": 3
   },
   "file_extension": ".py",
   "mimetype": "text/x-python",
   "name": "python",
   "nbconvert_exporter": "python",
   "pygments_lexer": "ipython3",
   "version": "3.9.13"
  }
 },
 "nbformat": 4,
 "nbformat_minor": 5
}
