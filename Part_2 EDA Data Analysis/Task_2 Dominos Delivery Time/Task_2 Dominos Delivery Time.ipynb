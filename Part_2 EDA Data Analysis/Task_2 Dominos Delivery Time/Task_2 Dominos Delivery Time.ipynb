{
 "cells": [
  {
   "cell_type": "markdown",
   "id": "f4fa5b39",
   "metadata": {},
   "source": [
    "## Task_2 Dominos Store - Delivery Time\n",
    "\n",
    "### Assume that you are a freelance data scientist. \n",
    "\n",
    "### Help Kanav by analyzing the data and sharing insights to keep his business up and running."
   ]
  },
  {
   "cell_type": "markdown",
   "id": "1bb7c1d3",
   "metadata": {},
   "source": [
    "## Problem Statement 🍕\n",
    "* **Kanav has started his own Pizza Store by getting the Franchise from the popular Pizza brand Dominos.** \n",
    "* **Dominos promises to deliver the pizza order within 31 minutes from the time the order was placed. Otherwise the pizza will be free for the customer.**\n",
    "* **In order to increase the revenue and profits Kanav is running the store 24 * 7.**\n",
    "* **Recently Dominos gave a notice to Kanav that they will be measuring their stores' performance by looking at the metric - which is 95th Percentile on Order Delivery time should be less than 31 mins.**\n",
    "* **Kanav is worried that he might lose the franchise if he is not able to meet the metric and wants your help in order to understand his store's performance so that he can take some actions to prevent his business.**"
   ]
  },
  {
   "cell_type": "markdown",
   "id": "deb1de9e",
   "metadata": {},
   "source": [
    "## 1. Import Libraries and Dataset"
   ]
  },
  {
   "cell_type": "code",
   "execution_count": 1,
   "id": "3256053c",
   "metadata": {},
   "outputs": [],
   "source": [
    "import pandas as pd\n",
    "import numpy as np"
   ]
  },
  {
   "cell_type": "code",
   "execution_count": 2,
   "id": "a4f3c52c",
   "metadata": {},
   "outputs": [
    {
     "data": {
      "text/html": [
       "<div>\n",
       "<style scoped>\n",
       "    .dataframe tbody tr th:only-of-type {\n",
       "        vertical-align: middle;\n",
       "    }\n",
       "\n",
       "    .dataframe tbody tr th {\n",
       "        vertical-align: top;\n",
       "    }\n",
       "\n",
       "    .dataframe thead th {\n",
       "        text-align: right;\n",
       "    }\n",
       "</style>\n",
       "<table border=\"1\" class=\"dataframe\">\n",
       "  <thead>\n",
       "    <tr style=\"text-align: right;\">\n",
       "      <th></th>\n",
       "      <th>order_id</th>\n",
       "      <th>order_placed_at</th>\n",
       "      <th>order_delivered_at</th>\n",
       "    </tr>\n",
       "  </thead>\n",
       "  <tbody>\n",
       "    <tr>\n",
       "      <th>0</th>\n",
       "      <td>1523111</td>\n",
       "      <td>2023-03-01 00:00:59</td>\n",
       "      <td>2023-03-01 00:18:07.443132</td>\n",
       "    </tr>\n",
       "    <tr>\n",
       "      <th>1</th>\n",
       "      <td>1523112</td>\n",
       "      <td>2023-03-01 00:03:59</td>\n",
       "      <td>2023-03-01 00:19:34.925241</td>\n",
       "    </tr>\n",
       "    <tr>\n",
       "      <th>2</th>\n",
       "      <td>1523113</td>\n",
       "      <td>2023-03-01 00:07:22</td>\n",
       "      <td>2023-03-01 00:22:28.291385</td>\n",
       "    </tr>\n",
       "    <tr>\n",
       "      <th>3</th>\n",
       "      <td>1523114</td>\n",
       "      <td>2023-03-01 00:07:47</td>\n",
       "      <td>2023-03-01 00:46:19.019399</td>\n",
       "    </tr>\n",
       "    <tr>\n",
       "      <th>4</th>\n",
       "      <td>1523115</td>\n",
       "      <td>2023-03-01 00:09:03</td>\n",
       "      <td>2023-03-01 00:25:13.619056</td>\n",
       "    </tr>\n",
       "    <tr>\n",
       "      <th>...</th>\n",
       "      <td>...</td>\n",
       "      <td>...</td>\n",
       "      <td>...</td>\n",
       "    </tr>\n",
       "    <tr>\n",
       "      <th>14995</th>\n",
       "      <td>1538106</td>\n",
       "      <td>2023-03-27 23:37:05</td>\n",
       "      <td>2023-03-27 23:52:37.409378</td>\n",
       "    </tr>\n",
       "    <tr>\n",
       "      <th>14996</th>\n",
       "      <td>1538107</td>\n",
       "      <td>2023-03-27 23:47:38</td>\n",
       "      <td>2023-03-28 00:04:22.672912</td>\n",
       "    </tr>\n",
       "    <tr>\n",
       "      <th>14997</th>\n",
       "      <td>1538108</td>\n",
       "      <td>2023-03-27 23:50:16</td>\n",
       "      <td>2023-03-28 00:05:40.676238</td>\n",
       "    </tr>\n",
       "    <tr>\n",
       "      <th>14998</th>\n",
       "      <td>1538109</td>\n",
       "      <td>2023-03-27 23:52:44</td>\n",
       "      <td>2023-03-28 00:08:41.810358</td>\n",
       "    </tr>\n",
       "    <tr>\n",
       "      <th>14999</th>\n",
       "      <td>1538110</td>\n",
       "      <td>2023-03-27 23:58:20</td>\n",
       "      <td>2023-03-28 00:13:42.499311</td>\n",
       "    </tr>\n",
       "  </tbody>\n",
       "</table>\n",
       "<p>15000 rows × 3 columns</p>\n",
       "</div>"
      ],
      "text/plain": [
       "       order_id      order_placed_at          order_delivered_at\n",
       "0       1523111  2023-03-01 00:00:59  2023-03-01 00:18:07.443132\n",
       "1       1523112  2023-03-01 00:03:59  2023-03-01 00:19:34.925241\n",
       "2       1523113  2023-03-01 00:07:22  2023-03-01 00:22:28.291385\n",
       "3       1523114  2023-03-01 00:07:47  2023-03-01 00:46:19.019399\n",
       "4       1523115  2023-03-01 00:09:03  2023-03-01 00:25:13.619056\n",
       "...         ...                  ...                         ...\n",
       "14995   1538106  2023-03-27 23:37:05  2023-03-27 23:52:37.409378\n",
       "14996   1538107  2023-03-27 23:47:38  2023-03-28 00:04:22.672912\n",
       "14997   1538108  2023-03-27 23:50:16  2023-03-28 00:05:40.676238\n",
       "14998   1538109  2023-03-27 23:52:44  2023-03-28 00:08:41.810358\n",
       "14999   1538110  2023-03-27 23:58:20  2023-03-28 00:13:42.499311\n",
       "\n",
       "[15000 rows x 3 columns]"
      ]
     },
     "execution_count": 2,
     "metadata": {},
     "output_type": "execute_result"
    }
   ],
   "source": [
    "dominos_data = pd.read_csv(\"dominos_data.csv\")\n",
    "dominos_data"
   ]
  },
  {
   "cell_type": "markdown",
   "id": "ef3f52c6",
   "metadata": {},
   "source": [
    "## 2. Data Understanding"
   ]
  },
  {
   "cell_type": "code",
   "execution_count": 3,
   "id": "0a36c3d1",
   "metadata": {},
   "outputs": [
    {
     "name": "stdout",
     "output_type": "stream",
     "text": [
      "<class 'pandas.core.frame.DataFrame'>\n",
      "RangeIndex: 15000 entries, 0 to 14999\n",
      "Data columns (total 3 columns):\n",
      " #   Column              Non-Null Count  Dtype \n",
      "---  ------              --------------  ----- \n",
      " 0   order_id            15000 non-null  int64 \n",
      " 1   order_placed_at     15000 non-null  object\n",
      " 2   order_delivered_at  15000 non-null  object\n",
      "dtypes: int64(1), object(2)\n",
      "memory usage: 351.7+ KB\n"
     ]
    }
   ],
   "source": [
    "dominos_data.info()"
   ]
  },
  {
   "cell_type": "markdown",
   "id": "f1a957d9",
   "metadata": {},
   "source": [
    "### Check First Order and Last Order"
   ]
  },
  {
   "cell_type": "code",
   "execution_count": 4,
   "id": "27e15103",
   "metadata": {},
   "outputs": [
    {
     "name": "stdout",
     "output_type": "stream",
     "text": [
      "First Delivery : 2023-03-01 00:00:59\n",
      "Last Delivery  : 2023-03-27 23:58:20\n"
     ]
    }
   ],
   "source": [
    "print(\"First Delivery :\", min(dominos_data['order_placed_at']))\n",
    "print(\"Last Delivery  :\", max(dominos_data['order_placed_at']))"
   ]
  },
  {
   "cell_type": "markdown",
   "id": "af6d3d3e",
   "metadata": {},
   "source": [
    "## 3. Data Processing and Analysis"
   ]
  },
  {
   "cell_type": "markdown",
   "id": "654fdef6",
   "metadata": {},
   "source": [
    "### Change object column to datetime"
   ]
  },
  {
   "cell_type": "code",
   "execution_count": 5,
   "id": "3b1415e2",
   "metadata": {},
   "outputs": [
    {
     "name": "stdout",
     "output_type": "stream",
     "text": [
      "<class 'pandas.core.frame.DataFrame'>\n",
      "RangeIndex: 15000 entries, 0 to 14999\n",
      "Data columns (total 3 columns):\n",
      " #   Column              Non-Null Count  Dtype         \n",
      "---  ------              --------------  -----         \n",
      " 0   order_id            15000 non-null  int64         \n",
      " 1   order_placed_at     15000 non-null  datetime64[ns]\n",
      " 2   order_delivered_at  15000 non-null  datetime64[ns]\n",
      "dtypes: datetime64[ns](2), int64(1)\n",
      "memory usage: 351.7 KB\n"
     ]
    }
   ],
   "source": [
    "time_column = ['order_placed_at','order_delivered_at']\n",
    "for i in time_column:\n",
    "    dominos_data[i] = pd.to_datetime(dominos_data[i])\n",
    "    \n",
    "dominos_data.info()"
   ]
  },
  {
   "cell_type": "markdown",
   "id": "a2f49930",
   "metadata": {},
   "source": [
    "### Feature Engineering"
   ]
  },
  {
   "cell_type": "code",
   "execution_count": 6,
   "id": "56dc6af5",
   "metadata": {},
   "outputs": [],
   "source": [
    "dominos_data['day'] = dominos_data['order_placed_at'].dt.day_name()\n",
    "dominos_data['date'] = dominos_data['order_placed_at'].dt.day\n",
    "dominos_data['month'] = dominos_data['order_placed_at'].dt.month_name()\n",
    "dominos_data['year'] = dominos_data['order_placed_at'].dt.year\n",
    "dominos_data['time'] = dominos_data['order_placed_at'].dt.time"
   ]
  },
  {
   "cell_type": "code",
   "execution_count": 7,
   "id": "aaecfc0b",
   "metadata": {},
   "outputs": [
    {
     "data": {
      "text/html": [
       "<div>\n",
       "<style scoped>\n",
       "    .dataframe tbody tr th:only-of-type {\n",
       "        vertical-align: middle;\n",
       "    }\n",
       "\n",
       "    .dataframe tbody tr th {\n",
       "        vertical-align: top;\n",
       "    }\n",
       "\n",
       "    .dataframe thead th {\n",
       "        text-align: right;\n",
       "    }\n",
       "</style>\n",
       "<table border=\"1\" class=\"dataframe\">\n",
       "  <thead>\n",
       "    <tr style=\"text-align: right;\">\n",
       "      <th></th>\n",
       "      <th>order_id</th>\n",
       "      <th>order_placed_at</th>\n",
       "      <th>order_delivered_at</th>\n",
       "      <th>day</th>\n",
       "      <th>date</th>\n",
       "      <th>month</th>\n",
       "      <th>year</th>\n",
       "      <th>time</th>\n",
       "    </tr>\n",
       "  </thead>\n",
       "  <tbody>\n",
       "    <tr>\n",
       "      <th>0</th>\n",
       "      <td>1523111</td>\n",
       "      <td>2023-03-01 00:00:59</td>\n",
       "      <td>2023-03-01 00:18:07.443132</td>\n",
       "      <td>Wednesday</td>\n",
       "      <td>1</td>\n",
       "      <td>March</td>\n",
       "      <td>2023</td>\n",
       "      <td>00:00:59</td>\n",
       "    </tr>\n",
       "    <tr>\n",
       "      <th>1</th>\n",
       "      <td>1523112</td>\n",
       "      <td>2023-03-01 00:03:59</td>\n",
       "      <td>2023-03-01 00:19:34.925241</td>\n",
       "      <td>Wednesday</td>\n",
       "      <td>1</td>\n",
       "      <td>March</td>\n",
       "      <td>2023</td>\n",
       "      <td>00:03:59</td>\n",
       "    </tr>\n",
       "    <tr>\n",
       "      <th>2</th>\n",
       "      <td>1523113</td>\n",
       "      <td>2023-03-01 00:07:22</td>\n",
       "      <td>2023-03-01 00:22:28.291385</td>\n",
       "      <td>Wednesday</td>\n",
       "      <td>1</td>\n",
       "      <td>March</td>\n",
       "      <td>2023</td>\n",
       "      <td>00:07:22</td>\n",
       "    </tr>\n",
       "    <tr>\n",
       "      <th>3</th>\n",
       "      <td>1523114</td>\n",
       "      <td>2023-03-01 00:07:47</td>\n",
       "      <td>2023-03-01 00:46:19.019399</td>\n",
       "      <td>Wednesday</td>\n",
       "      <td>1</td>\n",
       "      <td>March</td>\n",
       "      <td>2023</td>\n",
       "      <td>00:07:47</td>\n",
       "    </tr>\n",
       "    <tr>\n",
       "      <th>4</th>\n",
       "      <td>1523115</td>\n",
       "      <td>2023-03-01 00:09:03</td>\n",
       "      <td>2023-03-01 00:25:13.619056</td>\n",
       "      <td>Wednesday</td>\n",
       "      <td>1</td>\n",
       "      <td>March</td>\n",
       "      <td>2023</td>\n",
       "      <td>00:09:03</td>\n",
       "    </tr>\n",
       "    <tr>\n",
       "      <th>...</th>\n",
       "      <td>...</td>\n",
       "      <td>...</td>\n",
       "      <td>...</td>\n",
       "      <td>...</td>\n",
       "      <td>...</td>\n",
       "      <td>...</td>\n",
       "      <td>...</td>\n",
       "      <td>...</td>\n",
       "    </tr>\n",
       "    <tr>\n",
       "      <th>14995</th>\n",
       "      <td>1538106</td>\n",
       "      <td>2023-03-27 23:37:05</td>\n",
       "      <td>2023-03-27 23:52:37.409378</td>\n",
       "      <td>Monday</td>\n",
       "      <td>27</td>\n",
       "      <td>March</td>\n",
       "      <td>2023</td>\n",
       "      <td>23:37:05</td>\n",
       "    </tr>\n",
       "    <tr>\n",
       "      <th>14996</th>\n",
       "      <td>1538107</td>\n",
       "      <td>2023-03-27 23:47:38</td>\n",
       "      <td>2023-03-28 00:04:22.672912</td>\n",
       "      <td>Monday</td>\n",
       "      <td>27</td>\n",
       "      <td>March</td>\n",
       "      <td>2023</td>\n",
       "      <td>23:47:38</td>\n",
       "    </tr>\n",
       "    <tr>\n",
       "      <th>14997</th>\n",
       "      <td>1538108</td>\n",
       "      <td>2023-03-27 23:50:16</td>\n",
       "      <td>2023-03-28 00:05:40.676238</td>\n",
       "      <td>Monday</td>\n",
       "      <td>27</td>\n",
       "      <td>March</td>\n",
       "      <td>2023</td>\n",
       "      <td>23:50:16</td>\n",
       "    </tr>\n",
       "    <tr>\n",
       "      <th>14998</th>\n",
       "      <td>1538109</td>\n",
       "      <td>2023-03-27 23:52:44</td>\n",
       "      <td>2023-03-28 00:08:41.810358</td>\n",
       "      <td>Monday</td>\n",
       "      <td>27</td>\n",
       "      <td>March</td>\n",
       "      <td>2023</td>\n",
       "      <td>23:52:44</td>\n",
       "    </tr>\n",
       "    <tr>\n",
       "      <th>14999</th>\n",
       "      <td>1538110</td>\n",
       "      <td>2023-03-27 23:58:20</td>\n",
       "      <td>2023-03-28 00:13:42.499311</td>\n",
       "      <td>Monday</td>\n",
       "      <td>27</td>\n",
       "      <td>March</td>\n",
       "      <td>2023</td>\n",
       "      <td>23:58:20</td>\n",
       "    </tr>\n",
       "  </tbody>\n",
       "</table>\n",
       "<p>15000 rows × 8 columns</p>\n",
       "</div>"
      ],
      "text/plain": [
       "       order_id     order_placed_at         order_delivered_at        day  \\\n",
       "0       1523111 2023-03-01 00:00:59 2023-03-01 00:18:07.443132  Wednesday   \n",
       "1       1523112 2023-03-01 00:03:59 2023-03-01 00:19:34.925241  Wednesday   \n",
       "2       1523113 2023-03-01 00:07:22 2023-03-01 00:22:28.291385  Wednesday   \n",
       "3       1523114 2023-03-01 00:07:47 2023-03-01 00:46:19.019399  Wednesday   \n",
       "4       1523115 2023-03-01 00:09:03 2023-03-01 00:25:13.619056  Wednesday   \n",
       "...         ...                 ...                        ...        ...   \n",
       "14995   1538106 2023-03-27 23:37:05 2023-03-27 23:52:37.409378     Monday   \n",
       "14996   1538107 2023-03-27 23:47:38 2023-03-28 00:04:22.672912     Monday   \n",
       "14997   1538108 2023-03-27 23:50:16 2023-03-28 00:05:40.676238     Monday   \n",
       "14998   1538109 2023-03-27 23:52:44 2023-03-28 00:08:41.810358     Monday   \n",
       "14999   1538110 2023-03-27 23:58:20 2023-03-28 00:13:42.499311     Monday   \n",
       "\n",
       "       date  month  year      time  \n",
       "0         1  March  2023  00:00:59  \n",
       "1         1  March  2023  00:03:59  \n",
       "2         1  March  2023  00:07:22  \n",
       "3         1  March  2023  00:07:47  \n",
       "4         1  March  2023  00:09:03  \n",
       "...     ...    ...   ...       ...  \n",
       "14995    27  March  2023  23:37:05  \n",
       "14996    27  March  2023  23:47:38  \n",
       "14997    27  March  2023  23:50:16  \n",
       "14998    27  March  2023  23:52:44  \n",
       "14999    27  March  2023  23:58:20  \n",
       "\n",
       "[15000 rows x 8 columns]"
      ]
     },
     "execution_count": 7,
     "metadata": {},
     "output_type": "execute_result"
    }
   ],
   "source": [
    "dominos_data"
   ]
  },
  {
   "cell_type": "markdown",
   "id": "319c6b13",
   "metadata": {},
   "source": [
    "### Check the total delivery time"
   ]
  },
  {
   "cell_type": "code",
   "execution_count": 8,
   "id": "bce50e58",
   "metadata": {},
   "outputs": [],
   "source": [
    "dominos_data['delivery_min'] = dominos_data['order_delivered_at'] - dominos_data['order_placed_at']"
   ]
  },
  {
   "cell_type": "code",
   "execution_count": 9,
   "id": "4e49a385",
   "metadata": {},
   "outputs": [
    {
     "data": {
      "text/html": [
       "<div>\n",
       "<style scoped>\n",
       "    .dataframe tbody tr th:only-of-type {\n",
       "        vertical-align: middle;\n",
       "    }\n",
       "\n",
       "    .dataframe tbody tr th {\n",
       "        vertical-align: top;\n",
       "    }\n",
       "\n",
       "    .dataframe thead th {\n",
       "        text-align: right;\n",
       "    }\n",
       "</style>\n",
       "<table border=\"1\" class=\"dataframe\">\n",
       "  <thead>\n",
       "    <tr style=\"text-align: right;\">\n",
       "      <th></th>\n",
       "      <th>order_id</th>\n",
       "      <th>order_placed_at</th>\n",
       "      <th>order_delivered_at</th>\n",
       "      <th>day</th>\n",
       "      <th>date</th>\n",
       "      <th>month</th>\n",
       "      <th>year</th>\n",
       "      <th>time</th>\n",
       "      <th>delivery_min</th>\n",
       "    </tr>\n",
       "  </thead>\n",
       "  <tbody>\n",
       "    <tr>\n",
       "      <th>0</th>\n",
       "      <td>1523111</td>\n",
       "      <td>2023-03-01 00:00:59</td>\n",
       "      <td>2023-03-01 00:18:07.443132</td>\n",
       "      <td>Wednesday</td>\n",
       "      <td>1</td>\n",
       "      <td>March</td>\n",
       "      <td>2023</td>\n",
       "      <td>00:00:59</td>\n",
       "      <td>0 days 00:17:08.443132</td>\n",
       "    </tr>\n",
       "    <tr>\n",
       "      <th>1</th>\n",
       "      <td>1523112</td>\n",
       "      <td>2023-03-01 00:03:59</td>\n",
       "      <td>2023-03-01 00:19:34.925241</td>\n",
       "      <td>Wednesday</td>\n",
       "      <td>1</td>\n",
       "      <td>March</td>\n",
       "      <td>2023</td>\n",
       "      <td>00:03:59</td>\n",
       "      <td>0 days 00:15:35.925241</td>\n",
       "    </tr>\n",
       "    <tr>\n",
       "      <th>2</th>\n",
       "      <td>1523113</td>\n",
       "      <td>2023-03-01 00:07:22</td>\n",
       "      <td>2023-03-01 00:22:28.291385</td>\n",
       "      <td>Wednesday</td>\n",
       "      <td>1</td>\n",
       "      <td>March</td>\n",
       "      <td>2023</td>\n",
       "      <td>00:07:22</td>\n",
       "      <td>0 days 00:15:06.291385</td>\n",
       "    </tr>\n",
       "    <tr>\n",
       "      <th>3</th>\n",
       "      <td>1523114</td>\n",
       "      <td>2023-03-01 00:07:47</td>\n",
       "      <td>2023-03-01 00:46:19.019399</td>\n",
       "      <td>Wednesday</td>\n",
       "      <td>1</td>\n",
       "      <td>March</td>\n",
       "      <td>2023</td>\n",
       "      <td>00:07:47</td>\n",
       "      <td>0 days 00:38:32.019399</td>\n",
       "    </tr>\n",
       "    <tr>\n",
       "      <th>4</th>\n",
       "      <td>1523115</td>\n",
       "      <td>2023-03-01 00:09:03</td>\n",
       "      <td>2023-03-01 00:25:13.619056</td>\n",
       "      <td>Wednesday</td>\n",
       "      <td>1</td>\n",
       "      <td>March</td>\n",
       "      <td>2023</td>\n",
       "      <td>00:09:03</td>\n",
       "      <td>0 days 00:16:10.619056</td>\n",
       "    </tr>\n",
       "    <tr>\n",
       "      <th>...</th>\n",
       "      <td>...</td>\n",
       "      <td>...</td>\n",
       "      <td>...</td>\n",
       "      <td>...</td>\n",
       "      <td>...</td>\n",
       "      <td>...</td>\n",
       "      <td>...</td>\n",
       "      <td>...</td>\n",
       "      <td>...</td>\n",
       "    </tr>\n",
       "    <tr>\n",
       "      <th>14995</th>\n",
       "      <td>1538106</td>\n",
       "      <td>2023-03-27 23:37:05</td>\n",
       "      <td>2023-03-27 23:52:37.409378</td>\n",
       "      <td>Monday</td>\n",
       "      <td>27</td>\n",
       "      <td>March</td>\n",
       "      <td>2023</td>\n",
       "      <td>23:37:05</td>\n",
       "      <td>0 days 00:15:32.409378</td>\n",
       "    </tr>\n",
       "    <tr>\n",
       "      <th>14996</th>\n",
       "      <td>1538107</td>\n",
       "      <td>2023-03-27 23:47:38</td>\n",
       "      <td>2023-03-28 00:04:22.672912</td>\n",
       "      <td>Monday</td>\n",
       "      <td>27</td>\n",
       "      <td>March</td>\n",
       "      <td>2023</td>\n",
       "      <td>23:47:38</td>\n",
       "      <td>0 days 00:16:44.672912</td>\n",
       "    </tr>\n",
       "    <tr>\n",
       "      <th>14997</th>\n",
       "      <td>1538108</td>\n",
       "      <td>2023-03-27 23:50:16</td>\n",
       "      <td>2023-03-28 00:05:40.676238</td>\n",
       "      <td>Monday</td>\n",
       "      <td>27</td>\n",
       "      <td>March</td>\n",
       "      <td>2023</td>\n",
       "      <td>23:50:16</td>\n",
       "      <td>0 days 00:15:24.676238</td>\n",
       "    </tr>\n",
       "    <tr>\n",
       "      <th>14998</th>\n",
       "      <td>1538109</td>\n",
       "      <td>2023-03-27 23:52:44</td>\n",
       "      <td>2023-03-28 00:08:41.810358</td>\n",
       "      <td>Monday</td>\n",
       "      <td>27</td>\n",
       "      <td>March</td>\n",
       "      <td>2023</td>\n",
       "      <td>23:52:44</td>\n",
       "      <td>0 days 00:15:57.810358</td>\n",
       "    </tr>\n",
       "    <tr>\n",
       "      <th>14999</th>\n",
       "      <td>1538110</td>\n",
       "      <td>2023-03-27 23:58:20</td>\n",
       "      <td>2023-03-28 00:13:42.499311</td>\n",
       "      <td>Monday</td>\n",
       "      <td>27</td>\n",
       "      <td>March</td>\n",
       "      <td>2023</td>\n",
       "      <td>23:58:20</td>\n",
       "      <td>0 days 00:15:22.499311</td>\n",
       "    </tr>\n",
       "  </tbody>\n",
       "</table>\n",
       "<p>15000 rows × 9 columns</p>\n",
       "</div>"
      ],
      "text/plain": [
       "       order_id     order_placed_at         order_delivered_at        day  \\\n",
       "0       1523111 2023-03-01 00:00:59 2023-03-01 00:18:07.443132  Wednesday   \n",
       "1       1523112 2023-03-01 00:03:59 2023-03-01 00:19:34.925241  Wednesday   \n",
       "2       1523113 2023-03-01 00:07:22 2023-03-01 00:22:28.291385  Wednesday   \n",
       "3       1523114 2023-03-01 00:07:47 2023-03-01 00:46:19.019399  Wednesday   \n",
       "4       1523115 2023-03-01 00:09:03 2023-03-01 00:25:13.619056  Wednesday   \n",
       "...         ...                 ...                        ...        ...   \n",
       "14995   1538106 2023-03-27 23:37:05 2023-03-27 23:52:37.409378     Monday   \n",
       "14996   1538107 2023-03-27 23:47:38 2023-03-28 00:04:22.672912     Monday   \n",
       "14997   1538108 2023-03-27 23:50:16 2023-03-28 00:05:40.676238     Monday   \n",
       "14998   1538109 2023-03-27 23:52:44 2023-03-28 00:08:41.810358     Monday   \n",
       "14999   1538110 2023-03-27 23:58:20 2023-03-28 00:13:42.499311     Monday   \n",
       "\n",
       "       date  month  year      time           delivery_min  \n",
       "0         1  March  2023  00:00:59 0 days 00:17:08.443132  \n",
       "1         1  March  2023  00:03:59 0 days 00:15:35.925241  \n",
       "2         1  March  2023  00:07:22 0 days 00:15:06.291385  \n",
       "3         1  March  2023  00:07:47 0 days 00:38:32.019399  \n",
       "4         1  March  2023  00:09:03 0 days 00:16:10.619056  \n",
       "...     ...    ...   ...       ...                    ...  \n",
       "14995    27  March  2023  23:37:05 0 days 00:15:32.409378  \n",
       "14996    27  March  2023  23:47:38 0 days 00:16:44.672912  \n",
       "14997    27  March  2023  23:50:16 0 days 00:15:24.676238  \n",
       "14998    27  March  2023  23:52:44 0 days 00:15:57.810358  \n",
       "14999    27  March  2023  23:58:20 0 days 00:15:22.499311  \n",
       "\n",
       "[15000 rows x 9 columns]"
      ]
     },
     "execution_count": 9,
     "metadata": {},
     "output_type": "execute_result"
    }
   ],
   "source": [
    "dominos_data"
   ]
  },
  {
   "cell_type": "code",
   "execution_count": 10,
   "id": "c8395b80",
   "metadata": {},
   "outputs": [],
   "source": [
    "dominos_data['delivery_min'] = dominos_data['delivery_min'].dt.total_seconds() / 60"
   ]
  },
  {
   "cell_type": "code",
   "execution_count": 11,
   "id": "d6ffe69d",
   "metadata": {},
   "outputs": [
    {
     "data": {
      "text/html": [
       "<div>\n",
       "<style scoped>\n",
       "    .dataframe tbody tr th:only-of-type {\n",
       "        vertical-align: middle;\n",
       "    }\n",
       "\n",
       "    .dataframe tbody tr th {\n",
       "        vertical-align: top;\n",
       "    }\n",
       "\n",
       "    .dataframe thead th {\n",
       "        text-align: right;\n",
       "    }\n",
       "</style>\n",
       "<table border=\"1\" class=\"dataframe\">\n",
       "  <thead>\n",
       "    <tr style=\"text-align: right;\">\n",
       "      <th></th>\n",
       "      <th>order_id</th>\n",
       "      <th>order_placed_at</th>\n",
       "      <th>order_delivered_at</th>\n",
       "      <th>day</th>\n",
       "      <th>date</th>\n",
       "      <th>month</th>\n",
       "      <th>year</th>\n",
       "      <th>time</th>\n",
       "      <th>delivery_min</th>\n",
       "    </tr>\n",
       "  </thead>\n",
       "  <tbody>\n",
       "    <tr>\n",
       "      <th>0</th>\n",
       "      <td>1523111</td>\n",
       "      <td>2023-03-01 00:00:59</td>\n",
       "      <td>2023-03-01 00:18:07.443132</td>\n",
       "      <td>Wednesday</td>\n",
       "      <td>1</td>\n",
       "      <td>March</td>\n",
       "      <td>2023</td>\n",
       "      <td>00:00:59</td>\n",
       "      <td>17.140719</td>\n",
       "    </tr>\n",
       "    <tr>\n",
       "      <th>1</th>\n",
       "      <td>1523112</td>\n",
       "      <td>2023-03-01 00:03:59</td>\n",
       "      <td>2023-03-01 00:19:34.925241</td>\n",
       "      <td>Wednesday</td>\n",
       "      <td>1</td>\n",
       "      <td>March</td>\n",
       "      <td>2023</td>\n",
       "      <td>00:03:59</td>\n",
       "      <td>15.598754</td>\n",
       "    </tr>\n",
       "    <tr>\n",
       "      <th>2</th>\n",
       "      <td>1523113</td>\n",
       "      <td>2023-03-01 00:07:22</td>\n",
       "      <td>2023-03-01 00:22:28.291385</td>\n",
       "      <td>Wednesday</td>\n",
       "      <td>1</td>\n",
       "      <td>March</td>\n",
       "      <td>2023</td>\n",
       "      <td>00:07:22</td>\n",
       "      <td>15.104856</td>\n",
       "    </tr>\n",
       "    <tr>\n",
       "      <th>3</th>\n",
       "      <td>1523114</td>\n",
       "      <td>2023-03-01 00:07:47</td>\n",
       "      <td>2023-03-01 00:46:19.019399</td>\n",
       "      <td>Wednesday</td>\n",
       "      <td>1</td>\n",
       "      <td>March</td>\n",
       "      <td>2023</td>\n",
       "      <td>00:07:47</td>\n",
       "      <td>38.533657</td>\n",
       "    </tr>\n",
       "    <tr>\n",
       "      <th>4</th>\n",
       "      <td>1523115</td>\n",
       "      <td>2023-03-01 00:09:03</td>\n",
       "      <td>2023-03-01 00:25:13.619056</td>\n",
       "      <td>Wednesday</td>\n",
       "      <td>1</td>\n",
       "      <td>March</td>\n",
       "      <td>2023</td>\n",
       "      <td>00:09:03</td>\n",
       "      <td>16.176984</td>\n",
       "    </tr>\n",
       "    <tr>\n",
       "      <th>...</th>\n",
       "      <td>...</td>\n",
       "      <td>...</td>\n",
       "      <td>...</td>\n",
       "      <td>...</td>\n",
       "      <td>...</td>\n",
       "      <td>...</td>\n",
       "      <td>...</td>\n",
       "      <td>...</td>\n",
       "      <td>...</td>\n",
       "    </tr>\n",
       "    <tr>\n",
       "      <th>14995</th>\n",
       "      <td>1538106</td>\n",
       "      <td>2023-03-27 23:37:05</td>\n",
       "      <td>2023-03-27 23:52:37.409378</td>\n",
       "      <td>Monday</td>\n",
       "      <td>27</td>\n",
       "      <td>March</td>\n",
       "      <td>2023</td>\n",
       "      <td>23:37:05</td>\n",
       "      <td>15.540156</td>\n",
       "    </tr>\n",
       "    <tr>\n",
       "      <th>14996</th>\n",
       "      <td>1538107</td>\n",
       "      <td>2023-03-27 23:47:38</td>\n",
       "      <td>2023-03-28 00:04:22.672912</td>\n",
       "      <td>Monday</td>\n",
       "      <td>27</td>\n",
       "      <td>March</td>\n",
       "      <td>2023</td>\n",
       "      <td>23:47:38</td>\n",
       "      <td>16.744549</td>\n",
       "    </tr>\n",
       "    <tr>\n",
       "      <th>14997</th>\n",
       "      <td>1538108</td>\n",
       "      <td>2023-03-27 23:50:16</td>\n",
       "      <td>2023-03-28 00:05:40.676238</td>\n",
       "      <td>Monday</td>\n",
       "      <td>27</td>\n",
       "      <td>March</td>\n",
       "      <td>2023</td>\n",
       "      <td>23:50:16</td>\n",
       "      <td>15.411271</td>\n",
       "    </tr>\n",
       "    <tr>\n",
       "      <th>14998</th>\n",
       "      <td>1538109</td>\n",
       "      <td>2023-03-27 23:52:44</td>\n",
       "      <td>2023-03-28 00:08:41.810358</td>\n",
       "      <td>Monday</td>\n",
       "      <td>27</td>\n",
       "      <td>March</td>\n",
       "      <td>2023</td>\n",
       "      <td>23:52:44</td>\n",
       "      <td>15.963506</td>\n",
       "    </tr>\n",
       "    <tr>\n",
       "      <th>14999</th>\n",
       "      <td>1538110</td>\n",
       "      <td>2023-03-27 23:58:20</td>\n",
       "      <td>2023-03-28 00:13:42.499311</td>\n",
       "      <td>Monday</td>\n",
       "      <td>27</td>\n",
       "      <td>March</td>\n",
       "      <td>2023</td>\n",
       "      <td>23:58:20</td>\n",
       "      <td>15.374989</td>\n",
       "    </tr>\n",
       "  </tbody>\n",
       "</table>\n",
       "<p>15000 rows × 9 columns</p>\n",
       "</div>"
      ],
      "text/plain": [
       "       order_id     order_placed_at         order_delivered_at        day  \\\n",
       "0       1523111 2023-03-01 00:00:59 2023-03-01 00:18:07.443132  Wednesday   \n",
       "1       1523112 2023-03-01 00:03:59 2023-03-01 00:19:34.925241  Wednesday   \n",
       "2       1523113 2023-03-01 00:07:22 2023-03-01 00:22:28.291385  Wednesday   \n",
       "3       1523114 2023-03-01 00:07:47 2023-03-01 00:46:19.019399  Wednesday   \n",
       "4       1523115 2023-03-01 00:09:03 2023-03-01 00:25:13.619056  Wednesday   \n",
       "...         ...                 ...                        ...        ...   \n",
       "14995   1538106 2023-03-27 23:37:05 2023-03-27 23:52:37.409378     Monday   \n",
       "14996   1538107 2023-03-27 23:47:38 2023-03-28 00:04:22.672912     Monday   \n",
       "14997   1538108 2023-03-27 23:50:16 2023-03-28 00:05:40.676238     Monday   \n",
       "14998   1538109 2023-03-27 23:52:44 2023-03-28 00:08:41.810358     Monday   \n",
       "14999   1538110 2023-03-27 23:58:20 2023-03-28 00:13:42.499311     Monday   \n",
       "\n",
       "       date  month  year      time  delivery_min  \n",
       "0         1  March  2023  00:00:59     17.140719  \n",
       "1         1  March  2023  00:03:59     15.598754  \n",
       "2         1  March  2023  00:07:22     15.104856  \n",
       "3         1  March  2023  00:07:47     38.533657  \n",
       "4         1  March  2023  00:09:03     16.176984  \n",
       "...     ...    ...   ...       ...           ...  \n",
       "14995    27  March  2023  23:37:05     15.540156  \n",
       "14996    27  March  2023  23:47:38     16.744549  \n",
       "14997    27  March  2023  23:50:16     15.411271  \n",
       "14998    27  March  2023  23:52:44     15.963506  \n",
       "14999    27  March  2023  23:58:20     15.374989  \n",
       "\n",
       "[15000 rows x 9 columns]"
      ]
     },
     "execution_count": 11,
     "metadata": {},
     "output_type": "execute_result"
    }
   ],
   "source": [
    "dominos_data"
   ]
  },
  {
   "cell_type": "markdown",
   "id": "09f93f18",
   "metadata": {},
   "source": [
    "### Time Partition"
   ]
  },
  {
   "cell_type": "code",
   "execution_count": 12,
   "id": "19620d40",
   "metadata": {},
   "outputs": [],
   "source": [
    "dominos_data['time_period'] = dominos_data['order_placed_at'].apply(lambda x: \"4AM - 9AM\" if x.hour > 4 and x.hour <= 9 else (\"10AM - 3PM\" if x.hour > 10 and x.hour <= 15 else (\"4PM - 9PM\" if x.hour > 16 and x.hour <= 21 else \"10PM - 3AM\")))"
   ]
  },
  {
   "cell_type": "code",
   "execution_count": 13,
   "id": "83a9ba47",
   "metadata": {},
   "outputs": [
    {
     "data": {
      "text/html": [
       "<div>\n",
       "<style scoped>\n",
       "    .dataframe tbody tr th:only-of-type {\n",
       "        vertical-align: middle;\n",
       "    }\n",
       "\n",
       "    .dataframe tbody tr th {\n",
       "        vertical-align: top;\n",
       "    }\n",
       "\n",
       "    .dataframe thead th {\n",
       "        text-align: right;\n",
       "    }\n",
       "</style>\n",
       "<table border=\"1\" class=\"dataframe\">\n",
       "  <thead>\n",
       "    <tr style=\"text-align: right;\">\n",
       "      <th></th>\n",
       "      <th>order_id</th>\n",
       "      <th>order_placed_at</th>\n",
       "      <th>order_delivered_at</th>\n",
       "      <th>day</th>\n",
       "      <th>date</th>\n",
       "      <th>month</th>\n",
       "      <th>year</th>\n",
       "      <th>time</th>\n",
       "      <th>delivery_min</th>\n",
       "      <th>time_period</th>\n",
       "    </tr>\n",
       "  </thead>\n",
       "  <tbody>\n",
       "    <tr>\n",
       "      <th>0</th>\n",
       "      <td>1523111</td>\n",
       "      <td>2023-03-01 00:00:59</td>\n",
       "      <td>2023-03-01 00:18:07.443132</td>\n",
       "      <td>Wednesday</td>\n",
       "      <td>1</td>\n",
       "      <td>March</td>\n",
       "      <td>2023</td>\n",
       "      <td>00:00:59</td>\n",
       "      <td>17.140719</td>\n",
       "      <td>10PM - 3AM</td>\n",
       "    </tr>\n",
       "    <tr>\n",
       "      <th>1</th>\n",
       "      <td>1523112</td>\n",
       "      <td>2023-03-01 00:03:59</td>\n",
       "      <td>2023-03-01 00:19:34.925241</td>\n",
       "      <td>Wednesday</td>\n",
       "      <td>1</td>\n",
       "      <td>March</td>\n",
       "      <td>2023</td>\n",
       "      <td>00:03:59</td>\n",
       "      <td>15.598754</td>\n",
       "      <td>10PM - 3AM</td>\n",
       "    </tr>\n",
       "    <tr>\n",
       "      <th>2</th>\n",
       "      <td>1523113</td>\n",
       "      <td>2023-03-01 00:07:22</td>\n",
       "      <td>2023-03-01 00:22:28.291385</td>\n",
       "      <td>Wednesday</td>\n",
       "      <td>1</td>\n",
       "      <td>March</td>\n",
       "      <td>2023</td>\n",
       "      <td>00:07:22</td>\n",
       "      <td>15.104856</td>\n",
       "      <td>10PM - 3AM</td>\n",
       "    </tr>\n",
       "    <tr>\n",
       "      <th>3</th>\n",
       "      <td>1523114</td>\n",
       "      <td>2023-03-01 00:07:47</td>\n",
       "      <td>2023-03-01 00:46:19.019399</td>\n",
       "      <td>Wednesday</td>\n",
       "      <td>1</td>\n",
       "      <td>March</td>\n",
       "      <td>2023</td>\n",
       "      <td>00:07:47</td>\n",
       "      <td>38.533657</td>\n",
       "      <td>10PM - 3AM</td>\n",
       "    </tr>\n",
       "    <tr>\n",
       "      <th>4</th>\n",
       "      <td>1523115</td>\n",
       "      <td>2023-03-01 00:09:03</td>\n",
       "      <td>2023-03-01 00:25:13.619056</td>\n",
       "      <td>Wednesday</td>\n",
       "      <td>1</td>\n",
       "      <td>March</td>\n",
       "      <td>2023</td>\n",
       "      <td>00:09:03</td>\n",
       "      <td>16.176984</td>\n",
       "      <td>10PM - 3AM</td>\n",
       "    </tr>\n",
       "    <tr>\n",
       "      <th>...</th>\n",
       "      <td>...</td>\n",
       "      <td>...</td>\n",
       "      <td>...</td>\n",
       "      <td>...</td>\n",
       "      <td>...</td>\n",
       "      <td>...</td>\n",
       "      <td>...</td>\n",
       "      <td>...</td>\n",
       "      <td>...</td>\n",
       "      <td>...</td>\n",
       "    </tr>\n",
       "    <tr>\n",
       "      <th>14995</th>\n",
       "      <td>1538106</td>\n",
       "      <td>2023-03-27 23:37:05</td>\n",
       "      <td>2023-03-27 23:52:37.409378</td>\n",
       "      <td>Monday</td>\n",
       "      <td>27</td>\n",
       "      <td>March</td>\n",
       "      <td>2023</td>\n",
       "      <td>23:37:05</td>\n",
       "      <td>15.540156</td>\n",
       "      <td>10PM - 3AM</td>\n",
       "    </tr>\n",
       "    <tr>\n",
       "      <th>14996</th>\n",
       "      <td>1538107</td>\n",
       "      <td>2023-03-27 23:47:38</td>\n",
       "      <td>2023-03-28 00:04:22.672912</td>\n",
       "      <td>Monday</td>\n",
       "      <td>27</td>\n",
       "      <td>March</td>\n",
       "      <td>2023</td>\n",
       "      <td>23:47:38</td>\n",
       "      <td>16.744549</td>\n",
       "      <td>10PM - 3AM</td>\n",
       "    </tr>\n",
       "    <tr>\n",
       "      <th>14997</th>\n",
       "      <td>1538108</td>\n",
       "      <td>2023-03-27 23:50:16</td>\n",
       "      <td>2023-03-28 00:05:40.676238</td>\n",
       "      <td>Monday</td>\n",
       "      <td>27</td>\n",
       "      <td>March</td>\n",
       "      <td>2023</td>\n",
       "      <td>23:50:16</td>\n",
       "      <td>15.411271</td>\n",
       "      <td>10PM - 3AM</td>\n",
       "    </tr>\n",
       "    <tr>\n",
       "      <th>14998</th>\n",
       "      <td>1538109</td>\n",
       "      <td>2023-03-27 23:52:44</td>\n",
       "      <td>2023-03-28 00:08:41.810358</td>\n",
       "      <td>Monday</td>\n",
       "      <td>27</td>\n",
       "      <td>March</td>\n",
       "      <td>2023</td>\n",
       "      <td>23:52:44</td>\n",
       "      <td>15.963506</td>\n",
       "      <td>10PM - 3AM</td>\n",
       "    </tr>\n",
       "    <tr>\n",
       "      <th>14999</th>\n",
       "      <td>1538110</td>\n",
       "      <td>2023-03-27 23:58:20</td>\n",
       "      <td>2023-03-28 00:13:42.499311</td>\n",
       "      <td>Monday</td>\n",
       "      <td>27</td>\n",
       "      <td>March</td>\n",
       "      <td>2023</td>\n",
       "      <td>23:58:20</td>\n",
       "      <td>15.374989</td>\n",
       "      <td>10PM - 3AM</td>\n",
       "    </tr>\n",
       "  </tbody>\n",
       "</table>\n",
       "<p>15000 rows × 10 columns</p>\n",
       "</div>"
      ],
      "text/plain": [
       "       order_id     order_placed_at         order_delivered_at        day  \\\n",
       "0       1523111 2023-03-01 00:00:59 2023-03-01 00:18:07.443132  Wednesday   \n",
       "1       1523112 2023-03-01 00:03:59 2023-03-01 00:19:34.925241  Wednesday   \n",
       "2       1523113 2023-03-01 00:07:22 2023-03-01 00:22:28.291385  Wednesday   \n",
       "3       1523114 2023-03-01 00:07:47 2023-03-01 00:46:19.019399  Wednesday   \n",
       "4       1523115 2023-03-01 00:09:03 2023-03-01 00:25:13.619056  Wednesday   \n",
       "...         ...                 ...                        ...        ...   \n",
       "14995   1538106 2023-03-27 23:37:05 2023-03-27 23:52:37.409378     Monday   \n",
       "14996   1538107 2023-03-27 23:47:38 2023-03-28 00:04:22.672912     Monday   \n",
       "14997   1538108 2023-03-27 23:50:16 2023-03-28 00:05:40.676238     Monday   \n",
       "14998   1538109 2023-03-27 23:52:44 2023-03-28 00:08:41.810358     Monday   \n",
       "14999   1538110 2023-03-27 23:58:20 2023-03-28 00:13:42.499311     Monday   \n",
       "\n",
       "       date  month  year      time  delivery_min time_period  \n",
       "0         1  March  2023  00:00:59     17.140719  10PM - 3AM  \n",
       "1         1  March  2023  00:03:59     15.598754  10PM - 3AM  \n",
       "2         1  March  2023  00:07:22     15.104856  10PM - 3AM  \n",
       "3         1  March  2023  00:07:47     38.533657  10PM - 3AM  \n",
       "4         1  March  2023  00:09:03     16.176984  10PM - 3AM  \n",
       "...     ...    ...   ...       ...           ...         ...  \n",
       "14995    27  March  2023  23:37:05     15.540156  10PM - 3AM  \n",
       "14996    27  March  2023  23:47:38     16.744549  10PM - 3AM  \n",
       "14997    27  March  2023  23:50:16     15.411271  10PM - 3AM  \n",
       "14998    27  March  2023  23:52:44     15.963506  10PM - 3AM  \n",
       "14999    27  March  2023  23:58:20     15.374989  10PM - 3AM  \n",
       "\n",
       "[15000 rows x 10 columns]"
      ]
     },
     "execution_count": 13,
     "metadata": {},
     "output_type": "execute_result"
    }
   ],
   "source": [
    "dominos_data"
   ]
  },
  {
   "cell_type": "markdown",
   "id": "7aef0d6a",
   "metadata": {},
   "source": [
    "## 4. Univariate Analysis - Delivery Min"
   ]
  },
  {
   "cell_type": "code",
   "execution_count": 14,
   "id": "c8d2ec51",
   "metadata": {},
   "outputs": [
    {
     "data": {
      "text/plain": [
       "count    15000.000000\n",
       "mean        20.499389\n",
       "std         96.160362\n",
       "min         15.000010\n",
       "25%         15.274826\n",
       "50%         15.797986\n",
       "75%         17.279661\n",
       "max       7299.831375\n",
       "Name: delivery_min, dtype: float64"
      ]
     },
     "execution_count": 14,
     "metadata": {},
     "output_type": "execute_result"
    }
   ],
   "source": [
    "dominos_data[\"delivery_min\"].describe()"
   ]
  },
  {
   "cell_type": "code",
   "execution_count": 15,
   "id": "db3bbe44",
   "metadata": {},
   "outputs": [
    {
     "data": {
      "text/plain": [
       "20.499389326467746"
      ]
     },
     "execution_count": 15,
     "metadata": {},
     "output_type": "execute_result"
    }
   ],
   "source": [
    "dominos_data[\"delivery_min\"].mean()"
   ]
  },
  {
   "cell_type": "code",
   "execution_count": 16,
   "id": "d6d014ed",
   "metadata": {},
   "outputs": [
    {
     "data": {
      "text/plain": [
       "15.797986066666668"
      ]
     },
     "execution_count": 16,
     "metadata": {},
     "output_type": "execute_result"
    }
   ],
   "source": [
    "dominos_data[\"delivery_min\"].median()"
   ]
  },
  {
   "cell_type": "code",
   "execution_count": 17,
   "id": "fc6b55e1",
   "metadata": {},
   "outputs": [
    {
     "data": {
      "text/plain": [
       "15.000010333333334"
      ]
     },
     "execution_count": 17,
     "metadata": {},
     "output_type": "execute_result"
    }
   ],
   "source": [
    "dominos_data[\"delivery_min\"].min()"
   ]
  },
  {
   "cell_type": "code",
   "execution_count": 18,
   "id": "4f3e5d8a",
   "metadata": {},
   "outputs": [
    {
     "data": {
      "text/plain": [
       "7299.831374933334"
      ]
     },
     "execution_count": 18,
     "metadata": {},
     "output_type": "execute_result"
    }
   ],
   "source": [
    "dominos_data[\"delivery_min\"].max()"
   ]
  },
  {
   "cell_type": "markdown",
   "id": "20cd033b",
   "metadata": {},
   "source": [
    "### Detect Outliers"
   ]
  },
  {
   "cell_type": "code",
   "execution_count": 19,
   "id": "393b24a4",
   "metadata": {},
   "outputs": [
    {
     "data": {
      "image/png": "[encoded data removed]",
      "text/plain": [
       "<Figure size 800x300 with 1 Axes>"
      ]
     },
     "metadata": {},
     "output_type": "display_data"
    }
   ],
   "source": [
    "dominos_data.delivery_min.plot(kind='box', vert=False, figsize=(8,3));"
   ]
  },
  {
   "cell_type": "code",
   "execution_count": 20,
   "id": "59b4768b",
   "metadata": {
    "scrolled": false
   },
   "outputs": [
    {
     "data": {
      "text/html": [
       "<div>\n",
       "<style scoped>\n",
       "    .dataframe tbody tr th:only-of-type {\n",
       "        vertical-align: middle;\n",
       "    }\n",
       "\n",
       "    .dataframe tbody tr th {\n",
       "        vertical-align: top;\n",
       "    }\n",
       "\n",
       "    .dataframe thead th {\n",
       "        text-align: right;\n",
       "    }\n",
       "</style>\n",
       "<table border=\"1\" class=\"dataframe\">\n",
       "  <thead>\n",
       "    <tr style=\"text-align: right;\">\n",
       "      <th></th>\n",
       "      <th>order_id</th>\n",
       "      <th>order_placed_at</th>\n",
       "      <th>order_delivered_at</th>\n",
       "      <th>day</th>\n",
       "      <th>date</th>\n",
       "      <th>month</th>\n",
       "      <th>year</th>\n",
       "      <th>time</th>\n",
       "      <th>delivery_min</th>\n",
       "      <th>time_period</th>\n",
       "    </tr>\n",
       "  </thead>\n",
       "  <tbody>\n",
       "    <tr>\n",
       "      <th>24</th>\n",
       "      <td>1523135</td>\n",
       "      <td>2023-03-01 01:11:53</td>\n",
       "      <td>2023-03-01 05:07:54.563978</td>\n",
       "      <td>Wednesday</td>\n",
       "      <td>1</td>\n",
       "      <td>March</td>\n",
       "      <td>2023</td>\n",
       "      <td>01:11:53</td>\n",
       "      <td>236.026066</td>\n",
       "      <td>10PM - 3AM</td>\n",
       "    </tr>\n",
       "    <tr>\n",
       "      <th>117</th>\n",
       "      <td>1523228</td>\n",
       "      <td>2023-03-01 04:59:04</td>\n",
       "      <td>2023-03-01 18:06:52.046891</td>\n",
       "      <td>Wednesday</td>\n",
       "      <td>1</td>\n",
       "      <td>March</td>\n",
       "      <td>2023</td>\n",
       "      <td>04:59:04</td>\n",
       "      <td>787.800782</td>\n",
       "      <td>10PM - 3AM</td>\n",
       "    </tr>\n",
       "    <tr>\n",
       "      <th>174</th>\n",
       "      <td>1523285</td>\n",
       "      <td>2023-03-01 07:22:11</td>\n",
       "      <td>2023-03-01 08:12:51.906470</td>\n",
       "      <td>Wednesday</td>\n",
       "      <td>1</td>\n",
       "      <td>March</td>\n",
       "      <td>2023</td>\n",
       "      <td>07:22:11</td>\n",
       "      <td>50.681775</td>\n",
       "      <td>4AM - 9AM</td>\n",
       "    </tr>\n",
       "    <tr>\n",
       "      <th>408</th>\n",
       "      <td>1523519</td>\n",
       "      <td>2023-03-01 18:05:17</td>\n",
       "      <td>2023-03-01 19:46:42.833697</td>\n",
       "      <td>Wednesday</td>\n",
       "      <td>1</td>\n",
       "      <td>March</td>\n",
       "      <td>2023</td>\n",
       "      <td>18:05:17</td>\n",
       "      <td>101.430562</td>\n",
       "      <td>4PM - 9PM</td>\n",
       "    </tr>\n",
       "    <tr>\n",
       "      <th>415</th>\n",
       "      <td>1523526</td>\n",
       "      <td>2023-03-01 18:39:52</td>\n",
       "      <td>2023-03-01 19:26:50.712489</td>\n",
       "      <td>Wednesday</td>\n",
       "      <td>1</td>\n",
       "      <td>March</td>\n",
       "      <td>2023</td>\n",
       "      <td>18:39:52</td>\n",
       "      <td>46.978541</td>\n",
       "      <td>4PM - 9PM</td>\n",
       "    </tr>\n",
       "    <tr>\n",
       "      <th>...</th>\n",
       "      <td>...</td>\n",
       "      <td>...</td>\n",
       "      <td>...</td>\n",
       "      <td>...</td>\n",
       "      <td>...</td>\n",
       "      <td>...</td>\n",
       "      <td>...</td>\n",
       "      <td>...</td>\n",
       "      <td>...</td>\n",
       "      <td>...</td>\n",
       "    </tr>\n",
       "    <tr>\n",
       "      <th>14593</th>\n",
       "      <td>1537704</td>\n",
       "      <td>2023-03-27 05:57:43</td>\n",
       "      <td>2023-03-27 07:01:35.117442</td>\n",
       "      <td>Monday</td>\n",
       "      <td>27</td>\n",
       "      <td>March</td>\n",
       "      <td>2023</td>\n",
       "      <td>05:57:43</td>\n",
       "      <td>63.868624</td>\n",
       "      <td>4AM - 9AM</td>\n",
       "    </tr>\n",
       "    <tr>\n",
       "      <th>14603</th>\n",
       "      <td>1537714</td>\n",
       "      <td>2023-03-27 06:32:17</td>\n",
       "      <td>2023-03-27 07:29:10.364276</td>\n",
       "      <td>Monday</td>\n",
       "      <td>27</td>\n",
       "      <td>March</td>\n",
       "      <td>2023</td>\n",
       "      <td>06:32:17</td>\n",
       "      <td>56.889405</td>\n",
       "      <td>4AM - 9AM</td>\n",
       "    </tr>\n",
       "    <tr>\n",
       "      <th>14741</th>\n",
       "      <td>1537852</td>\n",
       "      <td>2023-03-27 12:55:37</td>\n",
       "      <td>2023-03-27 13:52:53.206025</td>\n",
       "      <td>Monday</td>\n",
       "      <td>27</td>\n",
       "      <td>March</td>\n",
       "      <td>2023</td>\n",
       "      <td>12:55:37</td>\n",
       "      <td>57.270100</td>\n",
       "      <td>10AM - 3PM</td>\n",
       "    </tr>\n",
       "    <tr>\n",
       "      <th>14841</th>\n",
       "      <td>1537952</td>\n",
       "      <td>2023-03-27 16:42:37</td>\n",
       "      <td>2023-03-27 17:43:13.294744</td>\n",
       "      <td>Monday</td>\n",
       "      <td>27</td>\n",
       "      <td>March</td>\n",
       "      <td>2023</td>\n",
       "      <td>16:42:37</td>\n",
       "      <td>60.604912</td>\n",
       "      <td>10PM - 3AM</td>\n",
       "    </tr>\n",
       "    <tr>\n",
       "      <th>14953</th>\n",
       "      <td>1538064</td>\n",
       "      <td>2023-03-27 22:04:53</td>\n",
       "      <td>2023-03-27 22:55:03.230465</td>\n",
       "      <td>Monday</td>\n",
       "      <td>27</td>\n",
       "      <td>March</td>\n",
       "      <td>2023</td>\n",
       "      <td>22:04:53</td>\n",
       "      <td>50.170508</td>\n",
       "      <td>10PM - 3AM</td>\n",
       "    </tr>\n",
       "  </tbody>\n",
       "</table>\n",
       "<p>262 rows × 10 columns</p>\n",
       "</div>"
      ],
      "text/plain": [
       "       order_id     order_placed_at         order_delivered_at        day  \\\n",
       "24      1523135 2023-03-01 01:11:53 2023-03-01 05:07:54.563978  Wednesday   \n",
       "117     1523228 2023-03-01 04:59:04 2023-03-01 18:06:52.046891  Wednesday   \n",
       "174     1523285 2023-03-01 07:22:11 2023-03-01 08:12:51.906470  Wednesday   \n",
       "408     1523519 2023-03-01 18:05:17 2023-03-01 19:46:42.833697  Wednesday   \n",
       "415     1523526 2023-03-01 18:39:52 2023-03-01 19:26:50.712489  Wednesday   \n",
       "...         ...                 ...                        ...        ...   \n",
       "14593   1537704 2023-03-27 05:57:43 2023-03-27 07:01:35.117442     Monday   \n",
       "14603   1537714 2023-03-27 06:32:17 2023-03-27 07:29:10.364276     Monday   \n",
       "14741   1537852 2023-03-27 12:55:37 2023-03-27 13:52:53.206025     Monday   \n",
       "14841   1537952 2023-03-27 16:42:37 2023-03-27 17:43:13.294744     Monday   \n",
       "14953   1538064 2023-03-27 22:04:53 2023-03-27 22:55:03.230465     Monday   \n",
       "\n",
       "       date  month  year      time  delivery_min time_period  \n",
       "24        1  March  2023  01:11:53    236.026066  10PM - 3AM  \n",
       "117       1  March  2023  04:59:04    787.800782  10PM - 3AM  \n",
       "174       1  March  2023  07:22:11     50.681775   4AM - 9AM  \n",
       "408       1  March  2023  18:05:17    101.430562   4PM - 9PM  \n",
       "415       1  March  2023  18:39:52     46.978541   4PM - 9PM  \n",
       "...     ...    ...   ...       ...           ...         ...  \n",
       "14593    27  March  2023  05:57:43     63.868624   4AM - 9AM  \n",
       "14603    27  March  2023  06:32:17     56.889405   4AM - 9AM  \n",
       "14741    27  March  2023  12:55:37     57.270100  10AM - 3PM  \n",
       "14841    27  March  2023  16:42:37     60.604912  10PM - 3AM  \n",
       "14953    27  March  2023  22:04:53     50.170508  10PM - 3AM  \n",
       "\n",
       "[262 rows x 10 columns]"
      ]
     },
     "execution_count": 20,
     "metadata": {},
     "output_type": "execute_result"
    }
   ],
   "source": [
    "outliers = dominos_data[dominos_data.delivery_min >= 45]\n",
    "outliers"
   ]
  },
  {
   "cell_type": "markdown",
   "id": "707b01f8",
   "metadata": {},
   "source": [
    "## Obeservation:\n",
    "### Total 262 Order I removed which is more than 45 min taken.\n",
    "\n",
    "* **Note - Need to talk with Store Manager what is there actual problem If genuine problem then we go to remove these outliers.**"
   ]
  },
  {
   "cell_type": "code",
   "execution_count": 21,
   "id": "241eec0b",
   "metadata": {},
   "outputs": [],
   "source": [
    "clean_time = dominos_data[dominos_data.delivery_min <= 45]"
   ]
  },
  {
   "cell_type": "code",
   "execution_count": 22,
   "id": "12260015",
   "metadata": {},
   "outputs": [
    {
     "data": {
      "text/plain": [
       "count    14738.000000\n",
       "mean        17.109862\n",
       "std          3.765858\n",
       "min         15.000010\n",
       "25%         15.268361\n",
       "50%         15.770326\n",
       "75%         17.140946\n",
       "max         44.899112\n",
       "Name: delivery_min, dtype: float64"
      ]
     },
     "execution_count": 22,
     "metadata": {},
     "output_type": "execute_result"
    }
   ],
   "source": [
    "clean_time[\"delivery_min\"].describe()"
   ]
  },
  {
   "cell_type": "code",
   "execution_count": 23,
   "id": "69e82c35",
   "metadata": {},
   "outputs": [
    {
     "data": {
      "text/plain": [
       "17.10986247380918"
      ]
     },
     "execution_count": 23,
     "metadata": {},
     "output_type": "execute_result"
    }
   ],
   "source": [
    "clean_time[\"delivery_min\"].mean()"
   ]
  },
  {
   "cell_type": "code",
   "execution_count": 24,
   "id": "dc55f2c0",
   "metadata": {},
   "outputs": [
    {
     "data": {
      "text/plain": [
       "15.770325641666666"
      ]
     },
     "execution_count": 24,
     "metadata": {},
     "output_type": "execute_result"
    }
   ],
   "source": [
    "clean_time[\"delivery_min\"].median()"
   ]
  },
  {
   "cell_type": "code",
   "execution_count": 25,
   "id": "e2509370",
   "metadata": {},
   "outputs": [
    {
     "data": {
      "text/plain": [
       "15.000010333333334"
      ]
     },
     "execution_count": 25,
     "metadata": {},
     "output_type": "execute_result"
    }
   ],
   "source": [
    "clean_time[\"delivery_min\"].min()"
   ]
  },
  {
   "cell_type": "code",
   "execution_count": 26,
   "id": "34f00595",
   "metadata": {},
   "outputs": [
    {
     "data": {
      "text/plain": [
       "44.89911151666667"
      ]
     },
     "execution_count": 26,
     "metadata": {},
     "output_type": "execute_result"
    }
   ],
   "source": [
    "clean_time[\"delivery_min\"].max()"
   ]
  },
  {
   "cell_type": "code",
   "execution_count": 27,
   "id": "2419343f",
   "metadata": {},
   "outputs": [
    {
     "data": {
      "image/png": "[encoded data removed]",
      "text/plain": [
       "<Figure size 800x400 with 1 Axes>"
      ]
     },
     "metadata": {},
     "output_type": "display_data"
    }
   ],
   "source": [
    "clean_time[\"delivery_min\"].plot(kind='hist', bins=90, figsize=(8,4));"
   ]
  },
  {
   "cell_type": "code",
   "execution_count": 28,
   "id": "79f563af",
   "metadata": {},
   "outputs": [
    {
     "data": {
      "image/png": "[encoded data removed]",
      "text/plain": [
       "<Figure size 800x300 with 1 Axes>"
      ]
     },
     "metadata": {},
     "output_type": "display_data"
    }
   ],
   "source": [
    "clean_time[\"delivery_min\"].plot(kind='box', vert=False, figsize=(8,3));"
   ]
  },
  {
   "cell_type": "markdown",
   "id": "45c029c9",
   "metadata": {},
   "source": [
    "### Check the total number of late delevery"
   ]
  },
  {
   "cell_type": "code",
   "execution_count": 29,
   "id": "48f4ca0d",
   "metadata": {},
   "outputs": [
    {
     "name": "stdout",
     "output_type": "stream",
     "text": [
      "Total late delivery After remove Outliers : 295\n"
     ]
    }
   ],
   "source": [
    "late_delivery = clean_time[clean_time[\"delivery_min\"] >= 31]\n",
    "print(\"Total late delivery After remove Outliers :\", late_delivery[\"delivery_min\"].count())"
   ]
  },
  {
   "cell_type": "code",
   "execution_count": 30,
   "id": "c6932e65",
   "metadata": {},
   "outputs": [
    {
     "name": "stdout",
     "output_type": "stream",
     "text": [
      "Total late delivery : 557\n"
     ]
    }
   ],
   "source": [
    "late_delivery = dominos_data[dominos_data[\"delivery_min\"] >= 31]\n",
    "print(\"Total late delivery :\", late_delivery[\"delivery_min\"].count())"
   ]
  },
  {
   "cell_type": "markdown",
   "id": "5c61c1fa",
   "metadata": {},
   "source": [
    "## Obeservation:\n",
    "### Here I seen total 557 delivery are late or taken delivery time more than 31 min."
   ]
  },
  {
   "cell_type": "code",
   "execution_count": 33,
   "id": "a51346b9",
   "metadata": {},
   "outputs": [
    {
     "name": "stdout",
     "output_type": "stream",
     "text": [
      "Total on time delivery : 14443\n"
     ]
    }
   ],
   "source": [
    "tatal_delivery = dominos_data['delivery_min'].count() - late_delivery['delivery_min'].count() # After the removing outliers\n",
    "print(\"Total on time delivery :\", tatal_delivery)"
   ]
  },
  {
   "cell_type": "code",
   "execution_count": 34,
   "id": "b77f093f",
   "metadata": {},
   "outputs": [
    {
     "name": "stdout",
     "output_type": "stream",
     "text": [
      "Delivery performance in percentage: 96.28666666666666\n"
     ]
    }
   ],
   "source": [
    "print(\"Delivery performance in percentage:\", 14443 / 15000 * 100) # without removing outliers"
   ]
  },
  {
   "cell_type": "code",
   "execution_count": 35,
   "id": "22d0c691",
   "metadata": {},
   "outputs": [
    {
     "name": "stdout",
     "output_type": "stream",
     "text": [
      "95th percentile : 27.261043996666658\n"
     ]
    }
   ],
   "source": [
    "print(\"95th percentile :\", dominos_data['delivery_min'].quantile(0.95))"
   ]
  },
  {
   "cell_type": "markdown",
   "id": "c9283f34",
   "metadata": {},
   "source": [
    "### Average loss in dominos"
   ]
  },
  {
   "cell_type": "code",
   "execution_count": 36,
   "id": "2b4852c0",
   "metadata": {},
   "outputs": [
    {
     "name": "stdout",
     "output_type": "stream",
     "text": [
      "Total Average Loss:  278500 RS\n"
     ]
    }
   ],
   "source": [
    "print(\"Total Average Loss: \", 557 * 500, \"RS\")"
   ]
  },
  {
   "cell_type": "markdown",
   "id": "6d18565b",
   "metadata": {},
   "source": [
    "## Obeservation:\n",
    "* **Total 14443 Order 96.28 % of total order on time deleverd.**\n",
    "* **95th percentile delivery time = 27.26 min**\n",
    "* **Domino's offers free delivery if the order is more than 31 minutes, thus the store's loss is Rs 278 500.**"
   ]
  },
  {
   "cell_type": "markdown",
   "id": "3ff0c0e7",
   "metadata": {},
   "source": [
    "## 5. Univariate Analysis - Day Column"
   ]
  },
  {
   "cell_type": "code",
   "execution_count": 37,
   "id": "4e2d08ce",
   "metadata": {},
   "outputs": [
    {
     "data": {
      "text/html": [
       "<div>\n",
       "<style scoped>\n",
       "    .dataframe tbody tr th:only-of-type {\n",
       "        vertical-align: middle;\n",
       "    }\n",
       "\n",
       "    .dataframe tbody tr th {\n",
       "        vertical-align: top;\n",
       "    }\n",
       "\n",
       "    .dataframe thead th {\n",
       "        text-align: right;\n",
       "    }\n",
       "</style>\n",
       "<table border=\"1\" class=\"dataframe\">\n",
       "  <thead>\n",
       "    <tr style=\"text-align: right;\">\n",
       "      <th></th>\n",
       "      <th>order_id</th>\n",
       "      <th>order_placed_at</th>\n",
       "      <th>order_delivered_at</th>\n",
       "      <th>day</th>\n",
       "      <th>date</th>\n",
       "      <th>month</th>\n",
       "      <th>year</th>\n",
       "      <th>time</th>\n",
       "      <th>delivery_min</th>\n",
       "      <th>time_period</th>\n",
       "    </tr>\n",
       "  </thead>\n",
       "  <tbody>\n",
       "    <tr>\n",
       "      <th>0</th>\n",
       "      <td>1523111</td>\n",
       "      <td>2023-03-01 00:00:59</td>\n",
       "      <td>2023-03-01 00:18:07.443132</td>\n",
       "      <td>Wednesday</td>\n",
       "      <td>1</td>\n",
       "      <td>March</td>\n",
       "      <td>2023</td>\n",
       "      <td>00:00:59</td>\n",
       "      <td>17.140719</td>\n",
       "      <td>10PM - 3AM</td>\n",
       "    </tr>\n",
       "    <tr>\n",
       "      <th>1</th>\n",
       "      <td>1523112</td>\n",
       "      <td>2023-03-01 00:03:59</td>\n",
       "      <td>2023-03-01 00:19:34.925241</td>\n",
       "      <td>Wednesday</td>\n",
       "      <td>1</td>\n",
       "      <td>March</td>\n",
       "      <td>2023</td>\n",
       "      <td>00:03:59</td>\n",
       "      <td>15.598754</td>\n",
       "      <td>10PM - 3AM</td>\n",
       "    </tr>\n",
       "    <tr>\n",
       "      <th>2</th>\n",
       "      <td>1523113</td>\n",
       "      <td>2023-03-01 00:07:22</td>\n",
       "      <td>2023-03-01 00:22:28.291385</td>\n",
       "      <td>Wednesday</td>\n",
       "      <td>1</td>\n",
       "      <td>March</td>\n",
       "      <td>2023</td>\n",
       "      <td>00:07:22</td>\n",
       "      <td>15.104856</td>\n",
       "      <td>10PM - 3AM</td>\n",
       "    </tr>\n",
       "    <tr>\n",
       "      <th>3</th>\n",
       "      <td>1523114</td>\n",
       "      <td>2023-03-01 00:07:47</td>\n",
       "      <td>2023-03-01 00:46:19.019399</td>\n",
       "      <td>Wednesday</td>\n",
       "      <td>1</td>\n",
       "      <td>March</td>\n",
       "      <td>2023</td>\n",
       "      <td>00:07:47</td>\n",
       "      <td>38.533657</td>\n",
       "      <td>10PM - 3AM</td>\n",
       "    </tr>\n",
       "    <tr>\n",
       "      <th>4</th>\n",
       "      <td>1523115</td>\n",
       "      <td>2023-03-01 00:09:03</td>\n",
       "      <td>2023-03-01 00:25:13.619056</td>\n",
       "      <td>Wednesday</td>\n",
       "      <td>1</td>\n",
       "      <td>March</td>\n",
       "      <td>2023</td>\n",
       "      <td>00:09:03</td>\n",
       "      <td>16.176984</td>\n",
       "      <td>10PM - 3AM</td>\n",
       "    </tr>\n",
       "    <tr>\n",
       "      <th>...</th>\n",
       "      <td>...</td>\n",
       "      <td>...</td>\n",
       "      <td>...</td>\n",
       "      <td>...</td>\n",
       "      <td>...</td>\n",
       "      <td>...</td>\n",
       "      <td>...</td>\n",
       "      <td>...</td>\n",
       "      <td>...</td>\n",
       "      <td>...</td>\n",
       "    </tr>\n",
       "    <tr>\n",
       "      <th>14995</th>\n",
       "      <td>1538106</td>\n",
       "      <td>2023-03-27 23:37:05</td>\n",
       "      <td>2023-03-27 23:52:37.409378</td>\n",
       "      <td>Monday</td>\n",
       "      <td>27</td>\n",
       "      <td>March</td>\n",
       "      <td>2023</td>\n",
       "      <td>23:37:05</td>\n",
       "      <td>15.540156</td>\n",
       "      <td>10PM - 3AM</td>\n",
       "    </tr>\n",
       "    <tr>\n",
       "      <th>14996</th>\n",
       "      <td>1538107</td>\n",
       "      <td>2023-03-27 23:47:38</td>\n",
       "      <td>2023-03-28 00:04:22.672912</td>\n",
       "      <td>Monday</td>\n",
       "      <td>27</td>\n",
       "      <td>March</td>\n",
       "      <td>2023</td>\n",
       "      <td>23:47:38</td>\n",
       "      <td>16.744549</td>\n",
       "      <td>10PM - 3AM</td>\n",
       "    </tr>\n",
       "    <tr>\n",
       "      <th>14997</th>\n",
       "      <td>1538108</td>\n",
       "      <td>2023-03-27 23:50:16</td>\n",
       "      <td>2023-03-28 00:05:40.676238</td>\n",
       "      <td>Monday</td>\n",
       "      <td>27</td>\n",
       "      <td>March</td>\n",
       "      <td>2023</td>\n",
       "      <td>23:50:16</td>\n",
       "      <td>15.411271</td>\n",
       "      <td>10PM - 3AM</td>\n",
       "    </tr>\n",
       "    <tr>\n",
       "      <th>14998</th>\n",
       "      <td>1538109</td>\n",
       "      <td>2023-03-27 23:52:44</td>\n",
       "      <td>2023-03-28 00:08:41.810358</td>\n",
       "      <td>Monday</td>\n",
       "      <td>27</td>\n",
       "      <td>March</td>\n",
       "      <td>2023</td>\n",
       "      <td>23:52:44</td>\n",
       "      <td>15.963506</td>\n",
       "      <td>10PM - 3AM</td>\n",
       "    </tr>\n",
       "    <tr>\n",
       "      <th>14999</th>\n",
       "      <td>1538110</td>\n",
       "      <td>2023-03-27 23:58:20</td>\n",
       "      <td>2023-03-28 00:13:42.499311</td>\n",
       "      <td>Monday</td>\n",
       "      <td>27</td>\n",
       "      <td>March</td>\n",
       "      <td>2023</td>\n",
       "      <td>23:58:20</td>\n",
       "      <td>15.374989</td>\n",
       "      <td>10PM - 3AM</td>\n",
       "    </tr>\n",
       "  </tbody>\n",
       "</table>\n",
       "<p>15000 rows × 10 columns</p>\n",
       "</div>"
      ],
      "text/plain": [
       "       order_id     order_placed_at         order_delivered_at        day  \\\n",
       "0       1523111 2023-03-01 00:00:59 2023-03-01 00:18:07.443132  Wednesday   \n",
       "1       1523112 2023-03-01 00:03:59 2023-03-01 00:19:34.925241  Wednesday   \n",
       "2       1523113 2023-03-01 00:07:22 2023-03-01 00:22:28.291385  Wednesday   \n",
       "3       1523114 2023-03-01 00:07:47 2023-03-01 00:46:19.019399  Wednesday   \n",
       "4       1523115 2023-03-01 00:09:03 2023-03-01 00:25:13.619056  Wednesday   \n",
       "...         ...                 ...                        ...        ...   \n",
       "14995   1538106 2023-03-27 23:37:05 2023-03-27 23:52:37.409378     Monday   \n",
       "14996   1538107 2023-03-27 23:47:38 2023-03-28 00:04:22.672912     Monday   \n",
       "14997   1538108 2023-03-27 23:50:16 2023-03-28 00:05:40.676238     Monday   \n",
       "14998   1538109 2023-03-27 23:52:44 2023-03-28 00:08:41.810358     Monday   \n",
       "14999   1538110 2023-03-27 23:58:20 2023-03-28 00:13:42.499311     Monday   \n",
       "\n",
       "       date  month  year      time  delivery_min time_period  \n",
       "0         1  March  2023  00:00:59     17.140719  10PM - 3AM  \n",
       "1         1  March  2023  00:03:59     15.598754  10PM - 3AM  \n",
       "2         1  March  2023  00:07:22     15.104856  10PM - 3AM  \n",
       "3         1  March  2023  00:07:47     38.533657  10PM - 3AM  \n",
       "4         1  March  2023  00:09:03     16.176984  10PM - 3AM  \n",
       "...     ...    ...   ...       ...           ...         ...  \n",
       "14995    27  March  2023  23:37:05     15.540156  10PM - 3AM  \n",
       "14996    27  March  2023  23:47:38     16.744549  10PM - 3AM  \n",
       "14997    27  March  2023  23:50:16     15.411271  10PM - 3AM  \n",
       "14998    27  March  2023  23:52:44     15.963506  10PM - 3AM  \n",
       "14999    27  March  2023  23:58:20     15.374989  10PM - 3AM  \n",
       "\n",
       "[15000 rows x 10 columns]"
      ]
     },
     "execution_count": 37,
     "metadata": {},
     "output_type": "execute_result"
    }
   ],
   "source": [
    "dominos_data"
   ]
  },
  {
   "cell_type": "code",
   "execution_count": 38,
   "id": "3912bff2",
   "metadata": {
    "scrolled": true
   },
   "outputs": [
    {
     "data": {
      "text/plain": [
       "count        15000\n",
       "unique           7\n",
       "top       Thursday\n",
       "freq          2280\n",
       "Name: day, dtype: object"
      ]
     },
     "execution_count": 38,
     "metadata": {},
     "output_type": "execute_result"
    }
   ],
   "source": [
    "dominos_data[\"day\"].describe()"
   ]
  },
  {
   "cell_type": "markdown",
   "id": "fbf4eb54",
   "metadata": {},
   "source": [
    "### Delivery count day wise"
   ]
  },
  {
   "cell_type": "code",
   "execution_count": 39,
   "id": "1fde1ee2",
   "metadata": {},
   "outputs": [
    {
     "data": {
      "text/plain": [
       "Thursday     2280\n",
       "Wednesday    2259\n",
       "Monday       2256\n",
       "Friday       2223\n",
       "Saturday     2209\n",
       "Sunday       2191\n",
       "Tuesday      1582\n",
       "Name: day, dtype: int64"
      ]
     },
     "execution_count": 39,
     "metadata": {},
     "output_type": "execute_result"
    }
   ],
   "source": [
    "dominos_data['day'].value_counts()"
   ]
  },
  {
   "cell_type": "code",
   "execution_count": 40,
   "id": "54dd86a3",
   "metadata": {
    "scrolled": false
   },
   "outputs": [
    {
     "data": {
      "image/png": "[encoded data removed]",
      "text/plain": [
       "<Figure size 800x400 with 1 Axes>"
      ]
     },
     "metadata": {},
     "output_type": "display_data"
    }
   ],
   "source": [
    "dominos_data['day'].value_counts().plot(kind='bar', figsize=(8,4));"
   ]
  },
  {
   "cell_type": "markdown",
   "id": "85ed463c",
   "metadata": {},
   "source": [
    "## Observation:\n",
    "### Thursday is higest order : Total 2280 order"
   ]
  },
  {
   "cell_type": "markdown",
   "id": "19ed4ab6",
   "metadata": {},
   "source": [
    "### Check the Delivery mean time day wise"
   ]
  },
  {
   "cell_type": "code",
   "execution_count": 41,
   "id": "ed34623b",
   "metadata": {},
   "outputs": [
    {
     "data": {
      "image/png": "[encoded data removed]",
      "text/plain": [
       "<Figure size 800x400 with 1 Axes>"
      ]
     },
     "metadata": {},
     "output_type": "display_data"
    }
   ],
   "source": [
    "dominos_data[['day', 'delivery_min']].groupby('day').mean().plot(kind='bar', figsize=(8,4));"
   ]
  },
  {
   "cell_type": "markdown",
   "id": "20bb2eba",
   "metadata": {},
   "source": [
    "## 6. Univariate Analysis - Date Column\n",
    "* **We can check here date wise total transaction which is help us restaurent forcasting**"
   ]
  },
  {
   "cell_type": "code",
   "execution_count": 42,
   "id": "9f5a5101",
   "metadata": {},
   "outputs": [
    {
     "data": {
      "text/html": [
       "<div>\n",
       "<style scoped>\n",
       "    .dataframe tbody tr th:only-of-type {\n",
       "        vertical-align: middle;\n",
       "    }\n",
       "\n",
       "    .dataframe tbody tr th {\n",
       "        vertical-align: top;\n",
       "    }\n",
       "\n",
       "    .dataframe thead th {\n",
       "        text-align: right;\n",
       "    }\n",
       "</style>\n",
       "<table border=\"1\" class=\"dataframe\">\n",
       "  <thead>\n",
       "    <tr style=\"text-align: right;\">\n",
       "      <th></th>\n",
       "      <th>order_id</th>\n",
       "      <th>order_placed_at</th>\n",
       "      <th>order_delivered_at</th>\n",
       "      <th>day</th>\n",
       "      <th>date</th>\n",
       "      <th>month</th>\n",
       "      <th>year</th>\n",
       "      <th>time</th>\n",
       "      <th>delivery_min</th>\n",
       "      <th>time_period</th>\n",
       "    </tr>\n",
       "  </thead>\n",
       "  <tbody>\n",
       "    <tr>\n",
       "      <th>0</th>\n",
       "      <td>1523111</td>\n",
       "      <td>2023-03-01 00:00:59</td>\n",
       "      <td>2023-03-01 00:18:07.443132</td>\n",
       "      <td>Wednesday</td>\n",
       "      <td>1</td>\n",
       "      <td>March</td>\n",
       "      <td>2023</td>\n",
       "      <td>00:00:59</td>\n",
       "      <td>17.140719</td>\n",
       "      <td>10PM - 3AM</td>\n",
       "    </tr>\n",
       "    <tr>\n",
       "      <th>1</th>\n",
       "      <td>1523112</td>\n",
       "      <td>2023-03-01 00:03:59</td>\n",
       "      <td>2023-03-01 00:19:34.925241</td>\n",
       "      <td>Wednesday</td>\n",
       "      <td>1</td>\n",
       "      <td>March</td>\n",
       "      <td>2023</td>\n",
       "      <td>00:03:59</td>\n",
       "      <td>15.598754</td>\n",
       "      <td>10PM - 3AM</td>\n",
       "    </tr>\n",
       "    <tr>\n",
       "      <th>2</th>\n",
       "      <td>1523113</td>\n",
       "      <td>2023-03-01 00:07:22</td>\n",
       "      <td>2023-03-01 00:22:28.291385</td>\n",
       "      <td>Wednesday</td>\n",
       "      <td>1</td>\n",
       "      <td>March</td>\n",
       "      <td>2023</td>\n",
       "      <td>00:07:22</td>\n",
       "      <td>15.104856</td>\n",
       "      <td>10PM - 3AM</td>\n",
       "    </tr>\n",
       "    <tr>\n",
       "      <th>3</th>\n",
       "      <td>1523114</td>\n",
       "      <td>2023-03-01 00:07:47</td>\n",
       "      <td>2023-03-01 00:46:19.019399</td>\n",
       "      <td>Wednesday</td>\n",
       "      <td>1</td>\n",
       "      <td>March</td>\n",
       "      <td>2023</td>\n",
       "      <td>00:07:47</td>\n",
       "      <td>38.533657</td>\n",
       "      <td>10PM - 3AM</td>\n",
       "    </tr>\n",
       "    <tr>\n",
       "      <th>4</th>\n",
       "      <td>1523115</td>\n",
       "      <td>2023-03-01 00:09:03</td>\n",
       "      <td>2023-03-01 00:25:13.619056</td>\n",
       "      <td>Wednesday</td>\n",
       "      <td>1</td>\n",
       "      <td>March</td>\n",
       "      <td>2023</td>\n",
       "      <td>00:09:03</td>\n",
       "      <td>16.176984</td>\n",
       "      <td>10PM - 3AM</td>\n",
       "    </tr>\n",
       "    <tr>\n",
       "      <th>...</th>\n",
       "      <td>...</td>\n",
       "      <td>...</td>\n",
       "      <td>...</td>\n",
       "      <td>...</td>\n",
       "      <td>...</td>\n",
       "      <td>...</td>\n",
       "      <td>...</td>\n",
       "      <td>...</td>\n",
       "      <td>...</td>\n",
       "      <td>...</td>\n",
       "    </tr>\n",
       "    <tr>\n",
       "      <th>14995</th>\n",
       "      <td>1538106</td>\n",
       "      <td>2023-03-27 23:37:05</td>\n",
       "      <td>2023-03-27 23:52:37.409378</td>\n",
       "      <td>Monday</td>\n",
       "      <td>27</td>\n",
       "      <td>March</td>\n",
       "      <td>2023</td>\n",
       "      <td>23:37:05</td>\n",
       "      <td>15.540156</td>\n",
       "      <td>10PM - 3AM</td>\n",
       "    </tr>\n",
       "    <tr>\n",
       "      <th>14996</th>\n",
       "      <td>1538107</td>\n",
       "      <td>2023-03-27 23:47:38</td>\n",
       "      <td>2023-03-28 00:04:22.672912</td>\n",
       "      <td>Monday</td>\n",
       "      <td>27</td>\n",
       "      <td>March</td>\n",
       "      <td>2023</td>\n",
       "      <td>23:47:38</td>\n",
       "      <td>16.744549</td>\n",
       "      <td>10PM - 3AM</td>\n",
       "    </tr>\n",
       "    <tr>\n",
       "      <th>14997</th>\n",
       "      <td>1538108</td>\n",
       "      <td>2023-03-27 23:50:16</td>\n",
       "      <td>2023-03-28 00:05:40.676238</td>\n",
       "      <td>Monday</td>\n",
       "      <td>27</td>\n",
       "      <td>March</td>\n",
       "      <td>2023</td>\n",
       "      <td>23:50:16</td>\n",
       "      <td>15.411271</td>\n",
       "      <td>10PM - 3AM</td>\n",
       "    </tr>\n",
       "    <tr>\n",
       "      <th>14998</th>\n",
       "      <td>1538109</td>\n",
       "      <td>2023-03-27 23:52:44</td>\n",
       "      <td>2023-03-28 00:08:41.810358</td>\n",
       "      <td>Monday</td>\n",
       "      <td>27</td>\n",
       "      <td>March</td>\n",
       "      <td>2023</td>\n",
       "      <td>23:52:44</td>\n",
       "      <td>15.963506</td>\n",
       "      <td>10PM - 3AM</td>\n",
       "    </tr>\n",
       "    <tr>\n",
       "      <th>14999</th>\n",
       "      <td>1538110</td>\n",
       "      <td>2023-03-27 23:58:20</td>\n",
       "      <td>2023-03-28 00:13:42.499311</td>\n",
       "      <td>Monday</td>\n",
       "      <td>27</td>\n",
       "      <td>March</td>\n",
       "      <td>2023</td>\n",
       "      <td>23:58:20</td>\n",
       "      <td>15.374989</td>\n",
       "      <td>10PM - 3AM</td>\n",
       "    </tr>\n",
       "  </tbody>\n",
       "</table>\n",
       "<p>15000 rows × 10 columns</p>\n",
       "</div>"
      ],
      "text/plain": [
       "       order_id     order_placed_at         order_delivered_at        day  \\\n",
       "0       1523111 2023-03-01 00:00:59 2023-03-01 00:18:07.443132  Wednesday   \n",
       "1       1523112 2023-03-01 00:03:59 2023-03-01 00:19:34.925241  Wednesday   \n",
       "2       1523113 2023-03-01 00:07:22 2023-03-01 00:22:28.291385  Wednesday   \n",
       "3       1523114 2023-03-01 00:07:47 2023-03-01 00:46:19.019399  Wednesday   \n",
       "4       1523115 2023-03-01 00:09:03 2023-03-01 00:25:13.619056  Wednesday   \n",
       "...         ...                 ...                        ...        ...   \n",
       "14995   1538106 2023-03-27 23:37:05 2023-03-27 23:52:37.409378     Monday   \n",
       "14996   1538107 2023-03-27 23:47:38 2023-03-28 00:04:22.672912     Monday   \n",
       "14997   1538108 2023-03-27 23:50:16 2023-03-28 00:05:40.676238     Monday   \n",
       "14998   1538109 2023-03-27 23:52:44 2023-03-28 00:08:41.810358     Monday   \n",
       "14999   1538110 2023-03-27 23:58:20 2023-03-28 00:13:42.499311     Monday   \n",
       "\n",
       "       date  month  year      time  delivery_min time_period  \n",
       "0         1  March  2023  00:00:59     17.140719  10PM - 3AM  \n",
       "1         1  March  2023  00:03:59     15.598754  10PM - 3AM  \n",
       "2         1  March  2023  00:07:22     15.104856  10PM - 3AM  \n",
       "3         1  March  2023  00:07:47     38.533657  10PM - 3AM  \n",
       "4         1  March  2023  00:09:03     16.176984  10PM - 3AM  \n",
       "...     ...    ...   ...       ...           ...         ...  \n",
       "14995    27  March  2023  23:37:05     15.540156  10PM - 3AM  \n",
       "14996    27  March  2023  23:47:38     16.744549  10PM - 3AM  \n",
       "14997    27  March  2023  23:50:16     15.411271  10PM - 3AM  \n",
       "14998    27  March  2023  23:52:44     15.963506  10PM - 3AM  \n",
       "14999    27  March  2023  23:58:20     15.374989  10PM - 3AM  \n",
       "\n",
       "[15000 rows x 10 columns]"
      ]
     },
     "execution_count": 42,
     "metadata": {},
     "output_type": "execute_result"
    }
   ],
   "source": [
    "dominos_data"
   ]
  },
  {
   "cell_type": "code",
   "execution_count": 43,
   "id": "a07b5bec",
   "metadata": {},
   "outputs": [
    {
     "name": "stdout",
     "output_type": "stream",
     "text": [
      "<class 'pandas.core.frame.DataFrame'>\n",
      "RangeIndex: 15000 entries, 0 to 14999\n",
      "Data columns (total 10 columns):\n",
      " #   Column              Non-Null Count  Dtype         \n",
      "---  ------              --------------  -----         \n",
      " 0   order_id            15000 non-null  int64         \n",
      " 1   order_placed_at     15000 non-null  datetime64[ns]\n",
      " 2   order_delivered_at  15000 non-null  datetime64[ns]\n",
      " 3   day                 15000 non-null  object        \n",
      " 4   date                15000 non-null  int64         \n",
      " 5   month               15000 non-null  object        \n",
      " 6   year                15000 non-null  int64         \n",
      " 7   time                15000 non-null  object        \n",
      " 8   delivery_min        15000 non-null  float64       \n",
      " 9   time_period         15000 non-null  object        \n",
      "dtypes: datetime64[ns](2), float64(1), int64(3), object(4)\n",
      "memory usage: 1.1+ MB\n"
     ]
    }
   ],
   "source": [
    "dominos_data.info()"
   ]
  },
  {
   "cell_type": "markdown",
   "id": "7d1ee580",
   "metadata": {},
   "source": [
    "### Plot the line chart - Display the day wise transaction"
   ]
  },
  {
   "cell_type": "code",
   "execution_count": 44,
   "id": "86b554be",
   "metadata": {},
   "outputs": [
    {
     "data": {
      "image/png": "[encoded data removed]",
      "text/plain": [
       "<Figure size 1200x400 with 1 Axes>"
      ]
     },
     "metadata": {},
     "output_type": "display_data"
    }
   ],
   "source": [
    "dominos_data['date'].value_counts().sort_index().plot(kind='line', figsize=(12, 4));\n",
    "#dominos_data[['date', 'order_id']].groupby('date').count().plot(kind='line', figsize=(12,4));"
   ]
  },
  {
   "cell_type": "markdown",
   "id": "f3fd5c3b",
   "metadata": {},
   "source": [
    "### Check the transaction by sorting "
   ]
  },
  {
   "cell_type": "code",
   "execution_count": 45,
   "id": "9db9f77e",
   "metadata": {},
   "outputs": [
    {
     "data": {
      "text/html": [
       "<div>\n",
       "<style scoped>\n",
       "    .dataframe tbody tr th:only-of-type {\n",
       "        vertical-align: middle;\n",
       "    }\n",
       "\n",
       "    .dataframe tbody tr th {\n",
       "        vertical-align: top;\n",
       "    }\n",
       "\n",
       "    .dataframe thead th {\n",
       "        text-align: right;\n",
       "    }\n",
       "</style>\n",
       "<table border=\"1\" class=\"dataframe\">\n",
       "  <thead>\n",
       "    <tr style=\"text-align: right;\">\n",
       "      <th>date</th>\n",
       "      <th>14</th>\n",
       "      <th>21</th>\n",
       "      <th>19</th>\n",
       "      <th>13</th>\n",
       "      <th>26</th>\n",
       "      <th>3</th>\n",
       "      <th>11</th>\n",
       "      <th>17</th>\n",
       "      <th>15</th>\n",
       "      <th>16</th>\n",
       "      <th>...</th>\n",
       "      <th>4</th>\n",
       "      <th>7</th>\n",
       "      <th>8</th>\n",
       "      <th>6</th>\n",
       "      <th>12</th>\n",
       "      <th>23</th>\n",
       "      <th>10</th>\n",
       "      <th>2</th>\n",
       "      <th>22</th>\n",
       "      <th>20</th>\n",
       "    </tr>\n",
       "  </thead>\n",
       "  <tbody>\n",
       "    <tr>\n",
       "      <th>order_id</th>\n",
       "      <td>492</td>\n",
       "      <td>520</td>\n",
       "      <td>526</td>\n",
       "      <td>526</td>\n",
       "      <td>532</td>\n",
       "      <td>534</td>\n",
       "      <td>536</td>\n",
       "      <td>537</td>\n",
       "      <td>540</td>\n",
       "      <td>545</td>\n",
       "      <td>...</td>\n",
       "      <td>567</td>\n",
       "      <td>570</td>\n",
       "      <td>578</td>\n",
       "      <td>582</td>\n",
       "      <td>582</td>\n",
       "      <td>583</td>\n",
       "      <td>587</td>\n",
       "      <td>588</td>\n",
       "      <td>591</td>\n",
       "      <td>597</td>\n",
       "    </tr>\n",
       "  </tbody>\n",
       "</table>\n",
       "<p>1 rows × 27 columns</p>\n",
       "</div>"
      ],
      "text/plain": [
       "date       14   21   19   13   26   3    11   17   15   16  ...   4    7   \\\n",
       "order_id  492  520  526  526  532  534  536  537  540  545  ...  567  570   \n",
       "\n",
       "date       8    6    12   23   10   2    22   20  \n",
       "order_id  578  582  582  583  587  588  591  597  \n",
       "\n",
       "[1 rows x 27 columns]"
      ]
     },
     "execution_count": 45,
     "metadata": {},
     "output_type": "execute_result"
    }
   ],
   "source": [
    "dominos_data[['date', 'order_id']].groupby('date').count().sort_values(by='order_id').T"
   ]
  },
  {
   "cell_type": "code",
   "execution_count": 46,
   "id": "10822025",
   "metadata": {
    "scrolled": false
   },
   "outputs": [
    {
     "data": {
      "image/png": "[encoded data removed]",
      "text/plain": [
       "<Figure size 900x600 with 1 Axes>"
      ]
     },
     "metadata": {},
     "output_type": "display_data"
    }
   ],
   "source": [
    "dominos_data[['date', 'order_id']].groupby('date').count().plot(kind='barh', legend=None, figsize=(9,6));"
   ]
  },
  {
   "cell_type": "code",
   "execution_count": 47,
   "id": "6781e0a3",
   "metadata": {},
   "outputs": [
    {
     "data": {
      "text/html": [
       "<div>\n",
       "<style scoped>\n",
       "    .dataframe tbody tr th:only-of-type {\n",
       "        vertical-align: middle;\n",
       "    }\n",
       "\n",
       "    .dataframe tbody tr th {\n",
       "        vertical-align: top;\n",
       "    }\n",
       "\n",
       "    .dataframe thead th {\n",
       "        text-align: right;\n",
       "    }\n",
       "</style>\n",
       "<table border=\"1\" class=\"dataframe\">\n",
       "  <thead>\n",
       "    <tr style=\"text-align: right;\">\n",
       "      <th></th>\n",
       "      <th>count</th>\n",
       "      <th>mean</th>\n",
       "      <th>std</th>\n",
       "      <th>min</th>\n",
       "      <th>25%</th>\n",
       "      <th>50%</th>\n",
       "      <th>75%</th>\n",
       "      <th>max</th>\n",
       "    </tr>\n",
       "  </thead>\n",
       "  <tbody>\n",
       "    <tr>\n",
       "      <th>order_id</th>\n",
       "      <td>27.0</td>\n",
       "      <td>555.555556</td>\n",
       "      <td>25.927908</td>\n",
       "      <td>492.0</td>\n",
       "      <td>536.5</td>\n",
       "      <td>551.0</td>\n",
       "      <td>580.0</td>\n",
       "      <td>597.0</td>\n",
       "    </tr>\n",
       "  </tbody>\n",
       "</table>\n",
       "</div>"
      ],
      "text/plain": [
       "          count        mean        std    min    25%    50%    75%    max\n",
       "order_id   27.0  555.555556  25.927908  492.0  536.5  551.0  580.0  597.0"
      ]
     },
     "execution_count": 47,
     "metadata": {},
     "output_type": "execute_result"
    }
   ],
   "source": [
    "dominos_data[['date', 'order_id']].groupby('date').count().sort_values(by='order_id').describe().T"
   ]
  },
  {
   "cell_type": "code",
   "execution_count": 48,
   "id": "1ab34dab",
   "metadata": {},
   "outputs": [
    {
     "data": {
      "text/plain": [
       "10PM - 3AM    5655\n",
       "10AM - 3PM    3135\n",
       "4PM - 9PM     3115\n",
       "4AM - 9AM     3095\n",
       "Name: time_period, dtype: int64"
      ]
     },
     "execution_count": 48,
     "metadata": {},
     "output_type": "execute_result"
    }
   ],
   "source": [
    "dominos_data['time_period'].value_counts()"
   ]
  },
  {
   "cell_type": "code",
   "execution_count": 49,
   "id": "3ce62f04",
   "metadata": {},
   "outputs": [
    {
     "data": {
      "image/png": "[encoded data removed]",
      "text/plain": [
       "<Figure size 800x400 with 1 Axes>"
      ]
     },
     "metadata": {},
     "output_type": "display_data"
    }
   ],
   "source": [
    "dominos_data['time_period'].value_counts().plot(kind='bar', figsize=(8,4));"
   ]
  },
  {
   "cell_type": "markdown",
   "id": "d5926d5e",
   "metadata": {},
   "source": [
    "## 7. Univariate Analysis - Time Column"
   ]
  },
  {
   "cell_type": "code",
   "execution_count": 50,
   "id": "74e4f825",
   "metadata": {},
   "outputs": [],
   "source": [
    "dominos_data['time_hours'] = dominos_data['order_placed_at'].apply(lambda x: x.hour)"
   ]
  },
  {
   "cell_type": "code",
   "execution_count": 51,
   "id": "c08f3acd",
   "metadata": {},
   "outputs": [
    {
     "data": {
      "text/html": [
       "<div>\n",
       "<style scoped>\n",
       "    .dataframe tbody tr th:only-of-type {\n",
       "        vertical-align: middle;\n",
       "    }\n",
       "\n",
       "    .dataframe tbody tr th {\n",
       "        vertical-align: top;\n",
       "    }\n",
       "\n",
       "    .dataframe thead th {\n",
       "        text-align: right;\n",
       "    }\n",
       "</style>\n",
       "<table border=\"1\" class=\"dataframe\">\n",
       "  <thead>\n",
       "    <tr style=\"text-align: right;\">\n",
       "      <th></th>\n",
       "      <th>order_id</th>\n",
       "      <th>order_placed_at</th>\n",
       "      <th>order_delivered_at</th>\n",
       "      <th>day</th>\n",
       "      <th>date</th>\n",
       "      <th>month</th>\n",
       "      <th>year</th>\n",
       "      <th>time</th>\n",
       "      <th>delivery_min</th>\n",
       "      <th>time_period</th>\n",
       "      <th>time_hours</th>\n",
       "    </tr>\n",
       "  </thead>\n",
       "  <tbody>\n",
       "    <tr>\n",
       "      <th>0</th>\n",
       "      <td>1523111</td>\n",
       "      <td>2023-03-01 00:00:59</td>\n",
       "      <td>2023-03-01 00:18:07.443132</td>\n",
       "      <td>Wednesday</td>\n",
       "      <td>1</td>\n",
       "      <td>March</td>\n",
       "      <td>2023</td>\n",
       "      <td>00:00:59</td>\n",
       "      <td>17.140719</td>\n",
       "      <td>10PM - 3AM</td>\n",
       "      <td>0</td>\n",
       "    </tr>\n",
       "    <tr>\n",
       "      <th>1</th>\n",
       "      <td>1523112</td>\n",
       "      <td>2023-03-01 00:03:59</td>\n",
       "      <td>2023-03-01 00:19:34.925241</td>\n",
       "      <td>Wednesday</td>\n",
       "      <td>1</td>\n",
       "      <td>March</td>\n",
       "      <td>2023</td>\n",
       "      <td>00:03:59</td>\n",
       "      <td>15.598754</td>\n",
       "      <td>10PM - 3AM</td>\n",
       "      <td>0</td>\n",
       "    </tr>\n",
       "    <tr>\n",
       "      <th>2</th>\n",
       "      <td>1523113</td>\n",
       "      <td>2023-03-01 00:07:22</td>\n",
       "      <td>2023-03-01 00:22:28.291385</td>\n",
       "      <td>Wednesday</td>\n",
       "      <td>1</td>\n",
       "      <td>March</td>\n",
       "      <td>2023</td>\n",
       "      <td>00:07:22</td>\n",
       "      <td>15.104856</td>\n",
       "      <td>10PM - 3AM</td>\n",
       "      <td>0</td>\n",
       "    </tr>\n",
       "    <tr>\n",
       "      <th>3</th>\n",
       "      <td>1523114</td>\n",
       "      <td>2023-03-01 00:07:47</td>\n",
       "      <td>2023-03-01 00:46:19.019399</td>\n",
       "      <td>Wednesday</td>\n",
       "      <td>1</td>\n",
       "      <td>March</td>\n",
       "      <td>2023</td>\n",
       "      <td>00:07:47</td>\n",
       "      <td>38.533657</td>\n",
       "      <td>10PM - 3AM</td>\n",
       "      <td>0</td>\n",
       "    </tr>\n",
       "    <tr>\n",
       "      <th>4</th>\n",
       "      <td>1523115</td>\n",
       "      <td>2023-03-01 00:09:03</td>\n",
       "      <td>2023-03-01 00:25:13.619056</td>\n",
       "      <td>Wednesday</td>\n",
       "      <td>1</td>\n",
       "      <td>March</td>\n",
       "      <td>2023</td>\n",
       "      <td>00:09:03</td>\n",
       "      <td>16.176984</td>\n",
       "      <td>10PM - 3AM</td>\n",
       "      <td>0</td>\n",
       "    </tr>\n",
       "    <tr>\n",
       "      <th>...</th>\n",
       "      <td>...</td>\n",
       "      <td>...</td>\n",
       "      <td>...</td>\n",
       "      <td>...</td>\n",
       "      <td>...</td>\n",
       "      <td>...</td>\n",
       "      <td>...</td>\n",
       "      <td>...</td>\n",
       "      <td>...</td>\n",
       "      <td>...</td>\n",
       "      <td>...</td>\n",
       "    </tr>\n",
       "    <tr>\n",
       "      <th>14995</th>\n",
       "      <td>1538106</td>\n",
       "      <td>2023-03-27 23:37:05</td>\n",
       "      <td>2023-03-27 23:52:37.409378</td>\n",
       "      <td>Monday</td>\n",
       "      <td>27</td>\n",
       "      <td>March</td>\n",
       "      <td>2023</td>\n",
       "      <td>23:37:05</td>\n",
       "      <td>15.540156</td>\n",
       "      <td>10PM - 3AM</td>\n",
       "      <td>23</td>\n",
       "    </tr>\n",
       "    <tr>\n",
       "      <th>14996</th>\n",
       "      <td>1538107</td>\n",
       "      <td>2023-03-27 23:47:38</td>\n",
       "      <td>2023-03-28 00:04:22.672912</td>\n",
       "      <td>Monday</td>\n",
       "      <td>27</td>\n",
       "      <td>March</td>\n",
       "      <td>2023</td>\n",
       "      <td>23:47:38</td>\n",
       "      <td>16.744549</td>\n",
       "      <td>10PM - 3AM</td>\n",
       "      <td>23</td>\n",
       "    </tr>\n",
       "    <tr>\n",
       "      <th>14997</th>\n",
       "      <td>1538108</td>\n",
       "      <td>2023-03-27 23:50:16</td>\n",
       "      <td>2023-03-28 00:05:40.676238</td>\n",
       "      <td>Monday</td>\n",
       "      <td>27</td>\n",
       "      <td>March</td>\n",
       "      <td>2023</td>\n",
       "      <td>23:50:16</td>\n",
       "      <td>15.411271</td>\n",
       "      <td>10PM - 3AM</td>\n",
       "      <td>23</td>\n",
       "    </tr>\n",
       "    <tr>\n",
       "      <th>14998</th>\n",
       "      <td>1538109</td>\n",
       "      <td>2023-03-27 23:52:44</td>\n",
       "      <td>2023-03-28 00:08:41.810358</td>\n",
       "      <td>Monday</td>\n",
       "      <td>27</td>\n",
       "      <td>March</td>\n",
       "      <td>2023</td>\n",
       "      <td>23:52:44</td>\n",
       "      <td>15.963506</td>\n",
       "      <td>10PM - 3AM</td>\n",
       "      <td>23</td>\n",
       "    </tr>\n",
       "    <tr>\n",
       "      <th>14999</th>\n",
       "      <td>1538110</td>\n",
       "      <td>2023-03-27 23:58:20</td>\n",
       "      <td>2023-03-28 00:13:42.499311</td>\n",
       "      <td>Monday</td>\n",
       "      <td>27</td>\n",
       "      <td>March</td>\n",
       "      <td>2023</td>\n",
       "      <td>23:58:20</td>\n",
       "      <td>15.374989</td>\n",
       "      <td>10PM - 3AM</td>\n",
       "      <td>23</td>\n",
       "    </tr>\n",
       "  </tbody>\n",
       "</table>\n",
       "<p>15000 rows × 11 columns</p>\n",
       "</div>"
      ],
      "text/plain": [
       "       order_id     order_placed_at         order_delivered_at        day  \\\n",
       "0       1523111 2023-03-01 00:00:59 2023-03-01 00:18:07.443132  Wednesday   \n",
       "1       1523112 2023-03-01 00:03:59 2023-03-01 00:19:34.925241  Wednesday   \n",
       "2       1523113 2023-03-01 00:07:22 2023-03-01 00:22:28.291385  Wednesday   \n",
       "3       1523114 2023-03-01 00:07:47 2023-03-01 00:46:19.019399  Wednesday   \n",
       "4       1523115 2023-03-01 00:09:03 2023-03-01 00:25:13.619056  Wednesday   \n",
       "...         ...                 ...                        ...        ...   \n",
       "14995   1538106 2023-03-27 23:37:05 2023-03-27 23:52:37.409378     Monday   \n",
       "14996   1538107 2023-03-27 23:47:38 2023-03-28 00:04:22.672912     Monday   \n",
       "14997   1538108 2023-03-27 23:50:16 2023-03-28 00:05:40.676238     Monday   \n",
       "14998   1538109 2023-03-27 23:52:44 2023-03-28 00:08:41.810358     Monday   \n",
       "14999   1538110 2023-03-27 23:58:20 2023-03-28 00:13:42.499311     Monday   \n",
       "\n",
       "       date  month  year      time  delivery_min time_period  time_hours  \n",
       "0         1  March  2023  00:00:59     17.140719  10PM - 3AM           0  \n",
       "1         1  March  2023  00:03:59     15.598754  10PM - 3AM           0  \n",
       "2         1  March  2023  00:07:22     15.104856  10PM - 3AM           0  \n",
       "3         1  March  2023  00:07:47     38.533657  10PM - 3AM           0  \n",
       "4         1  March  2023  00:09:03     16.176984  10PM - 3AM           0  \n",
       "...     ...    ...   ...       ...           ...         ...         ...  \n",
       "14995    27  March  2023  23:37:05     15.540156  10PM - 3AM          23  \n",
       "14996    27  March  2023  23:47:38     16.744549  10PM - 3AM          23  \n",
       "14997    27  March  2023  23:50:16     15.411271  10PM - 3AM          23  \n",
       "14998    27  March  2023  23:52:44     15.963506  10PM - 3AM          23  \n",
       "14999    27  March  2023  23:58:20     15.374989  10PM - 3AM          23  \n",
       "\n",
       "[15000 rows x 11 columns]"
      ]
     },
     "execution_count": 51,
     "metadata": {},
     "output_type": "execute_result"
    }
   ],
   "source": [
    "dominos_data"
   ]
  },
  {
   "cell_type": "code",
   "execution_count": 52,
   "id": "88489436",
   "metadata": {},
   "outputs": [
    {
     "data": {
      "text/plain": [
       "23    673\n",
       "6     658\n",
       "22    655\n",
       "11    655\n",
       "5     641\n",
       "Name: time_hours, dtype: int64"
      ]
     },
     "execution_count": 52,
     "metadata": {},
     "output_type": "execute_result"
    }
   ],
   "source": [
    "dominos_data['time_hours'].value_counts().head(5)"
   ]
  },
  {
   "cell_type": "code",
   "execution_count": 53,
   "id": "5710d0e0",
   "metadata": {},
   "outputs": [
    {
     "data": {
      "image/png": "[encoded data removed]",
      "text/plain": [
       "<Figure size 1200x400 with 1 Axes>"
      ]
     },
     "metadata": {},
     "output_type": "display_data"
    }
   ],
   "source": [
    "dominos_data['time_hours'].value_counts().sort_index().plot(kind='line', figsize=(12, 4));"
   ]
  },
  {
   "cell_type": "markdown",
   "id": "08690274",
   "metadata": {},
   "source": [
    "## Final Report:\n",
    "\n",
    "* **1. Average daily Transaction is = 555**\n",
    "* **2. High Transaction = 597 (20th March)**\n",
    "* **3. Low Transaction = 492 (14th March)**\n",
    "* **4. More order in time = 4-5AM, 11AM and 10-11PM**\n",
    "* **5. Highest Transaction on Thursday**\n",
    "* **6. Lowest Transaction on Tuesday**\n",
    "* **7. 96.28% on time delivery remaining is failed to on time delivery**\n",
    "* **8. Average delivery time 17.10 min (After removing outliers)**\n",
    "* **9. 95th percentile of delivery time : 27.26 min**\n",
    "\n",
    "### Domino's offers free delivery if the order is more than 31 minutes, thus the store's loss is Rs 2,78,500\n",
    "## Almost Dominos store running good and service as well really good.."
   ]
  },
  {
   "cell_type": "markdown",
   "id": "658a05c6",
   "metadata": {},
   "source": [
    "# ------------------------------------ THE END!!! ------------------------------------"
   ]
  }
 ],
 "metadata": {
  "kernelspec": {
   "display_name": "Python 3 (ipykernel)",
   "language": "python",
   "name": "python3"
  },
  "language_info": {
   "codemirror_mode": {
    "name": "ipython",
    "version": 3
   },
   "file_extension": ".py",
   "mimetype": "text/x-python",
   "name": "python",
   "nbconvert_exporter": "python",
   "pygments_lexer": "ipython3",
   "version": "3.9.13"
  }
 },
 "nbformat": 4,
 "nbformat_minor": 5
}
