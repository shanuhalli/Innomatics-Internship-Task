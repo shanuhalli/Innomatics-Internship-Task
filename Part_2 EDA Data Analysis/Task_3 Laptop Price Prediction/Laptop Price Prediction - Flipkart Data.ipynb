{
 "cells": [
  {
   "cell_type": "markdown",
   "id": "eb614482",
   "metadata": {},
   "source": [
    "## 1. Import Library and Datasets"
   ]
  },
  {
   "cell_type": "code",
   "execution_count": 1,
   "id": "81ebe1ea",
   "metadata": {},
   "outputs": [],
   "source": [
    "import re\n",
    "import numpy as np\n",
    "import pandas as pd\n",
    "import seaborn as sns\n",
    "import matplotlib.pyplot as plt\n",
    "\n",
    "import warnings\n",
    "warnings.filterwarnings('ignore')"
   ]
  },
  {
   "cell_type": "code",
   "execution_count": 2,
   "id": "ad72f1ab",
   "metadata": {},
   "outputs": [
    {
     "data": {
      "text/html": [
       "<div>\n",
       "<style scoped>\n",
       "    .dataframe tbody tr th:only-of-type {\n",
       "        vertical-align: middle;\n",
       "    }\n",
       "\n",
       "    .dataframe tbody tr th {\n",
       "        vertical-align: top;\n",
       "    }\n",
       "\n",
       "    .dataframe thead th {\n",
       "        text-align: right;\n",
       "    }\n",
       "</style>\n",
       "<table border=\"1\" class=\"dataframe\">\n",
       "  <thead>\n",
       "    <tr style=\"text-align: right;\">\n",
       "      <th></th>\n",
       "      <th>Product</th>\n",
       "      <th>Rating</th>\n",
       "      <th>MRP</th>\n",
       "      <th>Feature</th>\n",
       "    </tr>\n",
       "  </thead>\n",
       "  <tbody>\n",
       "    <tr>\n",
       "      <th>0</th>\n",
       "      <td>Lenovo IdeaPad 3 Core i3 11th Gen - (8 GB/256 ...</td>\n",
       "      <td>4.2</td>\n",
       "      <td>₹36,990</td>\n",
       "      <td>Intel Core i3 Processor (11th Gen)8 GB DDR4 RA...</td>\n",
       "    </tr>\n",
       "    <tr>\n",
       "      <th>1</th>\n",
       "      <td>Lenovo IdeaPad 3 Core i3 11th Gen - (8 GB/512 ...</td>\n",
       "      <td>4.2</td>\n",
       "      <td>₹39,990</td>\n",
       "      <td>Intel Core i3 Processor (11th Gen)8 GB DDR4 RA...</td>\n",
       "    </tr>\n",
       "    <tr>\n",
       "      <th>2</th>\n",
       "      <td>ASUS VivoBook 15 (2022) Core i3 10th Gen - (8 ...</td>\n",
       "      <td>4.3</td>\n",
       "      <td>₹32,990</td>\n",
       "      <td>Intel Core i3 Processor (10th Gen)8 GB DDR4 RA...</td>\n",
       "    </tr>\n",
       "    <tr>\n",
       "      <th>3</th>\n",
       "      <td>HP Pavilion Ryzen 5 Hexa Core AMD R5-5600H - (...</td>\n",
       "      <td>4.4</td>\n",
       "      <td>₹49,990</td>\n",
       "      <td>AMD Ryzen 5 Hexa Core Processor8 GB DDR4 RAM64...</td>\n",
       "    </tr>\n",
       "    <tr>\n",
       "      <th>4</th>\n",
       "      <td>ASUS TUF Gaming F15 Core i5 10th Gen - (8 GB/5...</td>\n",
       "      <td>4.4</td>\n",
       "      <td>₹49,990</td>\n",
       "      <td>Intel Core i5 Processor (10th Gen)8 GB DDR4 RA...</td>\n",
       "    </tr>\n",
       "    <tr>\n",
       "      <th>5</th>\n",
       "      <td>HP 14s Intel Core i3 11th Gen - (8 GB/256 GB S...</td>\n",
       "      <td>4.2</td>\n",
       "      <td>₹36,990</td>\n",
       "      <td>Intel Core i3 Processor (11th Gen)8 GB DDR4 RA...</td>\n",
       "    </tr>\n",
       "    <tr>\n",
       "      <th>6</th>\n",
       "      <td>DELL Inspiron Core i3 11th Gen - (8 GB/1 TB HD...</td>\n",
       "      <td>4.3</td>\n",
       "      <td>₹38,990</td>\n",
       "      <td>Processor: Intel i3-1115G4 (Base- 1.70 GHz &amp; T...</td>\n",
       "    </tr>\n",
       "    <tr>\n",
       "      <th>7</th>\n",
       "      <td>RedmiBook Pro Core i5 11th Gen - (8 GB/512 GB ...</td>\n",
       "      <td>4.1</td>\n",
       "      <td>₹39,990</td>\n",
       "      <td>Intel Core i5 Processor (11th Gen)8 GB DDR4 RA...</td>\n",
       "    </tr>\n",
       "    <tr>\n",
       "      <th>8</th>\n",
       "      <td>realme Book (Slim) Core i3 11th Gen - (8 GB/25...</td>\n",
       "      <td>4.4</td>\n",
       "      <td>₹46,990</td>\n",
       "      <td>Stylish &amp; Portable Thin and Light Laptop14 inc...</td>\n",
       "    </tr>\n",
       "    <tr>\n",
       "      <th>9</th>\n",
       "      <td>ASUS VivoBook 14 (2022) Ryzen 7 Quad Core AMD ...</td>\n",
       "      <td>4.1</td>\n",
       "      <td>₹44,990</td>\n",
       "      <td>AMD Ryzen 7 Quad Core Processor16 GB DDR4 RAM6...</td>\n",
       "    </tr>\n",
       "    <tr>\n",
       "      <th>10</th>\n",
       "      <td>HP Pavilion Ryzen 5 Hexa Core AMD R5-5600H - (...</td>\n",
       "      <td>4.4</td>\n",
       "      <td>₹59,990</td>\n",
       "      <td>AMD Ryzen 5 Hexa Core Processor8 GB DDR4 RAM64...</td>\n",
       "    </tr>\n",
       "    <tr>\n",
       "      <th>11</th>\n",
       "      <td>Lenovo IdeaPad 1 Ryzen 5 Quad Core 3500U - (8 ...</td>\n",
       "      <td>4.2</td>\n",
       "      <td>₹38,705</td>\n",
       "      <td>AMD Ryzen 5 Quad Core Processor8 GB DDR4 RAM64...</td>\n",
       "    </tr>\n",
       "    <tr>\n",
       "      <th>12</th>\n",
       "      <td>ASUS Core i3 11th Gen - (8 GB/256 GB SSD/Windo...</td>\n",
       "      <td>4.3</td>\n",
       "      <td>₹32,990</td>\n",
       "      <td>Intel Core i3 Processor (11th Gen)8 GB DDR4 RA...</td>\n",
       "    </tr>\n",
       "    <tr>\n",
       "      <th>13</th>\n",
       "      <td>ASUS TUF Gaming A17 with 90Whr Battery Ryzen 5...</td>\n",
       "      <td>4.4</td>\n",
       "      <td>₹52,990</td>\n",
       "      <td>AMD Ryzen 5 Hexa Core Processor8 GB DDR4 RAM64...</td>\n",
       "    </tr>\n",
       "    <tr>\n",
       "      <th>14</th>\n",
       "      <td>acer Extensa Core i3 11th Gen - (8 GB/256 GB S...</td>\n",
       "      <td>4.3</td>\n",
       "      <td>₹29,990</td>\n",
       "      <td>Intel Core i3 Processor (11th Gen)8 GB DDR4 RA...</td>\n",
       "    </tr>\n",
       "    <tr>\n",
       "      <th>15</th>\n",
       "      <td>ASUS ROG Strix G15 (2022) with 90Whr Battery R...</td>\n",
       "      <td>NaN</td>\n",
       "      <td>₹1,96,990</td>\n",
       "      <td>AMD Ryzen 9 Octa Core Processor16 GB DDR5 RAMW...</td>\n",
       "    </tr>\n",
       "  </tbody>\n",
       "</table>\n",
       "</div>"
      ],
      "text/plain": [
       "                                              Product  Rating        MRP  \\\n",
       "0   Lenovo IdeaPad 3 Core i3 11th Gen - (8 GB/256 ...     4.2    ₹36,990   \n",
       "1   Lenovo IdeaPad 3 Core i3 11th Gen - (8 GB/512 ...     4.2    ₹39,990   \n",
       "2   ASUS VivoBook 15 (2022) Core i3 10th Gen - (8 ...     4.3    ₹32,990   \n",
       "3   HP Pavilion Ryzen 5 Hexa Core AMD R5-5600H - (...     4.4    ₹49,990   \n",
       "4   ASUS TUF Gaming F15 Core i5 10th Gen - (8 GB/5...     4.4    ₹49,990   \n",
       "5   HP 14s Intel Core i3 11th Gen - (8 GB/256 GB S...     4.2    ₹36,990   \n",
       "6   DELL Inspiron Core i3 11th Gen - (8 GB/1 TB HD...     4.3    ₹38,990   \n",
       "7   RedmiBook Pro Core i5 11th Gen - (8 GB/512 GB ...     4.1    ₹39,990   \n",
       "8   realme Book (Slim) Core i3 11th Gen - (8 GB/25...     4.4    ₹46,990   \n",
       "9   ASUS VivoBook 14 (2022) Ryzen 7 Quad Core AMD ...     4.1    ₹44,990   \n",
       "10  HP Pavilion Ryzen 5 Hexa Core AMD R5-5600H - (...     4.4    ₹59,990   \n",
       "11  Lenovo IdeaPad 1 Ryzen 5 Quad Core 3500U - (8 ...     4.2    ₹38,705   \n",
       "12  ASUS Core i3 11th Gen - (8 GB/256 GB SSD/Windo...     4.3    ₹32,990   \n",
       "13  ASUS TUF Gaming A17 with 90Whr Battery Ryzen 5...     4.4    ₹52,990   \n",
       "14  acer Extensa Core i3 11th Gen - (8 GB/256 GB S...     4.3    ₹29,990   \n",
       "15  ASUS ROG Strix G15 (2022) with 90Whr Battery R...     NaN  ₹1,96,990   \n",
       "\n",
       "                                              Feature  \n",
       "0   Intel Core i3 Processor (11th Gen)8 GB DDR4 RA...  \n",
       "1   Intel Core i3 Processor (11th Gen)8 GB DDR4 RA...  \n",
       "2   Intel Core i3 Processor (10th Gen)8 GB DDR4 RA...  \n",
       "3   AMD Ryzen 5 Hexa Core Processor8 GB DDR4 RAM64...  \n",
       "4   Intel Core i5 Processor (10th Gen)8 GB DDR4 RA...  \n",
       "5   Intel Core i3 Processor (11th Gen)8 GB DDR4 RA...  \n",
       "6   Processor: Intel i3-1115G4 (Base- 1.70 GHz & T...  \n",
       "7   Intel Core i5 Processor (11th Gen)8 GB DDR4 RA...  \n",
       "8   Stylish & Portable Thin and Light Laptop14 inc...  \n",
       "9   AMD Ryzen 7 Quad Core Processor16 GB DDR4 RAM6...  \n",
       "10  AMD Ryzen 5 Hexa Core Processor8 GB DDR4 RAM64...  \n",
       "11  AMD Ryzen 5 Quad Core Processor8 GB DDR4 RAM64...  \n",
       "12  Intel Core i3 Processor (11th Gen)8 GB DDR4 RA...  \n",
       "13  AMD Ryzen 5 Hexa Core Processor8 GB DDR4 RAM64...  \n",
       "14  Intel Core i3 Processor (11th Gen)8 GB DDR4 RA...  \n",
       "15  AMD Ryzen 9 Octa Core Processor16 GB DDR5 RAMW...  "
      ]
     },
     "execution_count": 2,
     "metadata": {},
     "output_type": "execute_result"
    }
   ],
   "source": [
    "df = pd.read_csv(\"laptop_details.csv\")\n",
    "df.head(16)"
   ]
  },
  {
   "cell_type": "code",
   "execution_count": 3,
   "id": "82089603",
   "metadata": {},
   "outputs": [
    {
     "name": "stdout",
     "output_type": "stream",
     "text": [
      "<class 'pandas.core.frame.DataFrame'>\n",
      "RangeIndex: 720 entries, 0 to 719\n",
      "Data columns (total 4 columns):\n",
      " #   Column   Non-Null Count  Dtype  \n",
      "---  ------   --------------  -----  \n",
      " 0   Product  720 non-null    object \n",
      " 1   Rating   581 non-null    float64\n",
      " 2   MRP      720 non-null    object \n",
      " 3   Feature  720 non-null    object \n",
      "dtypes: float64(1), object(3)\n",
      "memory usage: 22.6+ KB\n"
     ]
    }
   ],
   "source": [
    "df.info()"
   ]
  },
  {
   "cell_type": "code",
   "execution_count": 4,
   "id": "56ae6918",
   "metadata": {},
   "outputs": [
    {
     "data": {
      "text/plain": [
       "Product      0\n",
       "Rating     139\n",
       "MRP          0\n",
       "Feature      0\n",
       "dtype: int64"
      ]
     },
     "execution_count": 4,
     "metadata": {},
     "output_type": "execute_result"
    }
   ],
   "source": [
    "df.isna().sum()"
   ]
  },
  {
   "cell_type": "markdown",
   "id": "e9efeaba",
   "metadata": {},
   "source": [
    "## 2. Extracting the Details using Regex"
   ]
  },
  {
   "cell_type": "code",
   "execution_count": 5,
   "id": "0e1ae792",
   "metadata": {},
   "outputs": [
    {
     "name": "stdout",
     "output_type": "stream",
     "text": [
      "Lenovo IdeaPad 3 Core i3 11th Gen - (8 GB/256 GB SSD/Windows 11 Home) 14ITL05 Thin and Light Laptop\n",
      "Intel Core i3 Processor (11th Gen)8 GB DDR4 RAM64 bit Windows 11 Operating System256 GB SSD35.56 cm (14 inch) DisplayOffice Home and Student 20212 Year Onsite�Warranty\n"
     ]
    }
   ],
   "source": [
    "print(df['Product'][0])\n",
    "print(df['Feature'][0])"
   ]
  },
  {
   "cell_type": "code",
   "execution_count": 6,
   "id": "8072a1f9",
   "metadata": {},
   "outputs": [
    {
     "name": "stdout",
     "output_type": "stream",
     "text": [
      "ASUS VivoBook 15 (2022) Core i3 10th Gen - (8 GB/512 GB SSD/Windows 11 Home) X515JA-EJ362WS | X515JA-E...\n",
      "Intel Core i3 Processor (10th Gen)8 GB DDR4 RAM64 bit Windows 11 Operating System512 GB SSD39.62 cm (15.6 inch) DisplayOffice Home and Student 20211 Year Onsite Warranty\n"
     ]
    }
   ],
   "source": [
    "print(df['Product'][2])\n",
    "print(df['Feature'][2])"
   ]
  },
  {
   "cell_type": "code",
   "execution_count": 7,
   "id": "59554688",
   "metadata": {},
   "outputs": [
    {
     "name": "stdout",
     "output_type": "stream",
     "text": [
      "HP Pavilion Ryzen 5 Hexa Core AMD R5-5600H - (8 GB/512 GB SSD/Windows 10/4 GB Graphics/NVIDIA GeForce ...\n",
      "AMD Ryzen 5 Hexa Core Processor8 GB DDR4 RAM64 bit Windows 10 Operating System512 GB SSD39.62 cm (15.6 inch) DisplayHP Documentation, HP e-service, HP BIOS Recovery, HP SSRM, HP Smart, HP Jumpstarts1 Year Onsite Warranty\n"
     ]
    }
   ],
   "source": [
    "print(df['Product'][3])\n",
    "print(df['Feature'][3])"
   ]
  },
  {
   "cell_type": "code",
   "execution_count": 8,
   "id": "5355ff39",
   "metadata": {},
   "outputs": [],
   "source": [
    "def extract_features(row):\n",
    "    product = row['Product']\n",
    "    feature = row['Feature']\n",
    "\n",
    "    brand = re.findall(r'^\\w+', product)\n",
    "    brand = brand[0] if brand else None\n",
    "    \n",
    "    gen = re.findall(r'(?:7th|8th|9th|10th|11th|12th)[\\s\\w]+Gen', feature)\n",
    "    gen = gen[0] if gen else 'Undefine'\n",
    "\n",
    "    os = re.findall(r'(Windows (?:10|11)|Mac OS|Linux|DOS|Chrome)[\\s\\w]*Operating System', feature)\n",
    "    os = os[0] if os else None\n",
    "    \n",
    "    ram_size = re.findall(r'(\\d+) ?(?:GB|TB)', feature)\n",
    "    ram_size = ram_size[0] + ' GB' if ram_size else None\n",
    "    \n",
    "    ram_type = re.findall(r'LPDDR3|LPDDR4X|DDR4|DDR5|RAMMac', feature)\n",
    "    ram_type = ram_type[0] if ram_type else None\n",
    "    \n",
    "    processor = re.findall(r'(?:AMD|Intel|Apple)[\\s\\w]+(?:Core|Ryzen|Celeron|M1|M2|Pentium|Snapdragon|Athlon)[\\s\\w]+Processor', feature)\n",
    "    processor = processor[0] if processor else None\n",
    "    \n",
    "    ssd = re.findall(r'[\\d]+\\s(?:GB|TB)\\s(?:SSD)', product)\n",
    "    ssd = ssd[0] if ssd else 'No SSD'\n",
    "\n",
    "    hdd = re.findall(r'[\\d]+\\s(?:GB|TB)\\s(?:HDD)', product)\n",
    "    hdd = hdd[0] if hdd else 'No HDD'\n",
    "    \n",
    "    display_cm = re.findall(r'[0-9.]+\\s(?:cm)', feature)\n",
    "    display_cm = display_cm[0] if display_cm else None\n",
    "    \n",
    "    return pd.Series([brand, gen, os,  processor, ram_size, ram_type, ssd, hdd, display_cm], \n",
    "                     index=['Brand', 'Generation', 'OS', 'Processor', 'RAM_Size', 'RAM_Type', 'SSD', 'HDD', 'Display'])\n",
    "\n",
    "df[['Brand', 'Generation', 'OS', 'Processor', 'RAM_Size', 'RAM_Type', 'SSD', 'HDD', 'Display']] = df.apply(extract_features, axis=1)"
   ]
  },
  {
   "cell_type": "code",
   "execution_count": 9,
   "id": "c1273c6b",
   "metadata": {},
   "outputs": [
    {
     "data": {
      "text/html": [
       "<div>\n",
       "<style scoped>\n",
       "    .dataframe tbody tr th:only-of-type {\n",
       "        vertical-align: middle;\n",
       "    }\n",
       "\n",
       "    .dataframe tbody tr th {\n",
       "        vertical-align: top;\n",
       "    }\n",
       "\n",
       "    .dataframe thead th {\n",
       "        text-align: right;\n",
       "    }\n",
       "</style>\n",
       "<table border=\"1\" class=\"dataframe\">\n",
       "  <thead>\n",
       "    <tr style=\"text-align: right;\">\n",
       "      <th></th>\n",
       "      <th>Product</th>\n",
       "      <th>Rating</th>\n",
       "      <th>MRP</th>\n",
       "      <th>Feature</th>\n",
       "      <th>Brand</th>\n",
       "      <th>Generation</th>\n",
       "      <th>OS</th>\n",
       "      <th>Processor</th>\n",
       "      <th>RAM_Size</th>\n",
       "      <th>RAM_Type</th>\n",
       "      <th>SSD</th>\n",
       "      <th>HDD</th>\n",
       "      <th>Display</th>\n",
       "    </tr>\n",
       "  </thead>\n",
       "  <tbody>\n",
       "    <tr>\n",
       "      <th>23</th>\n",
       "      <td>Lenovo IdeaPad 1 Ryzen 3 Dual Core 3250U - (8 ...</td>\n",
       "      <td>4.2</td>\n",
       "      <td>₹35,590</td>\n",
       "      <td>AMD Ryzen 3 Dual Core Processor8 GB DDR4 RAM64...</td>\n",
       "      <td>Lenovo</td>\n",
       "      <td>Undefine</td>\n",
       "      <td>Windows 11</td>\n",
       "      <td>AMD Ryzen 3 Dual Core Processor</td>\n",
       "      <td>8 GB</td>\n",
       "      <td>DDR4</td>\n",
       "      <td>512 GB SSD</td>\n",
       "      <td>No HDD</td>\n",
       "      <td>39.62 cm</td>\n",
       "    </tr>\n",
       "    <tr>\n",
       "      <th>164</th>\n",
       "      <td>ASUS TUF Gaming A15 with 90Whr Battery Ryzen 7...</td>\n",
       "      <td>4.6</td>\n",
       "      <td>₹89,990</td>\n",
       "      <td>AMD Ryzen 7 Octa Core Processor16 GB DDR4 RAM6...</td>\n",
       "      <td>ASUS</td>\n",
       "      <td>Undefine</td>\n",
       "      <td>Windows 11</td>\n",
       "      <td>AMD Ryzen 7 Octa Core Processor</td>\n",
       "      <td>16 GB</td>\n",
       "      <td>DDR4</td>\n",
       "      <td>512 GB SSD</td>\n",
       "      <td>No HDD</td>\n",
       "      <td>39.62 cm</td>\n",
       "    </tr>\n",
       "    <tr>\n",
       "      <th>652</th>\n",
       "      <td>MSI Creator 15 Core i7 10th Gen - (32 GB/1 TB ...</td>\n",
       "      <td>NaN</td>\n",
       "      <td>₹2,14,990</td>\n",
       "      <td>Intel Core i7 Processor (10th Gen)32 GB DDR4 R...</td>\n",
       "      <td>MSI</td>\n",
       "      <td>10th Gen</td>\n",
       "      <td>Windows 10</td>\n",
       "      <td>Intel Core i7 Processor</td>\n",
       "      <td>32 GB</td>\n",
       "      <td>DDR4</td>\n",
       "      <td>1 TB SSD</td>\n",
       "      <td>No HDD</td>\n",
       "      <td>39.62 cm</td>\n",
       "    </tr>\n",
       "    <tr>\n",
       "      <th>230</th>\n",
       "      <td>ASUS ROG Strix G15 Advantage Edition with 90Wh...</td>\n",
       "      <td>4.9</td>\n",
       "      <td>₹1,50,990</td>\n",
       "      <td>AMD Ryzen 9 Octa Core Processor16 GB DDR4 RAMW...</td>\n",
       "      <td>ASUS</td>\n",
       "      <td>Undefine</td>\n",
       "      <td>Windows 11</td>\n",
       "      <td>AMD Ryzen 9 Octa Core Processor</td>\n",
       "      <td>16 GB</td>\n",
       "      <td>DDR4</td>\n",
       "      <td>1 TB SSD</td>\n",
       "      <td>No HDD</td>\n",
       "      <td>39.62 cm</td>\n",
       "    </tr>\n",
       "    <tr>\n",
       "      <th>262</th>\n",
       "      <td>Lenovo Ideapad Slim 3i (2021) Core i5 11th Gen...</td>\n",
       "      <td>4.3</td>\n",
       "      <td>₹58,000</td>\n",
       "      <td>Intel Core i5 Processor (11th Gen)8 GB DDR4 RA...</td>\n",
       "      <td>Lenovo</td>\n",
       "      <td>11th Gen</td>\n",
       "      <td>Windows 10</td>\n",
       "      <td>Intel Core i5 Processor</td>\n",
       "      <td>8 GB</td>\n",
       "      <td>DDR4</td>\n",
       "      <td>512 GB SSD</td>\n",
       "      <td>No HDD</td>\n",
       "      <td>35.56 cm</td>\n",
       "    </tr>\n",
       "  </tbody>\n",
       "</table>\n",
       "</div>"
      ],
      "text/plain": [
       "                                               Product  Rating        MRP  \\\n",
       "23   Lenovo IdeaPad 1 Ryzen 3 Dual Core 3250U - (8 ...     4.2    ₹35,590   \n",
       "164  ASUS TUF Gaming A15 with 90Whr Battery Ryzen 7...     4.6    ₹89,990   \n",
       "652  MSI Creator 15 Core i7 10th Gen - (32 GB/1 TB ...     NaN  ₹2,14,990   \n",
       "230  ASUS ROG Strix G15 Advantage Edition with 90Wh...     4.9  ₹1,50,990   \n",
       "262  Lenovo Ideapad Slim 3i (2021) Core i5 11th Gen...     4.3    ₹58,000   \n",
       "\n",
       "                                               Feature   Brand Generation  \\\n",
       "23   AMD Ryzen 3 Dual Core Processor8 GB DDR4 RAM64...  Lenovo   Undefine   \n",
       "164  AMD Ryzen 7 Octa Core Processor16 GB DDR4 RAM6...    ASUS   Undefine   \n",
       "652  Intel Core i7 Processor (10th Gen)32 GB DDR4 R...     MSI   10th Gen   \n",
       "230  AMD Ryzen 9 Octa Core Processor16 GB DDR4 RAMW...    ASUS   Undefine   \n",
       "262  Intel Core i5 Processor (11th Gen)8 GB DDR4 RA...  Lenovo   11th Gen   \n",
       "\n",
       "             OS                        Processor RAM_Size RAM_Type  \\\n",
       "23   Windows 11  AMD Ryzen 3 Dual Core Processor     8 GB     DDR4   \n",
       "164  Windows 11  AMD Ryzen 7 Octa Core Processor    16 GB     DDR4   \n",
       "652  Windows 10          Intel Core i7 Processor    32 GB     DDR4   \n",
       "230  Windows 11  AMD Ryzen 9 Octa Core Processor    16 GB     DDR4   \n",
       "262  Windows 10          Intel Core i5 Processor     8 GB     DDR4   \n",
       "\n",
       "            SSD     HDD   Display  \n",
       "23   512 GB SSD  No HDD  39.62 cm  \n",
       "164  512 GB SSD  No HDD  39.62 cm  \n",
       "652    1 TB SSD  No HDD  39.62 cm  \n",
       "230    1 TB SSD  No HDD  39.62 cm  \n",
       "262  512 GB SSD  No HDD  35.56 cm  "
      ]
     },
     "execution_count": 9,
     "metadata": {},
     "output_type": "execute_result"
    }
   ],
   "source": [
    "df.sample(5)"
   ]
  },
  {
   "cell_type": "code",
   "execution_count": 10,
   "id": "97d228d0",
   "metadata": {},
   "outputs": [],
   "source": [
    "laptop_data = df.drop(['Product', 'Feature', 'Rating'], axis=1)\n",
    "laptop_data = laptop_data[['Brand', 'OS', 'Generation', 'Processor', 'RAM_Type', 'RAM_Size', 'SSD', 'HDD', 'Display', 'MRP']]"
   ]
  },
  {
   "cell_type": "code",
   "execution_count": 11,
   "id": "9094b2ba",
   "metadata": {},
   "outputs": [
    {
     "data": {
      "text/html": [
       "<div>\n",
       "<style scoped>\n",
       "    .dataframe tbody tr th:only-of-type {\n",
       "        vertical-align: middle;\n",
       "    }\n",
       "\n",
       "    .dataframe tbody tr th {\n",
       "        vertical-align: top;\n",
       "    }\n",
       "\n",
       "    .dataframe thead th {\n",
       "        text-align: right;\n",
       "    }\n",
       "</style>\n",
       "<table border=\"1\" class=\"dataframe\">\n",
       "  <thead>\n",
       "    <tr style=\"text-align: right;\">\n",
       "      <th></th>\n",
       "      <th>Brand</th>\n",
       "      <th>OS</th>\n",
       "      <th>Generation</th>\n",
       "      <th>Processor</th>\n",
       "      <th>RAM_Type</th>\n",
       "      <th>RAM_Size</th>\n",
       "      <th>SSD</th>\n",
       "      <th>HDD</th>\n",
       "      <th>Display</th>\n",
       "      <th>MRP</th>\n",
       "    </tr>\n",
       "  </thead>\n",
       "  <tbody>\n",
       "    <tr>\n",
       "      <th>633</th>\n",
       "      <td>Lenovo</td>\n",
       "      <td>Windows 10</td>\n",
       "      <td>11th Gen</td>\n",
       "      <td>Intel Core i5 Processor</td>\n",
       "      <td>DDR4</td>\n",
       "      <td>16 GB</td>\n",
       "      <td>512 GB SSD</td>\n",
       "      <td>No HDD</td>\n",
       "      <td>39.62 cm</td>\n",
       "      <td>₹66,990</td>\n",
       "    </tr>\n",
       "    <tr>\n",
       "      <th>293</th>\n",
       "      <td>Infinix</td>\n",
       "      <td>Windows 11</td>\n",
       "      <td>10th Gen</td>\n",
       "      <td>Intel Core i7 Processor</td>\n",
       "      <td>LPDDR4X</td>\n",
       "      <td>16 GB</td>\n",
       "      <td>512 GB SSD</td>\n",
       "      <td>No HDD</td>\n",
       "      <td>35.56 cm</td>\n",
       "      <td>₹46,990</td>\n",
       "    </tr>\n",
       "    <tr>\n",
       "      <th>198</th>\n",
       "      <td>acer</td>\n",
       "      <td>Windows 10</td>\n",
       "      <td>Undefine</td>\n",
       "      <td>AMD Ryzen 5 Quad Core Processor</td>\n",
       "      <td>DDR4</td>\n",
       "      <td>8 GB</td>\n",
       "      <td>512 GB SSD</td>\n",
       "      <td>No HDD</td>\n",
       "      <td>39.62 cm</td>\n",
       "      <td>₹39,990</td>\n",
       "    </tr>\n",
       "    <tr>\n",
       "      <th>685</th>\n",
       "      <td>DELL</td>\n",
       "      <td>Windows 11</td>\n",
       "      <td>Undefine</td>\n",
       "      <td>AMD Ryzen 7 Octa Core Processor</td>\n",
       "      <td>DDR4</td>\n",
       "      <td>16 GB</td>\n",
       "      <td>512 GB SSD</td>\n",
       "      <td>No HDD</td>\n",
       "      <td>40.64 cm</td>\n",
       "      <td>₹77,990</td>\n",
       "    </tr>\n",
       "    <tr>\n",
       "      <th>164</th>\n",
       "      <td>ASUS</td>\n",
       "      <td>Windows 11</td>\n",
       "      <td>Undefine</td>\n",
       "      <td>AMD Ryzen 7 Octa Core Processor</td>\n",
       "      <td>DDR4</td>\n",
       "      <td>16 GB</td>\n",
       "      <td>512 GB SSD</td>\n",
       "      <td>No HDD</td>\n",
       "      <td>39.62 cm</td>\n",
       "      <td>₹89,990</td>\n",
       "    </tr>\n",
       "  </tbody>\n",
       "</table>\n",
       "</div>"
      ],
      "text/plain": [
       "       Brand          OS Generation                        Processor RAM_Type  \\\n",
       "633   Lenovo  Windows 10   11th Gen          Intel Core i5 Processor     DDR4   \n",
       "293  Infinix  Windows 11   10th Gen          Intel Core i7 Processor  LPDDR4X   \n",
       "198     acer  Windows 10   Undefine  AMD Ryzen 5 Quad Core Processor     DDR4   \n",
       "685     DELL  Windows 11   Undefine  AMD Ryzen 7 Octa Core Processor     DDR4   \n",
       "164     ASUS  Windows 11   Undefine  AMD Ryzen 7 Octa Core Processor     DDR4   \n",
       "\n",
       "    RAM_Size         SSD     HDD   Display      MRP  \n",
       "633    16 GB  512 GB SSD  No HDD  39.62 cm  ₹66,990  \n",
       "293    16 GB  512 GB SSD  No HDD  35.56 cm  ₹46,990  \n",
       "198     8 GB  512 GB SSD  No HDD  39.62 cm  ₹39,990  \n",
       "685    16 GB  512 GB SSD  No HDD  40.64 cm  ₹77,990  \n",
       "164    16 GB  512 GB SSD  No HDD  39.62 cm  ₹89,990  "
      ]
     },
     "execution_count": 11,
     "metadata": {},
     "output_type": "execute_result"
    }
   ],
   "source": [
    "laptop_data.sample(5)"
   ]
  },
  {
   "cell_type": "markdown",
   "id": "86fb62e8",
   "metadata": {},
   "source": [
    "## 3. Data Understanding and Cleaning the Data"
   ]
  },
  {
   "cell_type": "code",
   "execution_count": 12,
   "id": "ca014cf5",
   "metadata": {},
   "outputs": [
    {
     "data": {
      "text/plain": [
       "Brand         0\n",
       "OS            0\n",
       "Generation    0\n",
       "Processor     1\n",
       "RAM_Type      0\n",
       "RAM_Size      0\n",
       "SSD           0\n",
       "HDD           0\n",
       "Display       0\n",
       "MRP           0\n",
       "dtype: int64"
      ]
     },
     "execution_count": 12,
     "metadata": {},
     "output_type": "execute_result"
    }
   ],
   "source": [
    "laptop_data.isna().sum()"
   ]
  },
  {
   "cell_type": "code",
   "execution_count": 13,
   "id": "0465bc7a",
   "metadata": {},
   "outputs": [],
   "source": [
    "df1 = laptop_data[laptop_data.isna().any(axis=1)]"
   ]
  },
  {
   "cell_type": "code",
   "execution_count": 14,
   "id": "2e1fead9",
   "metadata": {},
   "outputs": [
    {
     "data": {
      "text/html": [
       "<div>\n",
       "<style scoped>\n",
       "    .dataframe tbody tr th:only-of-type {\n",
       "        vertical-align: middle;\n",
       "    }\n",
       "\n",
       "    .dataframe tbody tr th {\n",
       "        vertical-align: top;\n",
       "    }\n",
       "\n",
       "    .dataframe thead th {\n",
       "        text-align: right;\n",
       "    }\n",
       "</style>\n",
       "<table border=\"1\" class=\"dataframe\">\n",
       "  <thead>\n",
       "    <tr style=\"text-align: right;\">\n",
       "      <th></th>\n",
       "      <th>Brand</th>\n",
       "      <th>OS</th>\n",
       "      <th>Generation</th>\n",
       "      <th>Processor</th>\n",
       "      <th>RAM_Type</th>\n",
       "      <th>RAM_Size</th>\n",
       "      <th>SSD</th>\n",
       "      <th>HDD</th>\n",
       "      <th>Display</th>\n",
       "      <th>MRP</th>\n",
       "    </tr>\n",
       "  </thead>\n",
       "  <tbody>\n",
       "    <tr>\n",
       "      <th>83</th>\n",
       "      <td>SAMSUNG</td>\n",
       "      <td>Windows 11</td>\n",
       "      <td>Undefine</td>\n",
       "      <td>None</td>\n",
       "      <td>LPDDR4X</td>\n",
       "      <td>4 GB</td>\n",
       "      <td>No SSD</td>\n",
       "      <td>No HDD</td>\n",
       "      <td>35.56 cm</td>\n",
       "      <td>₹32,990</td>\n",
       "    </tr>\n",
       "  </tbody>\n",
       "</table>\n",
       "</div>"
      ],
      "text/plain": [
       "      Brand          OS Generation Processor RAM_Type RAM_Size     SSD  \\\n",
       "83  SAMSUNG  Windows 11   Undefine      None  LPDDR4X     4 GB  No SSD   \n",
       "\n",
       "       HDD   Display      MRP  \n",
       "83  No HDD  35.56 cm  ₹32,990  "
      ]
     },
     "execution_count": 14,
     "metadata": {},
     "output_type": "execute_result"
    }
   ],
   "source": [
    "df1"
   ]
  },
  {
   "cell_type": "code",
   "execution_count": 15,
   "id": "cd81e88e",
   "metadata": {},
   "outputs": [],
   "source": [
    "laptop_data = laptop_data.dropna(how='any',axis=0)"
   ]
  },
  {
   "cell_type": "code",
   "execution_count": 16,
   "id": "8d95f1f5",
   "metadata": {},
   "outputs": [
    {
     "data": {
      "text/plain": [
       "313"
      ]
     },
     "execution_count": 16,
     "metadata": {},
     "output_type": "execute_result"
    }
   ],
   "source": [
    "laptop_data.duplicated().sum()"
   ]
  },
  {
   "cell_type": "code",
   "execution_count": 17,
   "id": "c0b1758a",
   "metadata": {},
   "outputs": [],
   "source": [
    "laptop_data = laptop_data.drop_duplicates()"
   ]
  },
  {
   "cell_type": "code",
   "execution_count": 18,
   "id": "8a4c8218",
   "metadata": {},
   "outputs": [
    {
     "name": "stdout",
     "output_type": "stream",
     "text": [
      "<class 'pandas.core.frame.DataFrame'>\n",
      "Int64Index: 406 entries, 0 to 719\n",
      "Data columns (total 10 columns):\n",
      " #   Column      Non-Null Count  Dtype \n",
      "---  ------      --------------  ----- \n",
      " 0   Brand       406 non-null    object\n",
      " 1   OS          406 non-null    object\n",
      " 2   Generation  406 non-null    object\n",
      " 3   Processor   406 non-null    object\n",
      " 4   RAM_Type    406 non-null    object\n",
      " 5   RAM_Size    406 non-null    object\n",
      " 6   SSD         406 non-null    object\n",
      " 7   HDD         406 non-null    object\n",
      " 8   Display     406 non-null    object\n",
      " 9   MRP         406 non-null    object\n",
      "dtypes: object(10)\n",
      "memory usage: 34.9+ KB\n"
     ]
    }
   ],
   "source": [
    "laptop_data.info()"
   ]
  },
  {
   "cell_type": "code",
   "execution_count": 19,
   "id": "4f15e203",
   "metadata": {},
   "outputs": [
    {
     "data": {
      "text/plain": [
       "ASUS         128\n",
       "Lenovo        62\n",
       "HP            57\n",
       "DELL          56\n",
       "acer          34\n",
       "MSI           28\n",
       "Infinix       14\n",
       "APPLE         13\n",
       "realme         3\n",
       "ALIENWARE      3\n",
       "RedmiBook      2\n",
       "Ultimus        2\n",
       "SAMSUNG        1\n",
       "Vaio           1\n",
       "GIGABYTE       1\n",
       "Nokia          1\n",
       "Name: Brand, dtype: int64"
      ]
     },
     "execution_count": 19,
     "metadata": {},
     "output_type": "execute_result"
    }
   ],
   "source": [
    "laptop_data[\"Brand\"].value_counts()"
   ]
  },
  {
   "cell_type": "code",
   "execution_count": 20,
   "id": "5b65a2e9",
   "metadata": {},
   "outputs": [
    {
     "data": {
      "text/plain": [
       "39.62 cm    235\n",
       "35.56 cm     90\n",
       "33.78 cm     16\n",
       "40.64 cm     15\n",
       "43.94 cm      9\n",
       "29.46 cm      8\n",
       "40.89 cm      8\n",
       "34.04 cm      5\n",
       "35.81 cm      4\n",
       "38.1 cm       4\n",
       "41.15 cm      3\n",
       "88.9 cm       2\n",
       "36.07 cm      2\n",
       "34.54 cm      1\n",
       "33.02 cm      1\n",
       "38.0 cm       1\n",
       "34.29 cm      1\n",
       "42.16 cm      1\n",
       "Name: Display, dtype: int64"
      ]
     },
     "execution_count": 20,
     "metadata": {},
     "output_type": "execute_result"
    }
   ],
   "source": [
    "laptop_data[\"Display\"].value_counts()"
   ]
  },
  {
   "cell_type": "code",
   "execution_count": 21,
   "id": "1dca98bf",
   "metadata": {
    "scrolled": false
   },
   "outputs": [
    {
     "data": {
      "text/plain": [
       "Windows 11    270\n",
       "Windows 10    113\n",
       "Mac OS         13\n",
       "Chrome          6\n",
       "DOS             4\n",
       "Name: OS, dtype: int64"
      ]
     },
     "execution_count": 21,
     "metadata": {},
     "output_type": "execute_result"
    }
   ],
   "source": [
    "laptop_data[\"OS\"].value_counts()"
   ]
  },
  {
   "cell_type": "code",
   "execution_count": 22,
   "id": "6028368b",
   "metadata": {},
   "outputs": [
    {
     "data": {
      "text/plain": [
       "Undefine    163\n",
       "11th Gen    121\n",
       "12th Gen     62\n",
       "10th Gen     53\n",
       "9th Gen       3\n",
       "8th Gen       3\n",
       "7th Gen       1\n",
       "Name: Generation, dtype: int64"
      ]
     },
     "execution_count": 22,
     "metadata": {},
     "output_type": "execute_result"
    }
   ],
   "source": [
    "laptop_data[\"Generation\"].value_counts()"
   ]
  },
  {
   "cell_type": "code",
   "execution_count": 23,
   "id": "7829c7da",
   "metadata": {},
   "outputs": [
    {
     "data": {
      "text/plain": [
       "8 GB      217\n",
       "16 GB     140\n",
       "4 GB       31\n",
       "32 GB      16\n",
       "128 GB      2\n",
       "Name: RAM_Size, dtype: int64"
      ]
     },
     "execution_count": 23,
     "metadata": {},
     "output_type": "execute_result"
    }
   ],
   "source": [
    "laptop_data[\"RAM_Size\"].value_counts()"
   ]
  },
  {
   "cell_type": "code",
   "execution_count": 24,
   "id": "2622d71b",
   "metadata": {},
   "outputs": [
    {
     "data": {
      "text/plain": [
       "DDR4       321\n",
       "DDR5        47\n",
       "LPDDR4X     29\n",
       "RAMMac       8\n",
       "LPDDR3       1\n",
       "Name: RAM_Type, dtype: int64"
      ]
     },
     "execution_count": 24,
     "metadata": {},
     "output_type": "execute_result"
    }
   ],
   "source": [
    "laptop_data[\"RAM_Type\"].value_counts()"
   ]
  },
  {
   "cell_type": "code",
   "execution_count": 25,
   "id": "e1db8263",
   "metadata": {},
   "outputs": [
    {
     "data": {
      "text/plain": [
       "512 GB SSD    216\n",
       "256 GB SSD     87\n",
       "1 TB SSD       69\n",
       "No SSD         22\n",
       "128 GB SSD      6\n",
       "2 TB SSD        6\n",
       "Name: SSD, dtype: int64"
      ]
     },
     "execution_count": 25,
     "metadata": {},
     "output_type": "execute_result"
    }
   ],
   "source": [
    "laptop_data[\"SSD\"].value_counts()"
   ]
  },
  {
   "cell_type": "code",
   "execution_count": 26,
   "id": "29388707",
   "metadata": {},
   "outputs": [
    {
     "data": {
      "text/plain": [
       "No HDD        362\n",
       "1 TB HDD       43\n",
       "256 GB HDD      1\n",
       "Name: HDD, dtype: int64"
      ]
     },
     "execution_count": 26,
     "metadata": {},
     "output_type": "execute_result"
    }
   ],
   "source": [
    "laptop_data[\"HDD\"].value_counts()"
   ]
  },
  {
   "cell_type": "code",
   "execution_count": 27,
   "id": "4e982f06",
   "metadata": {},
   "outputs": [
    {
     "data": {
      "text/plain": [
       "Intel Core i5 Processor                108\n",
       "Intel Core i3 Processor                 68\n",
       "Intel Core i7 Processor                 50\n",
       "AMD Ryzen 5 Hexa Core Processor         41\n",
       "AMD Ryzen 7 Octa Core Processor         37\n",
       "Intel Celeron Dual Core Processor       18\n",
       "AMD Ryzen 3 Dual Core Processor         17\n",
       "AMD Ryzen 9 Octa Core Processor         15\n",
       "Intel Core i9 Processor                 11\n",
       "AMD Ryzen 5 Quad Core Processor          8\n",
       "Apple M1 Processor                       5\n",
       "Apple M1 Pro Processor                   4\n",
       "AMD Ryzen 3 Quad Core Processor          3\n",
       "Apple M2 Processor                       3\n",
       "Intel Pentium Silver Processor           3\n",
       "AMD Ryzen 5 Dual Core Processor          2\n",
       "AMD Athlon Dual Core Processor           2\n",
       "Intel Celeron Quad Core Processor        2\n",
       "Intel OptaneIntel Core i3 Processor      2\n",
       "Intel Pentium Quad Core Processor        2\n",
       "AMD Dual Core Processor                  1\n",
       "Intel Evo Core i5 Processor              1\n",
       "Apple M1 Max Processor                   1\n",
       "AMD Ryzen 7 Quad Core Processor          1\n",
       "AMD Ryzen 3 Hexa Core Processor          1\n",
       "Name: Processor, dtype: int64"
      ]
     },
     "execution_count": 27,
     "metadata": {},
     "output_type": "execute_result"
    }
   ],
   "source": [
    "laptop_data[\"Processor\"].value_counts()"
   ]
  },
  {
   "cell_type": "code",
   "execution_count": 28,
   "id": "4089d7ab",
   "metadata": {},
   "outputs": [],
   "source": [
    "laptop_data.Processor = laptop_data.Processor.apply(lambda x : x.replace('Intel OptaneIntel Core i3 Processor', 'Intel Core i3 Processor'))"
   ]
  },
  {
   "cell_type": "code",
   "execution_count": 29,
   "id": "7be3a722",
   "metadata": {},
   "outputs": [
    {
     "name": "stdout",
     "output_type": "stream",
     "text": [
      "<class 'pandas.core.frame.DataFrame'>\n",
      "Int64Index: 406 entries, 0 to 719\n",
      "Data columns (total 10 columns):\n",
      " #   Column      Non-Null Count  Dtype \n",
      "---  ------      --------------  ----- \n",
      " 0   Brand       406 non-null    object\n",
      " 1   OS          406 non-null    object\n",
      " 2   Generation  406 non-null    object\n",
      " 3   Processor   406 non-null    object\n",
      " 4   RAM_Type    406 non-null    object\n",
      " 5   RAM_Size    406 non-null    object\n",
      " 6   SSD         406 non-null    object\n",
      " 7   HDD         406 non-null    object\n",
      " 8   Display     406 non-null    object\n",
      " 9   MRP         406 non-null    object\n",
      "dtypes: object(10)\n",
      "memory usage: 34.9+ KB\n"
     ]
    }
   ],
   "source": [
    "laptop_data.info()"
   ]
  },
  {
   "cell_type": "code",
   "execution_count": 30,
   "id": "a2d8e3ad",
   "metadata": {},
   "outputs": [
    {
     "data": {
      "text/plain": [
       "No HDD        362\n",
       "1 TB HDD       43\n",
       "256 GB HDD      1\n",
       "Name: HDD, dtype: int64"
      ]
     },
     "execution_count": 30,
     "metadata": {},
     "output_type": "execute_result"
    }
   ],
   "source": [
    "laptop_data.HDD.value_counts()"
   ]
  },
  {
   "cell_type": "code",
   "execution_count": 31,
   "id": "3b46ae19",
   "metadata": {},
   "outputs": [
    {
     "data": {
      "text/plain": [
       "512 GB SSD    216\n",
       "256 GB SSD     87\n",
       "1 TB SSD       69\n",
       "No SSD         22\n",
       "128 GB SSD      6\n",
       "2 TB SSD        6\n",
       "Name: SSD, dtype: int64"
      ]
     },
     "execution_count": 31,
     "metadata": {},
     "output_type": "execute_result"
    }
   ],
   "source": [
    "laptop_data.SSD.value_counts()"
   ]
  },
  {
   "cell_type": "code",
   "execution_count": 32,
   "id": "22006871",
   "metadata": {},
   "outputs": [],
   "source": [
    "laptop_data.MRP = laptop_data.MRP.apply(lambda x : x.replace('₹', '').replace(',', '')).astype(int)\n",
    "laptop_data.RAM_Size = laptop_data.RAM_Size.apply(lambda x : x.replace('GB', '')).astype(int)"
   ]
  },
  {
   "cell_type": "code",
   "execution_count": 33,
   "id": "b073e212",
   "metadata": {},
   "outputs": [
    {
     "data": {
      "text/plain": [
       "array(['256 GB SSD', '512 GB SSD', '1 TB SSD', 'No SSD', '128 GB SSD',\n",
       "       '2 TB SSD'], dtype=object)"
      ]
     },
     "execution_count": 33,
     "metadata": {},
     "output_type": "execute_result"
    }
   ],
   "source": [
    "laptop_data.SSD.unique()"
   ]
  },
  {
   "cell_type": "code",
   "execution_count": 34,
   "id": "c97693c0",
   "metadata": {},
   "outputs": [],
   "source": [
    "laptop_data.SSD = laptop_data.SSD.apply(lambda x : x.replace('1 TB SSD', '1024 GB SSD').replace('2 TB SSD', '2048 GB SSD').replace('No SSD', '0 GB SSD'))\n",
    "laptop_data.SSD = laptop_data.SSD.apply(lambda x : x.replace('GB SSD', '')).astype(int)"
   ]
  },
  {
   "cell_type": "code",
   "execution_count": 35,
   "id": "59be2546",
   "metadata": {},
   "outputs": [
    {
     "data": {
      "text/plain": [
       "array(['No HDD', '1 TB HDD', '256 GB HDD'], dtype=object)"
      ]
     },
     "execution_count": 35,
     "metadata": {},
     "output_type": "execute_result"
    }
   ],
   "source": [
    "df.HDD.unique()"
   ]
  },
  {
   "cell_type": "code",
   "execution_count": 36,
   "id": "a8971220",
   "metadata": {},
   "outputs": [
    {
     "data": {
      "text/plain": [
       "array(['No HDD', '1 TB HDD', '256 GB HDD'], dtype=object)"
      ]
     },
     "execution_count": 36,
     "metadata": {},
     "output_type": "execute_result"
    }
   ],
   "source": [
    "laptop_data.HDD.unique()"
   ]
  },
  {
   "cell_type": "code",
   "execution_count": 37,
   "id": "4b76babc",
   "metadata": {},
   "outputs": [],
   "source": [
    "laptop_data.HDD = laptop_data.HDD.apply(lambda x : x.replace('1 TB HDD', '1024 GB HDD').replace('No HDD', '0 GB HDD'))\n",
    "laptop_data.HDD = laptop_data.HDD.apply(lambda x : x.replace('GB HDD', '')).astype(int)"
   ]
  },
  {
   "cell_type": "code",
   "execution_count": 38,
   "id": "ebf73976",
   "metadata": {},
   "outputs": [
    {
     "data": {
      "text/plain": [
       "39.62 cm    235\n",
       "35.56 cm     90\n",
       "33.78 cm     16\n",
       "40.64 cm     15\n",
       "43.94 cm      9\n",
       "29.46 cm      8\n",
       "40.89 cm      8\n",
       "34.04 cm      5\n",
       "35.81 cm      4\n",
       "38.1 cm       4\n",
       "41.15 cm      3\n",
       "88.9 cm       2\n",
       "36.07 cm      2\n",
       "34.54 cm      1\n",
       "33.02 cm      1\n",
       "38.0 cm       1\n",
       "34.29 cm      1\n",
       "42.16 cm      1\n",
       "Name: Display, dtype: int64"
      ]
     },
     "execution_count": 38,
     "metadata": {},
     "output_type": "execute_result"
    }
   ],
   "source": [
    "laptop_data.Display.value_counts()"
   ]
  },
  {
   "cell_type": "code",
   "execution_count": 39,
   "id": "7b691f21",
   "metadata": {},
   "outputs": [],
   "source": [
    "laptop_data.Display = laptop_data.Display.apply(lambda x : x.replace('cm', '')).astype(float)"
   ]
  },
  {
   "cell_type": "code",
   "execution_count": 40,
   "id": "81c8668b",
   "metadata": {
    "scrolled": false
   },
   "outputs": [
    {
     "name": "stdout",
     "output_type": "stream",
     "text": [
      "<class 'pandas.core.frame.DataFrame'>\n",
      "Int64Index: 406 entries, 0 to 719\n",
      "Data columns (total 10 columns):\n",
      " #   Column      Non-Null Count  Dtype  \n",
      "---  ------      --------------  -----  \n",
      " 0   Brand       406 non-null    object \n",
      " 1   OS          406 non-null    object \n",
      " 2   Generation  406 non-null    object \n",
      " 3   Processor   406 non-null    object \n",
      " 4   RAM_Type    406 non-null    object \n",
      " 5   RAM_Size    406 non-null    int32  \n",
      " 6   SSD         406 non-null    int32  \n",
      " 7   HDD         406 non-null    int32  \n",
      " 8   Display     406 non-null    float64\n",
      " 9   MRP         406 non-null    int32  \n",
      "dtypes: float64(1), int32(4), object(5)\n",
      "memory usage: 28.5+ KB\n"
     ]
    }
   ],
   "source": [
    "laptop_data.info()"
   ]
  },
  {
   "cell_type": "code",
   "execution_count": 41,
   "id": "b02ce921",
   "metadata": {},
   "outputs": [
    {
     "data": {
      "text/html": [
       "<div>\n",
       "<style scoped>\n",
       "    .dataframe tbody tr th:only-of-type {\n",
       "        vertical-align: middle;\n",
       "    }\n",
       "\n",
       "    .dataframe tbody tr th {\n",
       "        vertical-align: top;\n",
       "    }\n",
       "\n",
       "    .dataframe thead th {\n",
       "        text-align: right;\n",
       "    }\n",
       "</style>\n",
       "<table border=\"1\" class=\"dataframe\">\n",
       "  <thead>\n",
       "    <tr style=\"text-align: right;\">\n",
       "      <th></th>\n",
       "      <th>Brand</th>\n",
       "      <th>OS</th>\n",
       "      <th>Generation</th>\n",
       "      <th>Processor</th>\n",
       "      <th>RAM_Type</th>\n",
       "      <th>RAM_Size</th>\n",
       "      <th>SSD</th>\n",
       "      <th>HDD</th>\n",
       "      <th>Display</th>\n",
       "      <th>MRP</th>\n",
       "    </tr>\n",
       "  </thead>\n",
       "  <tbody>\n",
       "    <tr>\n",
       "      <th>0</th>\n",
       "      <td>Lenovo</td>\n",
       "      <td>Windows 11</td>\n",
       "      <td>11th Gen</td>\n",
       "      <td>Intel Core i3 Processor</td>\n",
       "      <td>DDR4</td>\n",
       "      <td>8</td>\n",
       "      <td>256</td>\n",
       "      <td>0</td>\n",
       "      <td>35.56</td>\n",
       "      <td>36990</td>\n",
       "    </tr>\n",
       "    <tr>\n",
       "      <th>1</th>\n",
       "      <td>Lenovo</td>\n",
       "      <td>Windows 11</td>\n",
       "      <td>11th Gen</td>\n",
       "      <td>Intel Core i3 Processor</td>\n",
       "      <td>DDR4</td>\n",
       "      <td>8</td>\n",
       "      <td>512</td>\n",
       "      <td>0</td>\n",
       "      <td>39.62</td>\n",
       "      <td>39990</td>\n",
       "    </tr>\n",
       "    <tr>\n",
       "      <th>2</th>\n",
       "      <td>ASUS</td>\n",
       "      <td>Windows 11</td>\n",
       "      <td>10th Gen</td>\n",
       "      <td>Intel Core i3 Processor</td>\n",
       "      <td>DDR4</td>\n",
       "      <td>8</td>\n",
       "      <td>512</td>\n",
       "      <td>0</td>\n",
       "      <td>39.62</td>\n",
       "      <td>32990</td>\n",
       "    </tr>\n",
       "    <tr>\n",
       "      <th>3</th>\n",
       "      <td>HP</td>\n",
       "      <td>Windows 10</td>\n",
       "      <td>Undefine</td>\n",
       "      <td>AMD Ryzen 5 Hexa Core Processor</td>\n",
       "      <td>DDR4</td>\n",
       "      <td>8</td>\n",
       "      <td>512</td>\n",
       "      <td>0</td>\n",
       "      <td>39.62</td>\n",
       "      <td>49990</td>\n",
       "    </tr>\n",
       "    <tr>\n",
       "      <th>4</th>\n",
       "      <td>ASUS</td>\n",
       "      <td>Windows 11</td>\n",
       "      <td>10th Gen</td>\n",
       "      <td>Intel Core i5 Processor</td>\n",
       "      <td>DDR4</td>\n",
       "      <td>8</td>\n",
       "      <td>512</td>\n",
       "      <td>0</td>\n",
       "      <td>39.62</td>\n",
       "      <td>49990</td>\n",
       "    </tr>\n",
       "    <tr>\n",
       "      <th>5</th>\n",
       "      <td>HP</td>\n",
       "      <td>Windows 11</td>\n",
       "      <td>11th Gen</td>\n",
       "      <td>Intel Core i3 Processor</td>\n",
       "      <td>DDR4</td>\n",
       "      <td>8</td>\n",
       "      <td>256</td>\n",
       "      <td>0</td>\n",
       "      <td>35.56</td>\n",
       "      <td>36990</td>\n",
       "    </tr>\n",
       "    <tr>\n",
       "      <th>6</th>\n",
       "      <td>DELL</td>\n",
       "      <td>Windows 11</td>\n",
       "      <td>11th Gen</td>\n",
       "      <td>Intel Core i3 Processor</td>\n",
       "      <td>DDR4</td>\n",
       "      <td>8</td>\n",
       "      <td>256</td>\n",
       "      <td>1024</td>\n",
       "      <td>39.62</td>\n",
       "      <td>38990</td>\n",
       "    </tr>\n",
       "    <tr>\n",
       "      <th>7</th>\n",
       "      <td>RedmiBook</td>\n",
       "      <td>Windows 11</td>\n",
       "      <td>11th Gen</td>\n",
       "      <td>Intel Core i5 Processor</td>\n",
       "      <td>DDR4</td>\n",
       "      <td>8</td>\n",
       "      <td>512</td>\n",
       "      <td>0</td>\n",
       "      <td>39.62</td>\n",
       "      <td>39990</td>\n",
       "    </tr>\n",
       "    <tr>\n",
       "      <th>8</th>\n",
       "      <td>realme</td>\n",
       "      <td>Windows 10</td>\n",
       "      <td>11th Gen</td>\n",
       "      <td>Intel Core i3 Processor</td>\n",
       "      <td>DDR4</td>\n",
       "      <td>8</td>\n",
       "      <td>256</td>\n",
       "      <td>0</td>\n",
       "      <td>35.56</td>\n",
       "      <td>46990</td>\n",
       "    </tr>\n",
       "    <tr>\n",
       "      <th>9</th>\n",
       "      <td>ASUS</td>\n",
       "      <td>Windows 11</td>\n",
       "      <td>Undefine</td>\n",
       "      <td>AMD Ryzen 7 Quad Core Processor</td>\n",
       "      <td>DDR4</td>\n",
       "      <td>16</td>\n",
       "      <td>512</td>\n",
       "      <td>0</td>\n",
       "      <td>35.56</td>\n",
       "      <td>44990</td>\n",
       "    </tr>\n",
       "  </tbody>\n",
       "</table>\n",
       "</div>"
      ],
      "text/plain": [
       "       Brand          OS Generation                        Processor RAM_Type  \\\n",
       "0     Lenovo  Windows 11   11th Gen          Intel Core i3 Processor     DDR4   \n",
       "1     Lenovo  Windows 11   11th Gen          Intel Core i3 Processor     DDR4   \n",
       "2       ASUS  Windows 11   10th Gen          Intel Core i3 Processor     DDR4   \n",
       "3         HP  Windows 10   Undefine  AMD Ryzen 5 Hexa Core Processor     DDR4   \n",
       "4       ASUS  Windows 11   10th Gen          Intel Core i5 Processor     DDR4   \n",
       "5         HP  Windows 11   11th Gen          Intel Core i3 Processor     DDR4   \n",
       "6       DELL  Windows 11   11th Gen          Intel Core i3 Processor     DDR4   \n",
       "7  RedmiBook  Windows 11   11th Gen          Intel Core i5 Processor     DDR4   \n",
       "8     realme  Windows 10   11th Gen          Intel Core i3 Processor     DDR4   \n",
       "9       ASUS  Windows 11   Undefine  AMD Ryzen 7 Quad Core Processor     DDR4   \n",
       "\n",
       "   RAM_Size  SSD   HDD  Display    MRP  \n",
       "0         8  256     0    35.56  36990  \n",
       "1         8  512     0    39.62  39990  \n",
       "2         8  512     0    39.62  32990  \n",
       "3         8  512     0    39.62  49990  \n",
       "4         8  512     0    39.62  49990  \n",
       "5         8  256     0    35.56  36990  \n",
       "6         8  256  1024    39.62  38990  \n",
       "7         8  512     0    39.62  39990  \n",
       "8         8  256     0    35.56  46990  \n",
       "9        16  512     0    35.56  44990  "
      ]
     },
     "execution_count": 41,
     "metadata": {},
     "output_type": "execute_result"
    }
   ],
   "source": [
    "laptop_data.head(10)"
   ]
  },
  {
   "cell_type": "markdown",
   "id": "04f356cb",
   "metadata": {},
   "source": [
    "## 4. Data Analysis"
   ]
  },
  {
   "cell_type": "code",
   "execution_count": 42,
   "id": "e21d8ddb",
   "metadata": {},
   "outputs": [
    {
     "data": {
      "text/plain": [
       "Index(['Brand', 'OS', 'Generation', 'Processor', 'RAM_Type', 'RAM_Size', 'SSD',\n",
       "       'HDD', 'Display', 'MRP'],\n",
       "      dtype='object')"
      ]
     },
     "execution_count": 42,
     "metadata": {},
     "output_type": "execute_result"
    }
   ],
   "source": [
    "laptop_data.columns"
   ]
  },
  {
   "cell_type": "code",
   "execution_count": 43,
   "id": "cb870298",
   "metadata": {},
   "outputs": [
    {
     "data": {
      "image/png": "[encoded data removed]",
      "text/plain": [
       "<Figure size 1600x600 with 1 Axes>"
      ]
     },
     "metadata": {},
     "output_type": "display_data"
    }
   ],
   "source": [
    "plt.figure(figsize=(16,6))\n",
    "sns.boxplot(x = laptop_data['Brand'], y = laptop_data['MRP']);"
   ]
  },
  {
   "cell_type": "code",
   "execution_count": 44,
   "id": "118ee5bd",
   "metadata": {},
   "outputs": [
    {
     "data": {
      "image/png": "[encoded data removed]",
      "text/plain": [
       "<Figure size 1600x600 with 1 Axes>"
      ]
     },
     "metadata": {},
     "output_type": "display_data"
    }
   ],
   "source": [
    "plt.figure(figsize=(16,6))\n",
    "sns.boxplot(x = laptop_data['Processor'], y = laptop_data['MRP'])\n",
    "plt.xticks(rotation ='vertical');"
   ]
  },
  {
   "cell_type": "code",
   "execution_count": 45,
   "id": "7d27a591",
   "metadata": {},
   "outputs": [
    {
     "data": {
      "image/png": "[encoded data removed]",
      "text/plain": [
       "<Figure size 1200x300 with 1 Axes>"
      ]
     },
     "metadata": {},
     "output_type": "display_data"
    }
   ],
   "source": [
    "plt.figure(figsize=(12,3))\n",
    "sns.boxplot(x = laptop_data['MRP']);"
   ]
  },
  {
   "cell_type": "code",
   "execution_count": 46,
   "id": "6798679b",
   "metadata": {
    "scrolled": false
   },
   "outputs": [
    {
     "data": {
      "image/png": "[encoded data removed]",
      "text/plain": [
       "<Figure size 1600x600 with 1 Axes>"
      ]
     },
     "metadata": {},
     "output_type": "display_data"
    }
   ],
   "source": [
    "plt.figure(figsize=(16,6))\n",
    "sns.boxplot(x = laptop_data['Generation'], y = laptop_data['MRP']);"
   ]
  },
  {
   "cell_type": "code",
   "execution_count": 47,
   "id": "4e9a0246",
   "metadata": {},
   "outputs": [
    {
     "data": {
      "image/png": "[encoded data removed]",
      "text/plain": [
       "<Figure size 1600x600 with 1 Axes>"
      ]
     },
     "metadata": {},
     "output_type": "display_data"
    }
   ],
   "source": [
    "plt.figure(figsize=(16,6))\n",
    "sns.boxplot(x = laptop_data['OS'], y = laptop_data['MRP']);"
   ]
  },
  {
   "cell_type": "code",
   "execution_count": 48,
   "id": "2747ba39",
   "metadata": {},
   "outputs": [
    {
     "data": {
      "image/png": "[encoded data removed]",
      "text/plain": [
       "<Figure size 1600x600 with 1 Axes>"
      ]
     },
     "metadata": {},
     "output_type": "display_data"
    }
   ],
   "source": [
    "plt.figure(figsize=(16,6))\n",
    "sns.boxplot(x = laptop_data['SSD'], y = laptop_data['MRP']);"
   ]
  },
  {
   "cell_type": "code",
   "execution_count": 49,
   "id": "84d5a435",
   "metadata": {},
   "outputs": [
    {
     "data": {
      "image/png": "[encoded data removed]",
      "text/plain": [
       "<Figure size 1600x600 with 1 Axes>"
      ]
     },
     "metadata": {},
     "output_type": "display_data"
    }
   ],
   "source": [
    "plt.figure(figsize=(16,6))\n",
    "sns.boxplot(x = laptop_data['HDD'], y = laptop_data['MRP']);"
   ]
  },
  {
   "cell_type": "code",
   "execution_count": 50,
   "id": "f3ed58ad",
   "metadata": {},
   "outputs": [
    {
     "data": {
      "image/png": "[encoded data removed]",
      "text/plain": [
       "<Figure size 1600x600 with 1 Axes>"
      ]
     },
     "metadata": {},
     "output_type": "display_data"
    }
   ],
   "source": [
    "plt.figure(figsize=(16,6))\n",
    "sns.boxplot(x = laptop_data['RAM_Size'], y = laptop_data['MRP']);"
   ]
  },
  {
   "cell_type": "code",
   "execution_count": 51,
   "id": "09280d04",
   "metadata": {},
   "outputs": [
    {
     "data": {
      "image/png": "[encoded data removed]",
      "text/plain": [
       "<Figure size 1600x600 with 1 Axes>"
      ]
     },
     "metadata": {},
     "output_type": "display_data"
    }
   ],
   "source": [
    "plt.figure(figsize=(16,6))\n",
    "sns.boxplot(x = laptop_data['RAM_Type'], y = laptop_data['MRP']);"
   ]
  },
  {
   "cell_type": "code",
   "execution_count": 52,
   "id": "5100f904",
   "metadata": {},
   "outputs": [
    {
     "data": {
      "image/png": "[encoded data removed]",
      "text/plain": [
       "<Figure size 600x500 with 2 Axes>"
      ]
     },
     "metadata": {},
     "output_type": "display_data"
    }
   ],
   "source": [
    "fig = plt.figure(figsize=(6,5))\n",
    "\n",
    "sns.heatmap(laptop_data.corr(), annot = True, cmap='YlGnBu', linewidth=.5)\n",
    "fig.suptitle('Heatmap Laptop Data',fontsize=18, fontweight=\"bold\")\n",
    "fig.tight_layout()\n",
    "plt.show()"
   ]
  },
  {
   "cell_type": "code",
   "execution_count": 53,
   "id": "17bb98a0",
   "metadata": {
    "scrolled": false
   },
   "outputs": [
    {
     "data": {
      "image/png": "[encoded data removed]",
      "text/plain": [
       "<Figure size 1600x1400 with 10 Axes>"
      ]
     },
     "metadata": {},
     "output_type": "display_data"
    }
   ],
   "source": [
    "fig, ax = plt.subplots(5,2, figsize = (16,14))\n",
    "\n",
    "fig.suptitle('Histplot & Box Plot : With Outliers', size = 18, fontweight=\"bold\")\n",
    "sns.kdeplot(ax= ax[0,0], data = laptop_data, x = 'MRP')\n",
    "sns.boxplot(ax= ax[0,1], data = laptop_data, x = 'MRP')\n",
    "sns.kdeplot(ax= ax[1,0], data = laptop_data, x = 'RAM_Size')\n",
    "sns.boxplot(ax= ax[1,1], data = laptop_data, x = 'RAM_Size')\n",
    "sns.kdeplot(ax= ax[2,0], data = laptop_data, x = 'SSD')\n",
    "sns.boxplot(ax= ax[2,1], data = laptop_data, x = 'SSD')\n",
    "sns.kdeplot(ax= ax[3,0], data = laptop_data, x = 'HDD')\n",
    "sns.boxplot(ax= ax[3,1], data = laptop_data, x = 'HDD')\n",
    "sns.kdeplot(ax= ax[4,0], data = laptop_data, x = 'Display')\n",
    "sns.boxplot(ax= ax[4,1], data = laptop_data, x = 'Display')\n",
    "\n",
    "fig.tight_layout()\n",
    "fig.subplots_adjust(top=0.93)\n",
    "plt.show()"
   ]
  },
  {
   "cell_type": "code",
   "execution_count": 54,
   "id": "9722fc62",
   "metadata": {},
   "outputs": [
    {
     "data": {
      "text/html": [
       "<div>\n",
       "<style scoped>\n",
       "    .dataframe tbody tr th:only-of-type {\n",
       "        vertical-align: middle;\n",
       "    }\n",
       "\n",
       "    .dataframe tbody tr th {\n",
       "        vertical-align: top;\n",
       "    }\n",
       "\n",
       "    .dataframe thead th {\n",
       "        text-align: right;\n",
       "    }\n",
       "</style>\n",
       "<table border=\"1\" class=\"dataframe\">\n",
       "  <thead>\n",
       "    <tr style=\"text-align: right;\">\n",
       "      <th></th>\n",
       "      <th>Brand</th>\n",
       "      <th>OS</th>\n",
       "      <th>Generation</th>\n",
       "      <th>Processor</th>\n",
       "      <th>RAM_Type</th>\n",
       "      <th>RAM_Size</th>\n",
       "      <th>SSD</th>\n",
       "      <th>HDD</th>\n",
       "      <th>Display</th>\n",
       "      <th>MRP</th>\n",
       "    </tr>\n",
       "  </thead>\n",
       "  <tbody>\n",
       "    <tr>\n",
       "      <th>142</th>\n",
       "      <td>DELL</td>\n",
       "      <td>Windows 11</td>\n",
       "      <td>Undefine</td>\n",
       "      <td>AMD Ryzen 3 Dual Core Processor</td>\n",
       "      <td>DDR4</td>\n",
       "      <td>8</td>\n",
       "      <td>0</td>\n",
       "      <td>1024</td>\n",
       "      <td>88.9</td>\n",
       "      <td>33099</td>\n",
       "    </tr>\n",
       "    <tr>\n",
       "      <th>349</th>\n",
       "      <td>DELL</td>\n",
       "      <td>Windows 10</td>\n",
       "      <td>11th Gen</td>\n",
       "      <td>Intel Core i5 Processor</td>\n",
       "      <td>DDR4</td>\n",
       "      <td>8</td>\n",
       "      <td>512</td>\n",
       "      <td>0</td>\n",
       "      <td>88.9</td>\n",
       "      <td>63090</td>\n",
       "    </tr>\n",
       "  </tbody>\n",
       "</table>\n",
       "</div>"
      ],
      "text/plain": [
       "    Brand          OS Generation                        Processor RAM_Type  \\\n",
       "142  DELL  Windows 11   Undefine  AMD Ryzen 3 Dual Core Processor     DDR4   \n",
       "349  DELL  Windows 10   11th Gen          Intel Core i5 Processor     DDR4   \n",
       "\n",
       "     RAM_Size  SSD   HDD  Display    MRP  \n",
       "142         8    0  1024     88.9  33099  \n",
       "349         8  512     0     88.9  63090  "
      ]
     },
     "execution_count": 54,
     "metadata": {},
     "output_type": "execute_result"
    }
   ],
   "source": [
    "laptop_data[laptop_data.Display > 50]"
   ]
  },
  {
   "cell_type": "code",
   "execution_count": 55,
   "id": "d5d4427a",
   "metadata": {},
   "outputs": [
    {
     "data": {
      "text/html": [
       "<div>\n",
       "<style scoped>\n",
       "    .dataframe tbody tr th:only-of-type {\n",
       "        vertical-align: middle;\n",
       "    }\n",
       "\n",
       "    .dataframe tbody tr th {\n",
       "        vertical-align: top;\n",
       "    }\n",
       "\n",
       "    .dataframe thead th {\n",
       "        text-align: right;\n",
       "    }\n",
       "</style>\n",
       "<table border=\"1\" class=\"dataframe\">\n",
       "  <thead>\n",
       "    <tr style=\"text-align: right;\">\n",
       "      <th></th>\n",
       "      <th>Brand</th>\n",
       "      <th>OS</th>\n",
       "      <th>Generation</th>\n",
       "      <th>Processor</th>\n",
       "      <th>RAM_Type</th>\n",
       "      <th>RAM_Size</th>\n",
       "      <th>SSD</th>\n",
       "      <th>HDD</th>\n",
       "      <th>Display</th>\n",
       "      <th>MRP</th>\n",
       "    </tr>\n",
       "  </thead>\n",
       "  <tbody>\n",
       "    <tr>\n",
       "      <th>438</th>\n",
       "      <td>acer</td>\n",
       "      <td>Windows 10</td>\n",
       "      <td>7th Gen</td>\n",
       "      <td>Intel Core i5 Processor</td>\n",
       "      <td>DDR4</td>\n",
       "      <td>128</td>\n",
       "      <td>128</td>\n",
       "      <td>1024</td>\n",
       "      <td>39.62</td>\n",
       "      <td>129999</td>\n",
       "    </tr>\n",
       "    <tr>\n",
       "      <th>644</th>\n",
       "      <td>acer</td>\n",
       "      <td>Windows 10</td>\n",
       "      <td>8th Gen</td>\n",
       "      <td>Intel Core i5 Processor</td>\n",
       "      <td>DDR4</td>\n",
       "      <td>128</td>\n",
       "      <td>128</td>\n",
       "      <td>1024</td>\n",
       "      <td>39.62</td>\n",
       "      <td>74590</td>\n",
       "    </tr>\n",
       "  </tbody>\n",
       "</table>\n",
       "</div>"
      ],
      "text/plain": [
       "    Brand          OS Generation                Processor RAM_Type  RAM_Size  \\\n",
       "438  acer  Windows 10    7th Gen  Intel Core i5 Processor     DDR4       128   \n",
       "644  acer  Windows 10    8th Gen  Intel Core i5 Processor     DDR4       128   \n",
       "\n",
       "     SSD   HDD  Display     MRP  \n",
       "438  128  1024    39.62  129999  \n",
       "644  128  1024    39.62   74590  "
      ]
     },
     "execution_count": 55,
     "metadata": {},
     "output_type": "execute_result"
    }
   ],
   "source": [
    "laptop_data[laptop_data.RAM_Size > 64]"
   ]
  },
  {
   "cell_type": "code",
   "execution_count": 56,
   "id": "4ad8c0eb",
   "metadata": {},
   "outputs": [],
   "source": [
    "laptop_data.reset_index()    #this will change the index from timestamp to 0,1,2...n-1\n",
    "laptop_data1 = laptop_data.drop([142,349,438,644])  # will drop the rows"
   ]
  },
  {
   "cell_type": "code",
   "execution_count": 57,
   "id": "c0e9b0a2",
   "metadata": {},
   "outputs": [
    {
     "name": "stdout",
     "output_type": "stream",
     "text": [
      "<class 'pandas.core.frame.DataFrame'>\n",
      "Int64Index: 402 entries, 0 to 719\n",
      "Data columns (total 10 columns):\n",
      " #   Column      Non-Null Count  Dtype  \n",
      "---  ------      --------------  -----  \n",
      " 0   Brand       402 non-null    object \n",
      " 1   OS          402 non-null    object \n",
      " 2   Generation  402 non-null    object \n",
      " 3   Processor   402 non-null    object \n",
      " 4   RAM_Type    402 non-null    object \n",
      " 5   RAM_Size    402 non-null    int32  \n",
      " 6   SSD         402 non-null    int32  \n",
      " 7   HDD         402 non-null    int32  \n",
      " 8   Display     402 non-null    float64\n",
      " 9   MRP         402 non-null    int32  \n",
      "dtypes: float64(1), int32(4), object(5)\n",
      "memory usage: 28.3+ KB\n"
     ]
    }
   ],
   "source": [
    "laptop_data1.info()"
   ]
  },
  {
   "cell_type": "code",
   "execution_count": 58,
   "id": "390b8cb9",
   "metadata": {},
   "outputs": [],
   "source": [
    "laptop_data1.to_csv('laptop_data.csv', index=False)"
   ]
  },
  {
   "cell_type": "raw",
   "id": "aecb318e",
   "metadata": {},
   "source": [
    "# Log Transfermation\n",
    "numeric_feature = ['int32','float64']\n",
    "\n",
    "for n in [n for n in laptop_data1.columns if laptop_data1[n].dtype in numeric_feature]:\n",
    "    laptop_data1[n] = np.log(laptop_data1[n])"
   ]
  },
  {
   "cell_type": "raw",
   "id": "db674aa1",
   "metadata": {},
   "source": [
    "fig, ax = plt.subplots(5,2, figsize = (16,14))\n",
    "\n",
    "fig.suptitle('Histplot & Box Plot : After log Transform', size = 18, fontweight=\"bold\")\n",
    "sns.kdeplot(ax= ax[0,0], data = laptop_data1, x = 'MRP')\n",
    "sns.boxplot(ax= ax[0,1], data = laptop_data1, x = 'MRP')\n",
    "sns.kdeplot(ax= ax[1,0], data = laptop_data1, x = 'RAM_Size')\n",
    "sns.boxplot(ax= ax[1,1], data = laptop_data1, x = 'RAM_Size')\n",
    "sns.kdeplot(ax= ax[2,0], data = laptop_data1, x = 'SSD')\n",
    "sns.boxplot(ax= ax[2,1], data = laptop_data1, x = 'SSD')\n",
    "sns.kdeplot(ax= ax[3,0], data = laptop_data1, x = 'HDD')\n",
    "sns.boxplot(ax= ax[3,1], data = laptop_data1, x = 'HDD')\n",
    "sns.kdeplot(ax= ax[4,0], data = laptop_data1, x = 'Display')\n",
    "sns.boxplot(ax= ax[4,1], data = laptop_data1, x = 'Display')\n",
    "\n",
    "fig.tight_layout()\n",
    "fig.subplots_adjust(top=0.93)\n",
    "plt.show()"
   ]
  },
  {
   "cell_type": "markdown",
   "id": "877ca633",
   "metadata": {},
   "source": [
    "## Sprint - 2 (ML Model Tuning)\n",
    "Congratulations! Elon Musk is happy with your models and insights that\n",
    "you have shared in the previous requirements.\n",
    "Now he wants you to test the models you have created for Underfitting and\n",
    "Overfitting. He wants you to build a best fit model.\n",
    "Todo -\n",
    "1. First try to check if the models you have created are a best fit or not.\n",
    "2. See if applying cross validation helps improve your models\n",
    "performance"
   ]
  },
  {
   "cell_type": "markdown",
   "id": "b6b525ce",
   "metadata": {},
   "source": [
    "## 5. Model Building"
   ]
  },
  {
   "cell_type": "code",
   "execution_count": 59,
   "id": "5b6d4f0f",
   "metadata": {},
   "outputs": [],
   "source": [
    "import statsmodels.api as sm\n",
    "from sklearn.metrics import r2_score\n",
    "from sklearn.preprocessing import LabelEncoder\n",
    "from sklearn.metrics import mean_absolute_percentage_error\n",
    "from sklearn.model_selection import cross_val_score, train_test_split, GridSearchCV, KFold\n",
    "\n",
    "from xgboost import XGBRegressor\n",
    "from sklearn.linear_model import LinearRegression\n",
    "from sklearn.ensemble import RandomForestRegressor\n",
    "from sklearn.ensemble import GradientBoostingRegressor"
   ]
  },
  {
   "cell_type": "code",
   "execution_count": 60,
   "id": "a770cbff",
   "metadata": {},
   "outputs": [
    {
     "data": {
      "text/html": [
       "<div>\n",
       "<style scoped>\n",
       "    .dataframe tbody tr th:only-of-type {\n",
       "        vertical-align: middle;\n",
       "    }\n",
       "\n",
       "    .dataframe tbody tr th {\n",
       "        vertical-align: top;\n",
       "    }\n",
       "\n",
       "    .dataframe thead th {\n",
       "        text-align: right;\n",
       "    }\n",
       "</style>\n",
       "<table border=\"1\" class=\"dataframe\">\n",
       "  <thead>\n",
       "    <tr style=\"text-align: right;\">\n",
       "      <th></th>\n",
       "      <th>Brand</th>\n",
       "      <th>OS</th>\n",
       "      <th>Generation</th>\n",
       "      <th>Processor</th>\n",
       "      <th>RAM_Type</th>\n",
       "      <th>RAM_Size</th>\n",
       "      <th>SSD</th>\n",
       "      <th>HDD</th>\n",
       "      <th>Display</th>\n",
       "      <th>MRP</th>\n",
       "    </tr>\n",
       "  </thead>\n",
       "  <tbody>\n",
       "    <tr>\n",
       "      <th>0</th>\n",
       "      <td>Lenovo</td>\n",
       "      <td>Windows 11</td>\n",
       "      <td>11th Gen</td>\n",
       "      <td>Intel Core i3 Processor</td>\n",
       "      <td>DDR4</td>\n",
       "      <td>8</td>\n",
       "      <td>256</td>\n",
       "      <td>0</td>\n",
       "      <td>35.56</td>\n",
       "      <td>36990</td>\n",
       "    </tr>\n",
       "    <tr>\n",
       "      <th>1</th>\n",
       "      <td>Lenovo</td>\n",
       "      <td>Windows 11</td>\n",
       "      <td>11th Gen</td>\n",
       "      <td>Intel Core i3 Processor</td>\n",
       "      <td>DDR4</td>\n",
       "      <td>8</td>\n",
       "      <td>512</td>\n",
       "      <td>0</td>\n",
       "      <td>39.62</td>\n",
       "      <td>39990</td>\n",
       "    </tr>\n",
       "    <tr>\n",
       "      <th>2</th>\n",
       "      <td>ASUS</td>\n",
       "      <td>Windows 11</td>\n",
       "      <td>10th Gen</td>\n",
       "      <td>Intel Core i3 Processor</td>\n",
       "      <td>DDR4</td>\n",
       "      <td>8</td>\n",
       "      <td>512</td>\n",
       "      <td>0</td>\n",
       "      <td>39.62</td>\n",
       "      <td>32990</td>\n",
       "    </tr>\n",
       "    <tr>\n",
       "      <th>3</th>\n",
       "      <td>HP</td>\n",
       "      <td>Windows 10</td>\n",
       "      <td>Undefine</td>\n",
       "      <td>AMD Ryzen 5 Hexa Core Processor</td>\n",
       "      <td>DDR4</td>\n",
       "      <td>8</td>\n",
       "      <td>512</td>\n",
       "      <td>0</td>\n",
       "      <td>39.62</td>\n",
       "      <td>49990</td>\n",
       "    </tr>\n",
       "    <tr>\n",
       "      <th>4</th>\n",
       "      <td>ASUS</td>\n",
       "      <td>Windows 11</td>\n",
       "      <td>10th Gen</td>\n",
       "      <td>Intel Core i5 Processor</td>\n",
       "      <td>DDR4</td>\n",
       "      <td>8</td>\n",
       "      <td>512</td>\n",
       "      <td>0</td>\n",
       "      <td>39.62</td>\n",
       "      <td>49990</td>\n",
       "    </tr>\n",
       "    <tr>\n",
       "      <th>...</th>\n",
       "      <td>...</td>\n",
       "      <td>...</td>\n",
       "      <td>...</td>\n",
       "      <td>...</td>\n",
       "      <td>...</td>\n",
       "      <td>...</td>\n",
       "      <td>...</td>\n",
       "      <td>...</td>\n",
       "      <td>...</td>\n",
       "      <td>...</td>\n",
       "    </tr>\n",
       "    <tr>\n",
       "      <th>397</th>\n",
       "      <td>DELL</td>\n",
       "      <td>Windows 11</td>\n",
       "      <td>12th Gen</td>\n",
       "      <td>Intel Core i5 Processor</td>\n",
       "      <td>DDR5</td>\n",
       "      <td>16</td>\n",
       "      <td>512</td>\n",
       "      <td>0</td>\n",
       "      <td>33.78</td>\n",
       "      <td>76590</td>\n",
       "    </tr>\n",
       "    <tr>\n",
       "      <th>398</th>\n",
       "      <td>HP</td>\n",
       "      <td>Windows 10</td>\n",
       "      <td>Undefine</td>\n",
       "      <td>AMD Ryzen 7 Octa Core Processor</td>\n",
       "      <td>DDR4</td>\n",
       "      <td>16</td>\n",
       "      <td>512</td>\n",
       "      <td>0</td>\n",
       "      <td>39.62</td>\n",
       "      <td>90000</td>\n",
       "    </tr>\n",
       "    <tr>\n",
       "      <th>399</th>\n",
       "      <td>ASUS</td>\n",
       "      <td>Chrome</td>\n",
       "      <td>Undefine</td>\n",
       "      <td>Intel Celeron Dual Core Processor</td>\n",
       "      <td>DDR4</td>\n",
       "      <td>4</td>\n",
       "      <td>0</td>\n",
       "      <td>0</td>\n",
       "      <td>29.46</td>\n",
       "      <td>23490</td>\n",
       "    </tr>\n",
       "    <tr>\n",
       "      <th>400</th>\n",
       "      <td>ASUS</td>\n",
       "      <td>Windows 11</td>\n",
       "      <td>12th Gen</td>\n",
       "      <td>Intel Core i7 Processor</td>\n",
       "      <td>DDR5</td>\n",
       "      <td>16</td>\n",
       "      <td>512</td>\n",
       "      <td>0</td>\n",
       "      <td>35.56</td>\n",
       "      <td>125990</td>\n",
       "    </tr>\n",
       "    <tr>\n",
       "      <th>401</th>\n",
       "      <td>Lenovo</td>\n",
       "      <td>Windows 10</td>\n",
       "      <td>10th Gen</td>\n",
       "      <td>Intel Core i5 Processor</td>\n",
       "      <td>DDR4</td>\n",
       "      <td>8</td>\n",
       "      <td>256</td>\n",
       "      <td>1024</td>\n",
       "      <td>39.62</td>\n",
       "      <td>50990</td>\n",
       "    </tr>\n",
       "  </tbody>\n",
       "</table>\n",
       "<p>402 rows × 10 columns</p>\n",
       "</div>"
      ],
      "text/plain": [
       "      Brand          OS Generation                          Processor  \\\n",
       "0    Lenovo  Windows 11   11th Gen            Intel Core i3 Processor   \n",
       "1    Lenovo  Windows 11   11th Gen            Intel Core i3 Processor   \n",
       "2      ASUS  Windows 11   10th Gen            Intel Core i3 Processor   \n",
       "3        HP  Windows 10   Undefine    AMD Ryzen 5 Hexa Core Processor   \n",
       "4      ASUS  Windows 11   10th Gen            Intel Core i5 Processor   \n",
       "..      ...         ...        ...                                ...   \n",
       "397    DELL  Windows 11   12th Gen            Intel Core i5 Processor   \n",
       "398      HP  Windows 10   Undefine    AMD Ryzen 7 Octa Core Processor   \n",
       "399    ASUS      Chrome   Undefine  Intel Celeron Dual Core Processor   \n",
       "400    ASUS  Windows 11   12th Gen            Intel Core i7 Processor   \n",
       "401  Lenovo  Windows 10   10th Gen            Intel Core i5 Processor   \n",
       "\n",
       "    RAM_Type  RAM_Size  SSD   HDD  Display     MRP  \n",
       "0       DDR4         8  256     0    35.56   36990  \n",
       "1       DDR4         8  512     0    39.62   39990  \n",
       "2       DDR4         8  512     0    39.62   32990  \n",
       "3       DDR4         8  512     0    39.62   49990  \n",
       "4       DDR4         8  512     0    39.62   49990  \n",
       "..       ...       ...  ...   ...      ...     ...  \n",
       "397     DDR5        16  512     0    33.78   76590  \n",
       "398     DDR4        16  512     0    39.62   90000  \n",
       "399     DDR4         4    0     0    29.46   23490  \n",
       "400     DDR5        16  512     0    35.56  125990  \n",
       "401     DDR4         8  256  1024    39.62   50990  \n",
       "\n",
       "[402 rows x 10 columns]"
      ]
     },
     "execution_count": 60,
     "metadata": {},
     "output_type": "execute_result"
    }
   ],
   "source": [
    "laptop_data1 = pd.read_csv('laptop_data.csv')\n",
    "laptop_data1"
   ]
  },
  {
   "cell_type": "code",
   "execution_count": 61,
   "id": "1035e779",
   "metadata": {},
   "outputs": [],
   "source": [
    "laptop_data1 = laptop_data1.drop(['Brand'], axis=1)"
   ]
  },
  {
   "cell_type": "code",
   "execution_count": 62,
   "id": "68572309",
   "metadata": {},
   "outputs": [],
   "source": [
    "def encoding(feature):\n",
    "    laptop_data1[feature+'_Encoded'] = LabelEncoder().fit_transform(laptop_data1[feature])\n",
    "features = ['OS', 'Generation', 'Processor', 'RAM_Type']"
   ]
  },
  {
   "cell_type": "code",
   "execution_count": 63,
   "id": "99293afd",
   "metadata": {},
   "outputs": [],
   "source": [
    "for i in features: encoding(i)"
   ]
  },
  {
   "cell_type": "code",
   "execution_count": 64,
   "id": "1907b522",
   "metadata": {},
   "outputs": [
    {
     "data": {
      "text/plain": [
       "Index(['OS', 'Generation', 'Processor', 'RAM_Type', 'RAM_Size', 'SSD', 'HDD',\n",
       "       'Display', 'MRP', 'OS_Encoded', 'Generation_Encoded',\n",
       "       'Processor_Encoded', 'RAM_Type_Encoded'],\n",
       "      dtype='object')"
      ]
     },
     "execution_count": 64,
     "metadata": {},
     "output_type": "execute_result"
    }
   ],
   "source": [
    "laptop_data1.columns"
   ]
  },
  {
   "cell_type": "code",
   "execution_count": 65,
   "id": "3b88adfa",
   "metadata": {},
   "outputs": [],
   "source": [
    "laptop_model = laptop_data1[['OS_Encoded', 'Generation_Encoded', 'Processor_Encoded',\n",
    "                            'RAM_Type_Encoded', 'RAM_Size', 'SSD', 'HDD', 'Display', 'MRP']]"
   ]
  },
  {
   "cell_type": "code",
   "execution_count": 66,
   "id": "00c3eca4",
   "metadata": {},
   "outputs": [
    {
     "data": {
      "text/plain": [
       "array([17,  6, 18,  9,  7, 10,  8, 13, 15,  2,  0, 21,  4, 14, 16, 19, 12,\n",
       "       23, 11, 20,  5, 22,  1,  3])"
      ]
     },
     "execution_count": 66,
     "metadata": {},
     "output_type": "execute_result"
    }
   ],
   "source": [
    "laptop_model['Processor_Encoded'].unique()"
   ]
  },
  {
   "cell_type": "code",
   "execution_count": 67,
   "id": "6a8300f8",
   "metadata": {},
   "outputs": [
    {
     "data": {
      "text/plain": [
       "array(['Intel Core i3 Processor', 'AMD Ryzen 5 Hexa Core Processor',\n",
       "       'Intel Core i5 Processor', 'AMD Ryzen 7 Quad Core Processor',\n",
       "       'AMD Ryzen 5 Quad Core Processor',\n",
       "       'AMD Ryzen 9 Octa Core Processor',\n",
       "       'AMD Ryzen 7 Octa Core Processor', 'Apple M1 Processor',\n",
       "       'Intel Celeron Dual Core Processor',\n",
       "       'AMD Ryzen 3 Dual Core Processor',\n",
       "       'AMD Athlon Dual Core Processor', 'Intel Evo Core i5 Processor',\n",
       "       'AMD Ryzen 3 Quad Core Processor', 'Apple M2 Processor',\n",
       "       'Intel Celeron Quad Core Processor', 'Intel Core i7 Processor',\n",
       "       'Apple M1 Pro Processor', 'Intel Pentium Silver Processor',\n",
       "       'Apple M1 Max Processor', 'Intel Core i9 Processor',\n",
       "       'AMD Ryzen 5 Dual Core Processor',\n",
       "       'Intel Pentium Quad Core Processor', 'AMD Dual Core Processor',\n",
       "       'AMD Ryzen 3 Hexa Core Processor'], dtype=object)"
      ]
     },
     "execution_count": 67,
     "metadata": {},
     "output_type": "execute_result"
    }
   ],
   "source": [
    "laptop_data1['Processor'].unique()"
   ]
  },
  {
   "cell_type": "code",
   "execution_count": 68,
   "id": "e3680930",
   "metadata": {},
   "outputs": [],
   "source": [
    "X = laptop_model.drop('MRP',axis=1)\n",
    "y = laptop_model['MRP'].values"
   ]
  },
  {
   "cell_type": "code",
   "execution_count": 69,
   "id": "de99f179",
   "metadata": {},
   "outputs": [],
   "source": [
    "X_train,X_test,y_train,y_test = train_test_split(X,y,test_size=0.2,random_state=20)"
   ]
  },
  {
   "cell_type": "code",
   "execution_count": 70,
   "id": "53f4df0a",
   "metadata": {},
   "outputs": [
    {
     "data": {
      "text/plain": [
       "(321, 8)"
      ]
     },
     "execution_count": 70,
     "metadata": {},
     "output_type": "execute_result"
    }
   ],
   "source": [
    "X_train.shape"
   ]
  },
  {
   "cell_type": "code",
   "execution_count": 71,
   "id": "04593127",
   "metadata": {},
   "outputs": [
    {
     "data": {
      "text/plain": [
       "(81, 8)"
      ]
     },
     "execution_count": 71,
     "metadata": {},
     "output_type": "execute_result"
    }
   ],
   "source": [
    "X_test.shape"
   ]
  },
  {
   "cell_type": "markdown",
   "id": "23e404e2",
   "metadata": {},
   "source": [
    "## 5.1 Linear Regression"
   ]
  },
  {
   "cell_type": "code",
   "execution_count": 72,
   "id": "7147eb13",
   "metadata": {},
   "outputs": [
    {
     "data": {
      "text/plain": [
       "LinearRegression()"
      ]
     },
     "execution_count": 72,
     "metadata": {},
     "output_type": "execute_result"
    }
   ],
   "source": [
    "lin = LinearRegression()\n",
    "lin.fit(X_train,y_train)"
   ]
  },
  {
   "cell_type": "code",
   "execution_count": 73,
   "id": "4721cfe4",
   "metadata": {},
   "outputs": [
    {
     "data": {
      "text/plain": [
       "0.8261274135101588"
      ]
     },
     "execution_count": 73,
     "metadata": {},
     "output_type": "execute_result"
    }
   ],
   "source": [
    "lin.score(X_test,y_test)"
   ]
  },
  {
   "cell_type": "code",
   "execution_count": 74,
   "id": "22b429c4",
   "metadata": {},
   "outputs": [
    {
     "name": "stdout",
     "output_type": "stream",
     "text": [
      "R2 score            : 0.767000451611685\n",
      "MA Percentage Error : 0.27118382078050884\n"
     ]
    }
   ],
   "source": [
    "y_pred_lin = lin.predict(X_test)\n",
    "\n",
    "print('R2 score            :',r2_score(y_pred_lin,y_test))\n",
    "print('MA Percentage Error :',mean_absolute_percentage_error(y_pred_lin,y_test))"
   ]
  },
  {
   "cell_type": "markdown",
   "id": "ae3c6014",
   "metadata": {},
   "source": [
    "## 5.2 Random Forest"
   ]
  },
  {
   "cell_type": "code",
   "execution_count": 75,
   "id": "97f775ae",
   "metadata": {},
   "outputs": [
    {
     "data": {
      "text/plain": [
       "RandomForestRegressor(random_state=20)"
      ]
     },
     "execution_count": 75,
     "metadata": {},
     "output_type": "execute_result"
    }
   ],
   "source": [
    "rf = RandomForestRegressor(random_state=20)\n",
    "rf.fit(X_train,y_train)"
   ]
  },
  {
   "cell_type": "code",
   "execution_count": 76,
   "id": "40865c1e",
   "metadata": {},
   "outputs": [
    {
     "data": {
      "text/plain": [
       "-15155.129354510364"
      ]
     },
     "execution_count": 76,
     "metadata": {},
     "output_type": "execute_result"
    }
   ],
   "source": [
    "np.mean(cross_val_score(rf,X_train,y_train,scoring='neg_mean_absolute_error',cv=3))"
   ]
  },
  {
   "cell_type": "code",
   "execution_count": 77,
   "id": "c48e771f",
   "metadata": {},
   "outputs": [
    {
     "name": "stdout",
     "output_type": "stream",
     "text": [
      "R2 Score            : 0.7916661812923751\n",
      "MA Percentage Error : 0.17535232802094072\n"
     ]
    }
   ],
   "source": [
    "y_pred_rf = rf.predict(X_test)\n",
    "\n",
    "print('R2 Score            :',r2_score(y_pred_rf,y_test))\n",
    "print('MA Percentage Error :',mean_absolute_percentage_error(y_pred_rf,y_test))"
   ]
  },
  {
   "cell_type": "markdown",
   "id": "77cad937",
   "metadata": {},
   "source": [
    "### 5.2.1 Tuning the model using GridSearchCV"
   ]
  },
  {
   "cell_type": "code",
   "execution_count": 78,
   "id": "f0108dc2",
   "metadata": {},
   "outputs": [],
   "source": [
    "parameters = {'n_estimators':range(10,300,10), 'criterion':('mse','mae'), 'max_features':('auto','sqrt')}"
   ]
  },
  {
   "cell_type": "code",
   "execution_count": 79,
   "id": "c64c4a9f",
   "metadata": {},
   "outputs": [
    {
     "data": {
      "text/plain": [
       "GridSearchCV(cv=3, estimator=RandomForestRegressor(random_state=20),\n",
       "             param_grid={'criterion': ('mse', 'mae'),\n",
       "                         'max_features': ('auto', 'sqrt'),\n",
       "                         'n_estimators': range(10, 300, 10)},\n",
       "             scoring='neg_mean_absolute_error')"
      ]
     },
     "execution_count": 79,
     "metadata": {},
     "output_type": "execute_result"
    }
   ],
   "source": [
    "grid_cv = GridSearchCV(rf,parameters,scoring='neg_mean_absolute_error',cv=3)\n",
    "grid_cv.fit(X_train,y_train)"
   ]
  },
  {
   "cell_type": "code",
   "execution_count": 80,
   "id": "57d4eef8",
   "metadata": {},
   "outputs": [
    {
     "data": {
      "text/plain": [
       "-14425.765179952157"
      ]
     },
     "execution_count": 80,
     "metadata": {},
     "output_type": "execute_result"
    }
   ],
   "source": [
    "grid_cv.best_score_"
   ]
  },
  {
   "cell_type": "code",
   "execution_count": 81,
   "id": "21b05114",
   "metadata": {},
   "outputs": [
    {
     "data": {
      "text/plain": [
       "RandomForestRegressor(criterion='mse', max_features='sqrt', n_estimators=240,\n",
       "                      random_state=20)"
      ]
     },
     "execution_count": 81,
     "metadata": {},
     "output_type": "execute_result"
    }
   ],
   "source": [
    "grid_cv.best_estimator_"
   ]
  },
  {
   "cell_type": "code",
   "execution_count": 82,
   "id": "f709653a",
   "metadata": {},
   "outputs": [],
   "source": [
    "tune_pred_rf = grid_cv.best_estimator_.predict(X_test)"
   ]
  },
  {
   "cell_type": "code",
   "execution_count": 83,
   "id": "fe37a915",
   "metadata": {},
   "outputs": [
    {
     "name": "stdout",
     "output_type": "stream",
     "text": [
      "R2 score            : 0.8091861102832967\n",
      "MA Percentage Error : 0.16717865457640718\n"
     ]
    }
   ],
   "source": [
    "print('R2 score            :',r2_score(tune_pred_rf,y_test))\n",
    "print('MA Percentage Error :',mean_absolute_percentage_error(tune_pred_rf,y_test))"
   ]
  },
  {
   "cell_type": "markdown",
   "id": "677ad475",
   "metadata": {},
   "source": [
    "## 5.3 GradientBoostingRegressor"
   ]
  },
  {
   "cell_type": "code",
   "execution_count": 85,
   "id": "e49765aa",
   "metadata": {},
   "outputs": [
    {
     "data": {
      "text/plain": [
       "GradientBoostingRegressor(random_state=20)"
      ]
     },
     "execution_count": 85,
     "metadata": {},
     "output_type": "execute_result"
    }
   ],
   "source": [
    "gbr = GradientBoostingRegressor(random_state = 20)\n",
    "gbr.fit(X_train,y_train)"
   ]
  },
  {
   "cell_type": "code",
   "execution_count": 86,
   "id": "b6ea9734",
   "metadata": {},
   "outputs": [
    {
     "name": "stdout",
     "output_type": "stream",
     "text": [
      "R2 score            : 0.8260056569009526\n",
      "MA Percentage Error : 0.1534705134075279\n"
     ]
    }
   ],
   "source": [
    "y_pred_gbr = gbr.predict(X_test)\n",
    "\n",
    "print('R2 score            :',r2_score(y_pred_gbr,y_test))\n",
    "print('MA Percentage Error :',mean_absolute_percentage_error(y_pred_gbr,y_test))"
   ]
  },
  {
   "cell_type": "markdown",
   "id": "8172e74d",
   "metadata": {},
   "source": [
    "### 5.3.1 Hyperparameter Tuning"
   ]
  },
  {
   "cell_type": "code",
   "execution_count": 87,
   "id": "d475e1ac",
   "metadata": {},
   "outputs": [],
   "source": [
    "crossvalidation=KFold(n_splits=10,shuffle=True,random_state=1)"
   ]
  },
  {
   "cell_type": "code",
   "execution_count": 88,
   "id": "9b45e59b",
   "metadata": {},
   "outputs": [],
   "source": [
    "gbr_tune = GradientBoostingRegressor()\n",
    "search_grid = {'n_estimators':[500,1000,2000],'learning_rate':[.001,0.01,.1],'max_depth':[1,2,4],'subsample':[.5,.75,1],'random_state':[1]}\n",
    "search = GridSearchCV(estimator=gbr_tune,param_grid=search_grid,scoring='neg_mean_squared_error',n_jobs=1,cv=crossvalidation)"
   ]
  },
  {
   "cell_type": "code",
   "execution_count": 89,
   "id": "11d58320",
   "metadata": {},
   "outputs": [
    {
     "data": {
      "text/plain": [
       "{'learning_rate': 0.1,\n",
       " 'max_depth': 1,\n",
       " 'n_estimators': 2000,\n",
       " 'random_state': 1,\n",
       " 'subsample': 1}"
      ]
     },
     "execution_count": 89,
     "metadata": {},
     "output_type": "execute_result"
    }
   ],
   "source": [
    "search.fit(X,y)\n",
    "search.best_params_"
   ]
  },
  {
   "cell_type": "code",
   "execution_count": 90,
   "id": "436fa7b9",
   "metadata": {},
   "outputs": [
    {
     "data": {
      "text/plain": [
       "GradientBoostingRegressor(max_depth=1, n_estimators=2000, random_state=1,\n",
       "                          subsample=1)"
      ]
     },
     "execution_count": 90,
     "metadata": {},
     "output_type": "execute_result"
    }
   ],
   "source": [
    "gbr_tune_1 = GradientBoostingRegressor(n_estimators=2000,learning_rate=0.1,subsample=1,max_depth=1,random_state=1)\n",
    "score = np.mean(cross_val_score(gbr_tune_1,X,y,scoring='neg_mean_squared_error',cv=crossvalidation,n_jobs=1))\n",
    "gbr_tune_1.fit(X_train,y_train)"
   ]
  },
  {
   "cell_type": "code",
   "execution_count": 91,
   "id": "c428f9b2",
   "metadata": {},
   "outputs": [
    {
     "name": "stdout",
     "output_type": "stream",
     "text": [
      "R2 score            : 0.8042084562987672\n",
      "MA Percentage Error : 0.1673460034164616\n"
     ]
    }
   ],
   "source": [
    "y_pred_gbr = gbr_tune_1.predict(X_test)\n",
    "\n",
    "print('R2 score            :',r2_score(y_pred_gbr,y_test))\n",
    "print('MA Percentage Error :',mean_absolute_percentage_error(y_pred_gbr,y_test))"
   ]
  },
  {
   "cell_type": "markdown",
   "id": "1ea42e78",
   "metadata": {},
   "source": [
    "## 5.4 XGBoost"
   ]
  },
  {
   "cell_type": "code",
   "execution_count": 92,
   "id": "b9c8f4e1",
   "metadata": {},
   "outputs": [
    {
     "data": {
      "text/plain": [
       "XGBRegressor(base_score=None, booster=None, callbacks=None,\n",
       "             colsample_bylevel=None, colsample_bynode=None,\n",
       "             colsample_bytree=None, early_stopping_rounds=None,\n",
       "             enable_categorical=False, eval_metric=None, feature_types=None,\n",
       "             gamma=None, gpu_id=None, grow_policy=None, importance_type=None,\n",
       "             interaction_constraints=None, learning_rate=None, max_bin=None,\n",
       "             max_cat_threshold=None, max_cat_to_onehot=None,\n",
       "             max_delta_step=None, max_depth=None, max_leaves=None,\n",
       "             min_child_weight=None, missing=nan, monotone_constraints=None,\n",
       "             n_estimators=100, n_jobs=None, num_parallel_tree=None,\n",
       "             predictor=None, random_state=20, ...)"
      ]
     },
     "execution_count": 92,
     "metadata": {},
     "output_type": "execute_result"
    }
   ],
   "source": [
    "xgb = XGBRegressor(random_state = 20)\n",
    "xgb.fit(X_train,y_train)"
   ]
  },
  {
   "cell_type": "code",
   "execution_count": 93,
   "id": "f3971748",
   "metadata": {},
   "outputs": [
    {
     "name": "stdout",
     "output_type": "stream",
     "text": [
      "R2 score            : 0.7449275259243939\n",
      "MA Percentage Error : 0.1799106195099384\n"
     ]
    }
   ],
   "source": [
    "y_pred_xgb = xgb.predict(X_test)\n",
    "\n",
    "print('R2 score            :',r2_score(y_pred_xgb,y_test))\n",
    "print('MA Percentage Error :',mean_absolute_percentage_error(y_pred_xgb,y_test))"
   ]
  },
  {
   "cell_type": "code",
   "execution_count": 94,
   "id": "4aebae7a",
   "metadata": {},
   "outputs": [],
   "source": [
    "xgb_1 = XGBRegressor()\n",
    "parameters = {'nthread':[4], #when use hyperthread, xgboost may become slower\n",
    "              'objective':['reg:linear'],\n",
    "              'learning_rate': [.03, 0.05, .07], #so called `eta` value\n",
    "              'max_depth': [5, 6, 7],\n",
    "              'min_child_weight': [4],\n",
    "              'silent': [1],\n",
    "              'subsample': [0.7],\n",
    "              'colsample_bytree': [0.7],\n",
    "              'n_estimators': [500]}"
   ]
  },
  {
   "cell_type": "code",
   "execution_count": 95,
   "id": "ff938569",
   "metadata": {},
   "outputs": [
    {
     "name": "stdout",
     "output_type": "stream",
     "text": [
      "Fitting 2 folds for each of 9 candidates, totalling 18 fits\n",
      "[16:04:26] WARNING: C:/buildkite-agent/builds/buildkite-windows-cpu-autoscaling-group-i-08de971ced8a8cdc6-1/xgboost/xgboost-ci-windows/src/objective/regression_obj.cu:213: reg:linear is now deprecated in favor of reg:squarederror.\n",
      "[16:04:26] WARNING: C:/buildkite-agent/builds/buildkite-windows-cpu-autoscaling-group-i-08de971ced8a8cdc6-1/xgboost/xgboost-ci-windows/src/learner.cc:767: \n",
      "Parameters: { \"silent\" } are not used.\n",
      "\n"
     ]
    },
    {
     "data": {
      "text/plain": [
       "GridSearchCV(cv=2,\n",
       "             estimator=XGBRegressor(base_score=None, booster=None,\n",
       "                                    callbacks=None, colsample_bylevel=None,\n",
       "                                    colsample_bynode=None,\n",
       "                                    colsample_bytree=None,\n",
       "                                    early_stopping_rounds=None,\n",
       "                                    enable_categorical=False, eval_metric=None,\n",
       "                                    feature_types=None, gamma=None, gpu_id=None,\n",
       "                                    grow_policy=None, importance_type=None,\n",
       "                                    interaction_constraints=None,\n",
       "                                    learning_rate=None, m...\n",
       "                                    min_child_weight=None, missing=nan,\n",
       "                                    monotone_constraints=None, n_estimators=100,\n",
       "                                    n_jobs=None, num_parallel_tree=None,\n",
       "                                    predictor=None, random_state=None, ...),\n",
       "             n_jobs=5,\n",
       "             param_grid={'colsample_bytree': [0.7],\n",
       "                         'learning_rate': [0.03, 0.05, 0.07],\n",
       "                         'max_depth': [5, 6, 7], 'min_child_weight': [4],\n",
       "                         'n_estimators': [500], 'nthread': [4],\n",
       "                         'objective': ['reg:linear'], 'silent': [1],\n",
       "                         'subsample': [0.7]},\n",
       "             verbose=True)"
      ]
     },
     "execution_count": 95,
     "metadata": {},
     "output_type": "execute_result"
    }
   ],
   "source": [
    "xgb_grid = GridSearchCV(xgb_1, parameters, cv = 2, n_jobs = 5, verbose=True)\n",
    "xgb_grid.fit(X_train,y_train)"
   ]
  },
  {
   "cell_type": "code",
   "execution_count": 96,
   "id": "695ba649",
   "metadata": {},
   "outputs": [
    {
     "data": {
      "text/plain": [
       "0.704484539130881"
      ]
     },
     "execution_count": 96,
     "metadata": {},
     "output_type": "execute_result"
    }
   ],
   "source": [
    "xgb_grid.best_score_"
   ]
  },
  {
   "cell_type": "code",
   "execution_count": 97,
   "id": "c231dc37",
   "metadata": {},
   "outputs": [
    {
     "data": {
      "text/plain": [
       "{'colsample_bytree': 0.7,\n",
       " 'learning_rate': 0.03,\n",
       " 'max_depth': 7,\n",
       " 'min_child_weight': 4,\n",
       " 'n_estimators': 500,\n",
       " 'nthread': 4,\n",
       " 'objective': 'reg:linear',\n",
       " 'silent': 1,\n",
       " 'subsample': 0.7}"
      ]
     },
     "execution_count": 97,
     "metadata": {},
     "output_type": "execute_result"
    }
   ],
   "source": [
    "xgb_grid.best_params_"
   ]
  },
  {
   "cell_type": "code",
   "execution_count": 98,
   "id": "28846447",
   "metadata": {},
   "outputs": [],
   "source": [
    "y_pred_xgb_1 = xgb_grid.predict(X_test)"
   ]
  },
  {
   "cell_type": "code",
   "execution_count": 99,
   "id": "2946a53a",
   "metadata": {},
   "outputs": [
    {
     "name": "stdout",
     "output_type": "stream",
     "text": [
      "R2 score            : 0.8195393803854288\n",
      "MA Percentage Error : 0.17244010429062606\n"
     ]
    }
   ],
   "source": [
    "print('R2 score            :',r2_score(y_pred_xgb_1,y_test))\n",
    "print('MA Percentage Error :',mean_absolute_percentage_error(y_pred_xgb_1,y_test))"
   ]
  },
  {
   "cell_type": "markdown",
   "id": "ffacfcc5",
   "metadata": {},
   "source": [
    "## 6. Actual vs Prediction "
   ]
  },
  {
   "cell_type": "code",
   "execution_count": 100,
   "id": "4dc1e4c9",
   "metadata": {},
   "outputs": [
    {
     "data": {
      "image/png": "[encoded data removed]",
      "text/plain": [
       "<Figure size 800x700 with 1 Axes>"
      ]
     },
     "metadata": {},
     "output_type": "display_data"
    }
   ],
   "source": [
    "fig = plt.figure(figsize=(8,7))\n",
    "\n",
    "sns.scatterplot(x=y_test,y=tune_pred_rf)\n",
    "fig.suptitle('Prediction using Random Forest', fontsize= 18 , fontweight='bold')\n",
    "plt.xlabel(\"Actual\")\n",
    "plt.ylabel(\"Prediction\")\n",
    "\n",
    "fig.tight_layout()\n",
    "fig.subplots_adjust(top=0.92)\n",
    "plt.show()"
   ]
  },
  {
   "cell_type": "markdown",
   "id": "b68098da",
   "metadata": {},
   "source": [
    "## 7. Model Deployement - Using Joblib"
   ]
  },
  {
   "cell_type": "code",
   "execution_count": 101,
   "id": "ed20b658",
   "metadata": {},
   "outputs": [],
   "source": [
    "import joblib"
   ]
  },
  {
   "cell_type": "code",
   "execution_count": 102,
   "id": "2e82d1ec",
   "metadata": {},
   "outputs": [
    {
     "data": {
      "text/plain": [
       "['rf_model.pkl']"
      ]
     },
     "execution_count": 102,
     "metadata": {},
     "output_type": "execute_result"
    }
   ],
   "source": [
    "joblib.dump(grid_cv,'rf_model.pkl')"
   ]
  },
  {
   "cell_type": "code",
   "execution_count": 103,
   "id": "660fd904",
   "metadata": {},
   "outputs": [],
   "source": [
    "model = joblib.load('rf_model.pkl')"
   ]
  },
  {
   "cell_type": "code",
   "execution_count": 104,
   "id": "b184e56e",
   "metadata": {},
   "outputs": [
    {
     "data": {
      "text/plain": [
       "GridSearchCV(cv=3, estimator=RandomForestRegressor(random_state=20),\n",
       "             param_grid={'criterion': ('mse', 'mae'),\n",
       "                         'max_features': ('auto', 'sqrt'),\n",
       "                         'n_estimators': range(10, 300, 10)},\n",
       "             scoring='neg_mean_absolute_error')"
      ]
     },
     "execution_count": 104,
     "metadata": {},
     "output_type": "execute_result"
    }
   ],
   "source": [
    "model"
   ]
  },
  {
   "cell_type": "markdown",
   "id": "5def79bd",
   "metadata": {},
   "source": [
    "# THE END !!"
   ]
  }
 ],
 "metadata": {
  "kernelspec": {
   "display_name": "Python 3 (ipykernel)",
   "language": "python",
   "name": "python3"
  },
  "language_info": {
   "codemirror_mode": {
    "name": "ipython",
    "version": 3
   },
   "file_extension": ".py",
   "mimetype": "text/x-python",
   "name": "python",
   "nbconvert_exporter": "python",
   "pygments_lexer": "ipython3",
   "version": "3.9.13"
  }
 },
 "nbformat": 4,
 "nbformat_minor": 5
}
