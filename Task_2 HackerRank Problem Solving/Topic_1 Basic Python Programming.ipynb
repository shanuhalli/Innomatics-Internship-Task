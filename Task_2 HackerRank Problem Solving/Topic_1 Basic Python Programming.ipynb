{
 "cells": [
  {
   "cell_type": "markdown",
   "id": "ce7d0b41",
   "metadata": {},
   "source": [
    "# Subdomain : Introduction"
   ]
  },
  {
   "cell_type": "markdown",
   "id": "82db805f",
   "metadata": {},
   "source": [
    "## Porblem 1 : Say \"Hello, World!\" With Python\n",
    "**Here is a sample line of code that can be executed in Python:**\n",
    "* print(\"Hello, World!\")\n",
    "\n",
    "**You can just as easily store a string as a variable and then print it to stdout:**\n",
    "* my_string = \"Hello, World!\"\n",
    "* print(my_string)\n",
    "\n",
    "**The above code will print Hello, World! on your screen. Try it yourself in the editor below!**\n"
   ]
  },
  {
   "cell_type": "code",
   "execution_count": 1,
   "id": "015754cf",
   "metadata": {},
   "outputs": [
    {
     "name": "stdout",
     "output_type": "stream",
     "text": [
      "Hello, World!\n"
     ]
    }
   ],
   "source": [
    "my_string= \"Hello, World!\"\n",
    "print(my_string)"
   ]
  },
  {
   "cell_type": "markdown",
   "id": "2d314cd9",
   "metadata": {},
   "source": [
    "## Problem 2 : Python If-Else\n",
    "**Given an integer,n, perform the following conditional actions:**\n",
    "\n",
    "* If n is odd, print Weird\n",
    "* If n is even and in the inclusive range of 2 to 5, print Not Weird\n",
    "* If n is even and in the inclusive range of 6 to 20, print Weird\n",
    "* If n is even and greater than 20, print Not Weird"
   ]
  },
  {
   "cell_type": "code",
   "execution_count": 2,
   "id": "3db321d6",
   "metadata": {},
   "outputs": [
    {
     "name": "stdout",
     "output_type": "stream",
     "text": [
      "24\n",
      "Not Weird\n"
     ]
    }
   ],
   "source": [
    "import math\n",
    "import os\n",
    "import random\n",
    "import re\n",
    "import sys\n",
    "\n",
    "if __name__ == '__main__':\n",
    "    n = int(input().strip())\n",
    "    \n",
    "    if n%2 != 0:\n",
    "        print (\"Weird\")\n",
    "    \n",
    "    elif n%2 == 0 and n>2 and n<=5:\n",
    "        print (\"Not Weird\")\n",
    "        \n",
    "    elif n%2 ==0 and n > 6 and n<=20:\n",
    "        print (\"Weird\")\n",
    "        \n",
    "    else:\n",
    "        print (\"Not Weird\")"
   ]
  },
  {
   "cell_type": "markdown",
   "id": "37a1e85a",
   "metadata": {},
   "source": [
    "## Probelm 3 : Arithmetic Operators\n",
    "**The provided code stub reads two integers from STDIN, a and b.**\n",
    "**Add code to print three lines where:**\n",
    "\n",
    "* 1. The first line contains the sum of the two numbers.\n",
    "* 2. The second line contains the difference of the two numbers (first - second).\n",
    "* 3. The third line contains the product of the two numbers."
   ]
  },
  {
   "cell_type": "code",
   "execution_count": 3,
   "id": "69a925fc",
   "metadata": {},
   "outputs": [
    {
     "name": "stdout",
     "output_type": "stream",
     "text": [
      "3\n",
      "2\n",
      "5\n",
      "1\n",
      "6\n"
     ]
    }
   ],
   "source": [
    "a = int(input())\n",
    "b = int(input())\n",
    "\n",
    "print (a + b)\n",
    "print (a - b)\n",
    "print (a * b)"
   ]
  },
  {
   "cell_type": "markdown",
   "id": "f6c3c236",
   "metadata": {},
   "source": [
    "## Problem 4 : Python: Division\n",
    "**The provided code stub reads two integers, a and b, from STDIN.**\n",
    "\n",
    "* Add logic to print two lines. The first line should contain the result of integer division,  a//b . \n",
    "* The second line should contain the result of float division,  a/b .\n",
    "* No rounding or formatting is necessary."
   ]
  },
  {
   "cell_type": "code",
   "execution_count": 4,
   "id": "4f346057",
   "metadata": {},
   "outputs": [
    {
     "name": "stdout",
     "output_type": "stream",
     "text": [
      "4\n",
      "3\n",
      "1\n",
      "1.3333333333333333\n"
     ]
    }
   ],
   "source": [
    "a = int(input())\n",
    "b = int(input())\n",
    "\n",
    "print (a//b)\n",
    "print (a/b)"
   ]
  },
  {
   "cell_type": "markdown",
   "id": "31e215a7",
   "metadata": {},
   "source": [
    "## Problem 5 : Loops\n",
    "* **The provided code stub reads and integer, n, from STDIN. For all non-negative integers i < n, print i2.**"
   ]
  },
  {
   "cell_type": "code",
   "execution_count": 5,
   "id": "3d5bd91f",
   "metadata": {},
   "outputs": [
    {
     "name": "stdout",
     "output_type": "stream",
     "text": [
      "5\n",
      "0\n",
      "1\n",
      "4\n",
      "9\n",
      "16\n"
     ]
    }
   ],
   "source": [
    "n = int(input())\n",
    "for i in range (0,n):\n",
    "    print(i**2)"
   ]
  },
  {
   "cell_type": "markdown",
   "id": "bb579dc4",
   "metadata": {},
   "source": [
    "## Problem 6 : Write a function\n",
    "**Given a year, determine whether it is a leap year. If it is a leap year, return the Boolean True, otherwise return False.**\n",
    "\n",
    "* The year can be evenly divided by 4, is a leap year, unless:\n",
    "* The year can be evenly divided by 100, it is NOT a leap year, unless:\n",
    "* The year is also evenly divisible by 400. Then it is a leap year.\n",
    "* This means that in the Gregorian calendar, the years 2000 and 2400 are leap years, while 1800, 1900, 2100, 2200, 2300 and 2500 are NOT leap years."
   ]
  },
  {
   "cell_type": "code",
   "execution_count": 6,
   "id": "f6e051b5",
   "metadata": {},
   "outputs": [
    {
     "name": "stdout",
     "output_type": "stream",
     "text": [
      "1990\n",
      "False\n"
     ]
    }
   ],
   "source": [
    "def is_leap(year):\n",
    "    leap = False\n",
    "    \n",
    "    # Write your logic here\n",
    "    if (year % 400 == 0) and (year % 100 == 0):\n",
    "        leap = True\n",
    "    \n",
    "    elif (year % 4 == 0) and (year % 100 != 0):\n",
    "        leap = True\n",
    "        \n",
    "    else:\n",
    "        pass\n",
    "    \n",
    "    return leap\n",
    "\n",
    "year = int(input())\n",
    "print(is_leap(year))"
   ]
  },
  {
   "cell_type": "markdown",
   "id": "e555a9da",
   "metadata": {},
   "source": [
    "## Problem 7 : Print Function\n",
    "**The included code stub will read an integer, n, from STDIN.**\n",
    "**Without using any string methods, try to print the following:**\n",
    "* 1,2,3,....n\n",
    "\n",
    "**Note that \"...\" represents the consecutive values in between.**"
   ]
  },
  {
   "cell_type": "code",
   "execution_count": 7,
   "id": "8a2a61a6",
   "metadata": {},
   "outputs": [
    {
     "name": "stdout",
     "output_type": "stream",
     "text": [
      "3\n",
      "123"
     ]
    }
   ],
   "source": [
    "n = int(input())\n",
    "for i in range(1,n+1):\n",
    "    print(i, end=\"\")"
   ]
  },
  {
   "cell_type": "markdown",
   "id": "b3917086",
   "metadata": {},
   "source": [
    "# THE END !!!"
   ]
  }
 ],
 "metadata": {
  "kernelspec": {
   "display_name": "Python 3 (ipykernel)",
   "language": "python",
   "name": "python3"
  },
  "language_info": {
   "codemirror_mode": {
    "name": "ipython",
    "version": 3
   },
   "file_extension": ".py",
   "mimetype": "text/x-python",
   "name": "python",
   "nbconvert_exporter": "python",
   "pygments_lexer": "ipython3",
   "version": "3.9.13"
  }
 },
 "nbformat": 4,
 "nbformat_minor": 5
}
